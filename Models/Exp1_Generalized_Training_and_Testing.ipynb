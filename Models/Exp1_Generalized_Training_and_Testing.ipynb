{
  "nbformat": 4,
  "nbformat_minor": 0,
  "metadata": {
    "colab": {
      "provenance": [],
      "gpuType": "T4"
    },
    "kernelspec": {
      "name": "python3",
      "display_name": "Python 3"
    },
    "language_info": {
      "name": "python"
    },
    "accelerator": "GPU"
  },
  "cells": [
    {
      "cell_type": "code",
      "execution_count": null,
      "metadata": {
        "colab": {
          "base_uri": "https://localhost:8080/"
        },
        "id": "3lFSUw-UZRNL",
        "outputId": "76452d68-f703-46b4-be71-e89dce3c5750"
      },
      "outputs": [
        {
          "output_type": "stream",
          "name": "stdout",
          "text": [
            "Thu Dec  7 17:51:46 2023       \n",
            "+-----------------------------------------------------------------------------+\n",
            "| NVIDIA-SMI 525.105.17   Driver Version: 525.105.17   CUDA Version: 12.0     |\n",
            "|-------------------------------+----------------------+----------------------+\n",
            "| GPU  Name        Persistence-M| Bus-Id        Disp.A | Volatile Uncorr. ECC |\n",
            "| Fan  Temp  Perf  Pwr:Usage/Cap|         Memory-Usage | GPU-Util  Compute M. |\n",
            "|                               |                      |               MIG M. |\n",
            "|===============================+======================+======================|\n",
            "|   0  Tesla T4            Off  | 00000000:00:04.0 Off |                    0 |\n",
            "| N/A   53C    P8    10W /  70W |      0MiB / 15360MiB |      0%      Default |\n",
            "|                               |                      |                  N/A |\n",
            "+-------------------------------+----------------------+----------------------+\n",
            "                                                                               \n",
            "+-----------------------------------------------------------------------------+\n",
            "| Processes:                                                                  |\n",
            "|  GPU   GI   CI        PID   Type   Process name                  GPU Memory |\n",
            "|        ID   ID                                                   Usage      |\n",
            "|=============================================================================|\n",
            "|  No running processes found                                                 |\n",
            "+-----------------------------------------------------------------------------+\n"
          ]
        }
      ],
      "source": [
        "!nvidia-smi"
      ]
    },
    {
      "cell_type": "code",
      "source": [
        "from google.colab import drive\n",
        "drive.mount('/content/drive')"
      ],
      "metadata": {
        "colab": {
          "base_uri": "https://localhost:8080/"
        },
        "id": "w41a3ZzKmD5k",
        "outputId": "22c26560-ed92-4874-b921-51fa1f72e285"
      },
      "execution_count": null,
      "outputs": [
        {
          "output_type": "stream",
          "name": "stdout",
          "text": [
            "Mounted at /content/drive\n"
          ]
        }
      ]
    },
    {
      "cell_type": "markdown",
      "source": [
        "import libraries"
      ],
      "metadata": {
        "id": "4K_M6cxWLIUP"
      }
    },
    {
      "cell_type": "code",
      "source": [
        "!git clone https://github.com/rapidsai/rapidsai-csp-utils.git\n",
        "!python rapidsai-csp-utils/colab/pip-install.py"
      ],
      "metadata": {
        "colab": {
          "base_uri": "https://localhost:8080/"
        },
        "id": "QFoJpPOfZu4n",
        "outputId": "ef0ad6e2-ba7b-4ee3-b552-789a0f7ff97a"
      },
      "execution_count": null,
      "outputs": [
        {
          "output_type": "stream",
          "name": "stdout",
          "text": [
            "Cloning into 'rapidsai-csp-utils'...\n",
            "remote: Enumerating objects: 400, done.\u001b[K\n",
            "remote: Counting objects: 100% (131/131), done.\u001b[K\n",
            "remote: Compressing objects: 100% (80/80), done.\u001b[K\n",
            "remote: Total 400 (delta 95), reused 53 (delta 51), pack-reused 269\u001b[K\n",
            "Receiving objects: 100% (400/400), 109.81 KiB | 13.73 MiB/s, done.\n",
            "Resolving deltas: 100% (197/197), done.\n",
            "Collecting pynvml\n",
            "  Downloading pynvml-11.5.0-py3-none-any.whl (53 kB)\n",
            "     ━━━━━━━━━━━━━━━━━━━━━━━━━━━━━━━━━━━━━━━━ 53.1/53.1 kB 1.5 MB/s eta 0:00:00\n",
            "Installing collected packages: pynvml\n",
            "Successfully installed pynvml-11.5.0\n",
            "***********************************************************************\n",
            "Woo! Your instance has the right kind of GPU, a Tesla T4!\n",
            "We will now install RAPIDS cuDF, cuML, and cuGraph via pip! \n",
            "Please stand by, should be quick...\n",
            "***********************************************************************\n",
            "\n",
            "Looking in indexes: https://pypi.org/simple, https://pypi.nvidia.com\n",
            "Collecting cudf-cu11\n",
            "  Downloading https://pypi.nvidia.com/cudf-cu11/cudf_cu11-23.12.0-cp310-cp310-manylinux_2_28_x86_64.whl (506.4 MB)\n",
            "     ━━━━━━━━━━━━━━━━━━━━━━━━━━━━━━━━━━━━━━━━ 506.4/506.4 MB 2.9 MB/s eta 0:00:00\n",
            "Collecting cuml-cu11\n",
            "  Downloading cuml-cu11-23.12.0.tar.gz (6.8 kB)\n",
            "  Preparing metadata (setup.py): started\n",
            "  error: subprocess-exited-with-error\n",
            "\n",
            "  × python setup.py egg_info did not run successfully.\n",
            "  │ exit code: 1\n",
            "  ╰─> See above for output.\n",
            "\n",
            "  note: This error originates from a subprocess, and is likely not a problem with pip.\n",
            "  Preparing metadata (setup.py): finished with status 'error'\n",
            "error: metadata-generation-failed\n",
            "\n",
            "× Encountered error while generating package metadata.\n",
            "╰─> See above for output.\n",
            "\n",
            "note: This is an issue with the package mentioned above, not pip.\n",
            "hint: See above for details.\n",
            "Requirement already satisfied: cupy-cuda11x in /usr/local/lib/python3.10/dist-packages (11.0.0)\n",
            "Requirement already satisfied: numpy<1.26,>=1.20 in /usr/local/lib/python3.10/dist-packages (from cupy-cuda11x) (1.23.5)\n",
            "Requirement already satisfied: fastrlock>=0.5 in /usr/local/lib/python3.10/dist-packages (from cupy-cuda11x) (0.8.2)\n",
            "Traceback (most recent call last):\n",
            "  File \"/content/rapidsai-csp-utils/colab/pip-install.py\", line 54, in <module>\n",
            "    for line in io.TextIOWrapper(output.stdout, encoding=\"utf-8\"):\n",
            "  File \"/usr/lib/python3.10/codecs.py\", line 319, in decode\n",
            "    def decode(self, input, final=False):\n",
            "KeyboardInterrupt\n",
            "^C\n"
          ]
        }
      ]
    },
    {
      "cell_type": "code",
      "source": [
        "import cuml"
      ],
      "metadata": {
        "id": "50Be5VhOZzmS"
      },
      "execution_count": null,
      "outputs": []
    },
    {
      "cell_type": "code",
      "source": [
        "from sklearn.linear_model import LogisticRegression\n",
        "from sklearn.svm import SVC"
      ],
      "metadata": {
        "id": "e1p2oinF9sr8"
      },
      "execution_count": null,
      "outputs": []
    },
    {
      "cell_type": "code",
      "source": [
        "from sklearn.ensemble import ExtraTreesClassifier\n",
        "from sklearn.discriminant_analysis import QuadraticDiscriminantAnalysis"
      ],
      "metadata": {
        "id": "iUrpNaid53MH"
      },
      "execution_count": null,
      "outputs": []
    },
    {
      "cell_type": "code",
      "source": [
        "from xgboost import XGBClassifier"
      ],
      "metadata": {
        "id": "-JbvlyHvzuOK"
      },
      "execution_count": null,
      "outputs": []
    },
    {
      "cell_type": "code",
      "source": [
        "from cuml import LogisticRegression\n",
        "from cuml import SVC\n",
        "from cuml import KNeighborsClassifier\n",
        "from cuml.ensemble import RandomForestClassifier\n",
        "from cuml import LinearSVC"
      ],
      "metadata": {
        "id": "W4m5wsfDu9A3"
      },
      "execution_count": null,
      "outputs": []
    },
    {
      "cell_type": "code",
      "source": [
        "import numpy as np\n",
        "import pandas as pd\n",
        "from sklearn.model_selection import GridSearchCV\n",
        "from sklearn.model_selection import cross_val_score, KFold\n",
        "from sklearn.metrics import make_scorer, precision_score, recall_score, accuracy_score"
      ],
      "metadata": {
        "id": "33GtUJmSb-Uv"
      },
      "execution_count": null,
      "outputs": []
    },
    {
      "cell_type": "markdown",
      "source": [
        "# Civil"
      ],
      "metadata": {
        "id": "cmyLuG02DZ8a"
      }
    },
    {
      "cell_type": "markdown",
      "source": [
        "Loading dataset"
      ],
      "metadata": {
        "id": "ePjZ2ZBkLMgW"
      }
    },
    {
      "cell_type": "code",
      "source": [
        "# loading dataset\n",
        "dataset = pd.read_csv(\"/content/drive/MyDrive/LJP_2023/LJP_Dataset_Files/civil_documents/case_files_civil.csv\")\n",
        "print(len(dataset))\n",
        "dataset.rename(columns = {'judgement':'text'}, inplace = True)\n",
        "dataset = dataset[dataset['label'] != \"Other\" ]\n",
        "dataset[\"label\"] = dataset[\"label\"].replace(\"Accepted\", 1)\n",
        "dataset[\"label\"] = dataset[\"label\"].replace(\"Rejected\", 0)\n",
        "\n",
        "#filter dataset\n",
        "dataset.label.replace([np.inf, -np.inf], np.nan, inplace=True)\n",
        "dataset = dataset.dropna(axis=0, subset=['text'])\n",
        "dataset = dataset.dropna(axis=0, subset=['label'])\n",
        "dataset['label'] = dataset['label'].astype(int)\n",
        "dataset.reset_index(drop=True, inplace=True)\n",
        "dataset = dataset['label']\n",
        "print(dataset) #should have only the label column"
      ],
      "metadata": {
        "colab": {
          "base_uri": "https://localhost:8080/"
        },
        "id": "iYpLQhf0b1Cd",
        "outputId": "4ccc72d6-fed3-4600-8cf0-fcd617bb51b1"
      },
      "execution_count": null,
      "outputs": [
        {
          "output_type": "stream",
          "name": "stdout",
          "text": [
            "34543\n",
            "0        1\n",
            "1        1\n",
            "2        1\n",
            "3        1\n",
            "4        0\n",
            "        ..\n",
            "28208    0\n",
            "28209    1\n",
            "28210    0\n",
            "28211    0\n",
            "28212    1\n",
            "Name: label, Length: 28213, dtype: int64\n"
          ]
        },
        {
          "output_type": "stream",
          "name": "stderr",
          "text": [
            "<ipython-input-4-1d997c02033e>:13: SettingWithCopyWarning: \n",
            "A value is trying to be set on a copy of a slice from a DataFrame.\n",
            "Try using .loc[row_indexer,col_indexer] = value instead\n",
            "\n",
            "See the caveats in the documentation: https://pandas.pydata.org/pandas-docs/stable/user_guide/indexing.html#returning-a-view-versus-a-copy\n",
            "  dataset['label'] = dataset['label'].astype(int)\n"
          ]
        }
      ]
    },
    {
      "cell_type": "code",
      "source": [
        "y=dataset"
      ],
      "metadata": {
        "id": "7y-tUiRhf2go"
      },
      "execution_count": null,
      "outputs": []
    },
    {
      "cell_type": "markdown",
      "source": [
        "Loading embeddings"
      ],
      "metadata": {
        "id": "4kvMOWMILQoF"
      }
    },
    {
      "cell_type": "code",
      "source": [
        "X=np.load(\"/content/drive/MyDrive/LJP_2023/Embeddings/Doc2Vec/Experiment 1/Civil_embedding/doc2vec_civil_all.npy\")"
      ],
      "metadata": {
        "id": "AnY37UUecYOu"
      },
      "execution_count": null,
      "outputs": []
    },
    {
      "cell_type": "markdown",
      "source": [
        "## RandomForest"
      ],
      "metadata": {
        "id": "M1Qc2GMurLNr"
      }
    },
    {
      "cell_type": "code",
      "source": [
        "# Assuming you have a RandomForestClassifier instance 'rf_classifier' and your data 'X', 'y'\n",
        "param_grid = {\n",
        "    'n_estimators': [100, 150, 200, 250, 300, 350, 400, 450]\n",
        "}\n",
        "\n",
        "# Create a dictionary of scoring metrics\n",
        "scoring = {\n",
        "    'precision': make_scorer(precision_score),\n",
        "    'recall': make_scorer(recall_score),\n",
        "    'accuracy': make_scorer(accuracy_score)\n",
        "}\n",
        "\n",
        "grid_search = GridSearchCV(RandomForestClassifier(), param_grid, cv=7, scoring=scoring, refit='accuracy')\n",
        "grid_search.fit(X, y)"
      ],
      "metadata": {
        "colab": {
          "base_uri": "https://localhost:8080/",
          "height": 118
        },
        "id": "ESi-vR9gq5Ly",
        "outputId": "fe4e6075-5b62-4511-fcd0-1b55215522ce"
      },
      "execution_count": null,
      "outputs": [
        {
          "output_type": "execute_result",
          "data": {
            "text/plain": [
              "GridSearchCV(cv=7, estimator=RandomForestClassifier(),\n",
              "             param_grid={'n_estimators': [100, 150, 200, 250, 300, 350, 400,\n",
              "                                          450]},\n",
              "             refit='accuracy',\n",
              "             scoring={'accuracy': make_scorer(accuracy_score),\n",
              "                      'precision': make_scorer(precision_score),\n",
              "                      'recall': make_scorer(recall_score)})"
            ],
            "text/html": [
              "<style>#sk-container-id-2 {color: black;background-color: white;}#sk-container-id-2 pre{padding: 0;}#sk-container-id-2 div.sk-toggleable {background-color: white;}#sk-container-id-2 label.sk-toggleable__label {cursor: pointer;display: block;width: 100%;margin-bottom: 0;padding: 0.3em;box-sizing: border-box;text-align: center;}#sk-container-id-2 label.sk-toggleable__label-arrow:before {content: \"▸\";float: left;margin-right: 0.25em;color: #696969;}#sk-container-id-2 label.sk-toggleable__label-arrow:hover:before {color: black;}#sk-container-id-2 div.sk-estimator:hover label.sk-toggleable__label-arrow:before {color: black;}#sk-container-id-2 div.sk-toggleable__content {max-height: 0;max-width: 0;overflow: hidden;text-align: left;background-color: #f0f8ff;}#sk-container-id-2 div.sk-toggleable__content pre {margin: 0.2em;color: black;border-radius: 0.25em;background-color: #f0f8ff;}#sk-container-id-2 input.sk-toggleable__control:checked~div.sk-toggleable__content {max-height: 200px;max-width: 100%;overflow: auto;}#sk-container-id-2 input.sk-toggleable__control:checked~label.sk-toggleable__label-arrow:before {content: \"▾\";}#sk-container-id-2 div.sk-estimator input.sk-toggleable__control:checked~label.sk-toggleable__label {background-color: #d4ebff;}#sk-container-id-2 div.sk-label input.sk-toggleable__control:checked~label.sk-toggleable__label {background-color: #d4ebff;}#sk-container-id-2 input.sk-hidden--visually {border: 0;clip: rect(1px 1px 1px 1px);clip: rect(1px, 1px, 1px, 1px);height: 1px;margin: -1px;overflow: hidden;padding: 0;position: absolute;width: 1px;}#sk-container-id-2 div.sk-estimator {font-family: monospace;background-color: #f0f8ff;border: 1px dotted black;border-radius: 0.25em;box-sizing: border-box;margin-bottom: 0.5em;}#sk-container-id-2 div.sk-estimator:hover {background-color: #d4ebff;}#sk-container-id-2 div.sk-parallel-item::after {content: \"\";width: 100%;border-bottom: 1px solid gray;flex-grow: 1;}#sk-container-id-2 div.sk-label:hover label.sk-toggleable__label {background-color: #d4ebff;}#sk-container-id-2 div.sk-serial::before {content: \"\";position: absolute;border-left: 1px solid gray;box-sizing: border-box;top: 0;bottom: 0;left: 50%;z-index: 0;}#sk-container-id-2 div.sk-serial {display: flex;flex-direction: column;align-items: center;background-color: white;padding-right: 0.2em;padding-left: 0.2em;position: relative;}#sk-container-id-2 div.sk-item {position: relative;z-index: 1;}#sk-container-id-2 div.sk-parallel {display: flex;align-items: stretch;justify-content: center;background-color: white;position: relative;}#sk-container-id-2 div.sk-item::before, #sk-container-id-2 div.sk-parallel-item::before {content: \"\";position: absolute;border-left: 1px solid gray;box-sizing: border-box;top: 0;bottom: 0;left: 50%;z-index: -1;}#sk-container-id-2 div.sk-parallel-item {display: flex;flex-direction: column;z-index: 1;position: relative;background-color: white;}#sk-container-id-2 div.sk-parallel-item:first-child::after {align-self: flex-end;width: 50%;}#sk-container-id-2 div.sk-parallel-item:last-child::after {align-self: flex-start;width: 50%;}#sk-container-id-2 div.sk-parallel-item:only-child::after {width: 0;}#sk-container-id-2 div.sk-dashed-wrapped {border: 1px dashed gray;margin: 0 0.4em 0.5em 0.4em;box-sizing: border-box;padding-bottom: 0.4em;background-color: white;}#sk-container-id-2 div.sk-label label {font-family: monospace;font-weight: bold;display: inline-block;line-height: 1.2em;}#sk-container-id-2 div.sk-label-container {text-align: center;}#sk-container-id-2 div.sk-container {/* jupyter's `normalize.less` sets `[hidden] { display: none; }` but bootstrap.min.css set `[hidden] { display: none !important; }` so we also need the `!important` here to be able to override the default hidden behavior on the sphinx rendered scikit-learn.org. See: https://github.com/scikit-learn/scikit-learn/issues/21755 */display: inline-block !important;position: relative;}#sk-container-id-2 div.sk-text-repr-fallback {display: none;}</style><div id=\"sk-container-id-2\" class=\"sk-top-container\"><div class=\"sk-text-repr-fallback\"><pre>GridSearchCV(cv=7, estimator=RandomForestClassifier(),\n",
              "             param_grid={&#x27;n_estimators&#x27;: [100, 150, 200, 250, 300, 350, 400,\n",
              "                                          450]},\n",
              "             refit=&#x27;accuracy&#x27;,\n",
              "             scoring={&#x27;accuracy&#x27;: make_scorer(accuracy_score),\n",
              "                      &#x27;precision&#x27;: make_scorer(precision_score),\n",
              "                      &#x27;recall&#x27;: make_scorer(recall_score)})</pre><b>In a Jupyter environment, please rerun this cell to show the HTML representation or trust the notebook. <br />On GitHub, the HTML representation is unable to render, please try loading this page with nbviewer.org.</b></div><div class=\"sk-container\" hidden><div class=\"sk-item sk-dashed-wrapped\"><div class=\"sk-label-container\"><div class=\"sk-label sk-toggleable\"><input class=\"sk-toggleable__control sk-hidden--visually\" id=\"sk-estimator-id-4\" type=\"checkbox\" ><label for=\"sk-estimator-id-4\" class=\"sk-toggleable__label sk-toggleable__label-arrow\">GridSearchCV</label><div class=\"sk-toggleable__content\"><pre>GridSearchCV(cv=7, estimator=RandomForestClassifier(),\n",
              "             param_grid={&#x27;n_estimators&#x27;: [100, 150, 200, 250, 300, 350, 400,\n",
              "                                          450]},\n",
              "             refit=&#x27;accuracy&#x27;,\n",
              "             scoring={&#x27;accuracy&#x27;: make_scorer(accuracy_score),\n",
              "                      &#x27;precision&#x27;: make_scorer(precision_score),\n",
              "                      &#x27;recall&#x27;: make_scorer(recall_score)})</pre></div></div></div><div class=\"sk-parallel\"><div class=\"sk-parallel-item\"><div class=\"sk-item\"><div class=\"sk-label-container\"><div class=\"sk-label sk-toggleable\"><input class=\"sk-toggleable__control sk-hidden--visually\" id=\"sk-estimator-id-5\" type=\"checkbox\" ><label for=\"sk-estimator-id-5\" class=\"sk-toggleable__label sk-toggleable__label-arrow\">estimator: RandomForestClassifier</label><div class=\"sk-toggleable__content\"><pre>RandomForestClassifier()</pre></div></div></div><div class=\"sk-serial\"><div class=\"sk-item\"><div class=\"sk-estimator sk-toggleable\"><input class=\"sk-toggleable__control sk-hidden--visually\" id=\"sk-estimator-id-6\" type=\"checkbox\" ><label for=\"sk-estimator-id-6\" class=\"sk-toggleable__label sk-toggleable__label-arrow\">RandomForestClassifier</label><div class=\"sk-toggleable__content\"><pre>RandomForestClassifier()</pre></div></div></div></div></div></div></div></div></div></div>"
            ]
          },
          "metadata": {},
          "execution_count": 19
        }
      ]
    },
    {
      "cell_type": "markdown",
      "source": [
        "### scores"
      ],
      "metadata": {
        "id": "6qnIao61UKPk"
      }
    },
    {
      "cell_type": "code",
      "source": [
        "best_rf = grid_search.best_estimator_\n",
        "\n",
        "# Getting the results\n",
        "results_df = pd.DataFrame(grid_search.cv_results_)\n",
        "\n",
        "# Printing precision, recall, and accuracy scores\n",
        "print(\"Best Parameters:\", grid_search.best_params_)\n",
        "print(\"Best Score (Accuracy):\", grid_search.best_score_)\n",
        "\n",
        "# Accessing precision, recall, and accuracy scores from results_df\n",
        "print(\"Precision Scores:\", results_df[['param_n_estimators', 'mean_test_precision']])\n",
        "print(\"Recall Scores:\", results_df[['param_n_estimators', 'mean_test_recall']])\n",
        "print(\"Accuracy Scores:\", results_df[['param_n_estimators', 'mean_test_accuracy']])\n"
      ],
      "metadata": {
        "colab": {
          "base_uri": "https://localhost:8080/"
        },
        "id": "Hx7JmaaaR2AV",
        "outputId": "cc63cade-2eb2-4249-e5db-f25595f99a7e"
      },
      "execution_count": null,
      "outputs": [
        {
          "output_type": "stream",
          "name": "stdout",
          "text": [
            "Best Parameters: {'n_estimators': 400}\n",
            "Best Score (Accuracy): 0.6033014344431508\n",
            "Precision Scores:   param_n_estimators  mean_test_precision\n",
            "0                100             0.590170\n",
            "1                150             0.594523\n",
            "2                200             0.599873\n",
            "3                250             0.600444\n",
            "4                300             0.603448\n",
            "5                350             0.606124\n",
            "6                400             0.609847\n",
            "7                450             0.609986\n",
            "Recall Scores:   param_n_estimators  mean_test_recall\n",
            "0                100          0.454614\n",
            "1                150          0.446605\n",
            "2                200          0.446307\n",
            "3                250          0.439347\n",
            "4                300          0.436503\n",
            "5                350          0.438673\n",
            "6                400          0.440693\n",
            "7                450          0.439272\n",
            "Accuracy Scores:   param_n_estimators  mean_test_accuracy\n",
            "0                100            0.593307\n",
            "1                150            0.594830\n",
            "2                200            0.598233\n",
            "3                250            0.597772\n",
            "4                300            0.599154\n",
            "5                350            0.600572\n",
            "6                400            0.603301\n",
            "7                450            0.603231\n"
          ]
        }
      ]
    },
    {
      "cell_type": "code",
      "source": [
        "# Printing precision, recall, and accuracy scores for the best parameters\n",
        "best_precision = results_df[results_df['rank_test_accuracy'] == 1][['param_n_estimators', 'mean_test_precision']]\n",
        "best_recall = results_df[results_df['rank_test_accuracy'] == 1][['param_n_estimators', 'mean_test_recall']]\n",
        "best_accuracy = results_df[results_df['rank_test_accuracy'] == 1][['param_n_estimators', 'mean_test_accuracy']]\n",
        "\n",
        "print(\"\\nBest Precision Scores:\")\n",
        "print(best_precision)\n",
        "\n",
        "print(\"\\nBest Recall Scores:\")\n",
        "print(best_recall)\n",
        "\n",
        "print(\"\\nBest Accuracy Scores:\")\n",
        "print(best_accuracy)"
      ],
      "metadata": {
        "colab": {
          "base_uri": "https://localhost:8080/"
        },
        "id": "uK6WMOWHTrxk",
        "outputId": "6782655a-81b8-4060-fd0d-cb6d7be2a026"
      },
      "execution_count": null,
      "outputs": [
        {
          "output_type": "stream",
          "name": "stdout",
          "text": [
            "\n",
            "Best Precision Scores:\n",
            "  param_n_estimators  mean_test_precision\n",
            "6                400             0.609847\n",
            "\n",
            "Best Recall Scores:\n",
            "  param_n_estimators  mean_test_recall\n",
            "6                400          0.440693\n",
            "\n",
            "Best Accuracy Scores:\n",
            "  param_n_estimators  mean_test_accuracy\n",
            "6                400            0.603301\n"
          ]
        }
      ]
    },
    {
      "cell_type": "code",
      "source": [
        "# To access recall scores for each fold (for demonstration purposes)\n",
        "results = grid_search.cv_results_\n",
        "for fold_idx in range(grid_search.cv):\n",
        "    fold_recall_key = f\"split{fold_idx}_test_recall\"\n",
        "    fold_recall = results[fold_recall_key]\n",
        "    print(f\"Fold {fold_idx + 1} Recall:\", fold_recall)\n",
        "\n",
        "results = grid_search.cv_results_\n",
        "for fold_idx in range(grid_search.cv):\n",
        "    fold_precision_key = f\"split{fold_idx}_test_precision\"\n",
        "    fold_precision = results[fold_precision_key]\n",
        "    print(f\"Fold {fold_idx + 1} Precision:\", fold_precision)\n",
        "\n",
        "results = grid_search.cv_results_\n",
        "for fold_idx in range(grid_search.cv):\n",
        "    fold_accuracy_key = f\"split{fold_idx}_test_accuracy\"\n",
        "    fold_accuracy = results[fold_accuracy_key]\n",
        "    print(f\"Fold {fold_idx + 1} Accuracy:\", fold_accuracy)"
      ],
      "metadata": {
        "colab": {
          "base_uri": "https://localhost:8080/"
        },
        "id": "qJL5v5q9sSX9",
        "outputId": "10d216ee-d68a-4c3c-8c27-963fd3df3291"
      },
      "execution_count": null,
      "outputs": [
        {
          "output_type": "stream",
          "name": "stdout",
          "text": [
            "Fold 1 Recall: [0.61760084 0.61969618 0.62074384 0.61498167 0.617077   0.61079099\n",
            " 0.62022001 0.61760084]\n",
            "Fold 2 Recall: [0.39601886 0.38187533 0.37558931 0.37558931 0.37454164 0.37454164\n",
            " 0.382923   0.37716082]\n",
            "Fold 3 Recall: [0.37768465 0.37297014 0.37349398 0.35463594 0.34992142 0.36039811\n",
            " 0.36144578 0.36196962]\n",
            "Fold 4 Recall: [0.40806705 0.40440021 0.39549502 0.38344683 0.38135149 0.38658984\n",
            " 0.38187533 0.37925616]\n",
            "Fold 5 Recall: [0.37768465 0.35882661 0.35620744 0.35463594 0.34677842 0.35201676\n",
            " 0.35463594 0.34992142]\n",
            "Fold 6 Recall: [0.41509434 0.39937107 0.40303983 0.38888889 0.38469602 0.38731656\n",
            " 0.3836478  0.38574423]\n",
            "Fold 7 Recall: [0.59014675 0.58909853 0.59958071 0.60324948 0.60115304 0.5990566\n",
            " 0.60010482 0.60324948]\n",
            "Fold 1 Precision: [0.77565789 0.79556153 0.80722071 0.81189488 0.82782853 0.81997187\n",
            " 0.82508711 0.82736842]\n",
            "Fold 2 Precision: [0.54038599 0.53920118 0.54195011 0.54691076 0.55772231 0.55383424\n",
            " 0.56274057 0.56118472]\n",
            "Fold 3 Precision: [0.50774648 0.51594203 0.51331893 0.5071161  0.50798479 0.51924528\n",
            " 0.52352049 0.52308857]\n",
            "Fold 4 Precision: [0.49460317 0.49140675 0.4905783  0.48444739 0.48891874 0.48809524\n",
            " 0.48959033 0.48852901]\n",
            "Fold 5 Precision: [0.50349162 0.48928571 0.49743965 0.50036955 0.49219331 0.49962825\n",
            " 0.50148148 0.5       ]\n",
            "Fold 6 Precision: [0.56410256 0.57336343 0.58081571 0.5751938  0.5734375  0.58188976\n",
            " 0.58653846 0.58832934]\n",
            "Fold 7 Precision: [0.74520185 0.75690236 0.76778523 0.77717758 0.77604871 0.78020478\n",
            " 0.77997275 0.78139851]\n",
            "Fold 1 Accuracy: [0.7343091  0.74448028 0.75018606 0.75018606 0.75787646 0.75217068\n",
            " 0.75787646 0.75787646]\n",
            "Fold 2 Accuracy: [0.55445299 0.55271645 0.55395683 0.55693376 0.5631357  0.560903\n",
            " 0.56685686 0.56536839]\n",
            "Fold 3 Accuracy: [0.53187795 0.53733565 0.53559911 0.53113371 0.53162987 0.53907219\n",
            " 0.54180104 0.54155296]\n",
            "Fold 4 Accuracy: [0.52208437 0.51960298 0.5191067  0.5146402  0.51811414 0.51736973\n",
            " 0.51861042 0.517866  ]\n",
            "Fold 5 Accuracy: [0.52878412 0.51885856 0.52456576 0.52655087 0.52109181 0.52605459\n",
            " 0.52729529 0.52630273]\n",
            "Fold 6 Accuracy: [0.57121588 0.57493797 0.57965261 0.57468983 0.57320099 0.57816377\n",
            " 0.58014888 0.58138958]\n",
            "Fold 7 Accuracy: [0.71042184 0.71588089 0.72456576 0.73027295 0.72903226 0.73027295\n",
            " 0.73052109 0.73225806]\n"
          ]
        }
      ]
    },
    {
      "cell_type": "code",
      "source": [
        "# Initialize variables to store the best accuracy and its corresponding fold index\n",
        "best_accuracy = 0.0\n",
        "best_fold_index = -1\n",
        "\n",
        "# Iterate through each fold to find the one with the highest accuracy\n",
        "for fold_idx in range(grid_search.cv):\n",
        "    fold_accuracy_key = f\"split{fold_idx}_test_accuracy\"\n",
        "    fold_accuracy = results[fold_accuracy_key]\n",
        "\n",
        "    max_fold_accuracy = max(fold_accuracy)\n",
        "    if max_fold_accuracy > best_accuracy:\n",
        "        best_accuracy = max_fold_accuracy\n",
        "        best_fold_index = fold_idx\n",
        "\n",
        "# If a fold with the highest accuracy is found, retrieve its precision, recall, and parameters\n",
        "if best_fold_index != -1:\n",
        "    fold_precision_key = f\"split{best_fold_index}_test_precision\"\n",
        "    fold_recall_key = f\"split{best_fold_index}_test_recall\"\n",
        "    fold_params = results['params'][best_fold_index]\n",
        "\n",
        "    best_fold_precision = results[fold_precision_key][best_accuracy.argmax()]\n",
        "    best_fold_recall = results[fold_recall_key][best_accuracy.argmax()]\n",
        "\n",
        "    # Printing the best accuracy value, its corresponding precision, recall, and parameters\n",
        "    print(f\"Best Accuracy: {best_accuracy}\")\n",
        "    print(f\"Corresponding Precision: {best_fold_precision}\")\n",
        "    print(f\"Corresponding Recall: {best_fold_recall}\")\n",
        "    # print(f\"Parameters for Best Accuracy: {fold_params}\")\n",
        "else:\n",
        "    print(\"No fold found with the highest accuracy.\")\n"
      ],
      "metadata": {
        "colab": {
          "base_uri": "https://localhost:8080/"
        },
        "id": "pCTT5NCZZ3Zm",
        "outputId": "7f11c5d2-d211-43ed-8fb5-4ca77b424c24"
      },
      "execution_count": null,
      "outputs": [
        {
          "output_type": "stream",
          "name": "stdout",
          "text": [
            "Best Accuracy: 0.7578764574547259\n",
            "Corresponding Precision: 0.7756578947368421\n",
            "Corresponding Recall: 0.6176008381351493\n"
          ]
        }
      ]
    },
    {
      "cell_type": "markdown",
      "source": [
        "## ExtraTreesClassifier"
      ],
      "metadata": {
        "id": "6SrOO21z5Z9D"
      }
    },
    {
      "cell_type": "code",
      "source": [
        "from sklearn.model_selection import GridSearchCV\n",
        "from sklearn.metrics import make_scorer, precision_score, recall_score, accuracy_score\n",
        "\n",
        "# Assuming you have a RandomForestClassifier instance 'rf_classifier' and your data 'X', 'y'\n",
        "param_grid = {\n",
        "    'n_estimators': [100, 250, 400]\n",
        "}\n",
        "\n",
        "# Create a dictionary of scoring metrics\n",
        "scoring = {\n",
        "    'precision': make_scorer(precision_score),\n",
        "    'recall': make_scorer(recall_score),\n",
        "    'accuracy': make_scorer(accuracy_score)\n",
        "}\n",
        "\n",
        "grid_search = GridSearchCV(ExtraTreesClassifier(n_jobs=-1), param_grid, cv=7, scoring=scoring, refit='accuracy')\n",
        "grid_search.fit(X, y)"
      ],
      "metadata": {
        "colab": {
          "base_uri": "https://localhost:8080/",
          "height": 118
        },
        "outputId": "04f1c7e1-c20e-44ba-bffb-4725a5f52d6a",
        "id": "4bievj2Y5Z9D"
      },
      "execution_count": null,
      "outputs": [
        {
          "output_type": "execute_result",
          "data": {
            "text/plain": [
              "GridSearchCV(cv=7, estimator=ExtraTreesClassifier(n_jobs=-1),\n",
              "             param_grid={'n_estimators': [100, 250, 400]}, refit='accuracy',\n",
              "             scoring={'accuracy': make_scorer(accuracy_score),\n",
              "                      'precision': make_scorer(precision_score),\n",
              "                      'recall': make_scorer(recall_score)})"
            ],
            "text/html": [
              "<style>#sk-container-id-4 {color: black;background-color: white;}#sk-container-id-4 pre{padding: 0;}#sk-container-id-4 div.sk-toggleable {background-color: white;}#sk-container-id-4 label.sk-toggleable__label {cursor: pointer;display: block;width: 100%;margin-bottom: 0;padding: 0.3em;box-sizing: border-box;text-align: center;}#sk-container-id-4 label.sk-toggleable__label-arrow:before {content: \"▸\";float: left;margin-right: 0.25em;color: #696969;}#sk-container-id-4 label.sk-toggleable__label-arrow:hover:before {color: black;}#sk-container-id-4 div.sk-estimator:hover label.sk-toggleable__label-arrow:before {color: black;}#sk-container-id-4 div.sk-toggleable__content {max-height: 0;max-width: 0;overflow: hidden;text-align: left;background-color: #f0f8ff;}#sk-container-id-4 div.sk-toggleable__content pre {margin: 0.2em;color: black;border-radius: 0.25em;background-color: #f0f8ff;}#sk-container-id-4 input.sk-toggleable__control:checked~div.sk-toggleable__content {max-height: 200px;max-width: 100%;overflow: auto;}#sk-container-id-4 input.sk-toggleable__control:checked~label.sk-toggleable__label-arrow:before {content: \"▾\";}#sk-container-id-4 div.sk-estimator input.sk-toggleable__control:checked~label.sk-toggleable__label {background-color: #d4ebff;}#sk-container-id-4 div.sk-label input.sk-toggleable__control:checked~label.sk-toggleable__label {background-color: #d4ebff;}#sk-container-id-4 input.sk-hidden--visually {border: 0;clip: rect(1px 1px 1px 1px);clip: rect(1px, 1px, 1px, 1px);height: 1px;margin: -1px;overflow: hidden;padding: 0;position: absolute;width: 1px;}#sk-container-id-4 div.sk-estimator {font-family: monospace;background-color: #f0f8ff;border: 1px dotted black;border-radius: 0.25em;box-sizing: border-box;margin-bottom: 0.5em;}#sk-container-id-4 div.sk-estimator:hover {background-color: #d4ebff;}#sk-container-id-4 div.sk-parallel-item::after {content: \"\";width: 100%;border-bottom: 1px solid gray;flex-grow: 1;}#sk-container-id-4 div.sk-label:hover label.sk-toggleable__label {background-color: #d4ebff;}#sk-container-id-4 div.sk-serial::before {content: \"\";position: absolute;border-left: 1px solid gray;box-sizing: border-box;top: 0;bottom: 0;left: 50%;z-index: 0;}#sk-container-id-4 div.sk-serial {display: flex;flex-direction: column;align-items: center;background-color: white;padding-right: 0.2em;padding-left: 0.2em;position: relative;}#sk-container-id-4 div.sk-item {position: relative;z-index: 1;}#sk-container-id-4 div.sk-parallel {display: flex;align-items: stretch;justify-content: center;background-color: white;position: relative;}#sk-container-id-4 div.sk-item::before, #sk-container-id-4 div.sk-parallel-item::before {content: \"\";position: absolute;border-left: 1px solid gray;box-sizing: border-box;top: 0;bottom: 0;left: 50%;z-index: -1;}#sk-container-id-4 div.sk-parallel-item {display: flex;flex-direction: column;z-index: 1;position: relative;background-color: white;}#sk-container-id-4 div.sk-parallel-item:first-child::after {align-self: flex-end;width: 50%;}#sk-container-id-4 div.sk-parallel-item:last-child::after {align-self: flex-start;width: 50%;}#sk-container-id-4 div.sk-parallel-item:only-child::after {width: 0;}#sk-container-id-4 div.sk-dashed-wrapped {border: 1px dashed gray;margin: 0 0.4em 0.5em 0.4em;box-sizing: border-box;padding-bottom: 0.4em;background-color: white;}#sk-container-id-4 div.sk-label label {font-family: monospace;font-weight: bold;display: inline-block;line-height: 1.2em;}#sk-container-id-4 div.sk-label-container {text-align: center;}#sk-container-id-4 div.sk-container {/* jupyter's `normalize.less` sets `[hidden] { display: none; }` but bootstrap.min.css set `[hidden] { display: none !important; }` so we also need the `!important` here to be able to override the default hidden behavior on the sphinx rendered scikit-learn.org. See: https://github.com/scikit-learn/scikit-learn/issues/21755 */display: inline-block !important;position: relative;}#sk-container-id-4 div.sk-text-repr-fallback {display: none;}</style><div id=\"sk-container-id-4\" class=\"sk-top-container\"><div class=\"sk-text-repr-fallback\"><pre>GridSearchCV(cv=7, estimator=ExtraTreesClassifier(n_jobs=-1),\n",
              "             param_grid={&#x27;n_estimators&#x27;: [100, 250, 400]}, refit=&#x27;accuracy&#x27;,\n",
              "             scoring={&#x27;accuracy&#x27;: make_scorer(accuracy_score),\n",
              "                      &#x27;precision&#x27;: make_scorer(precision_score),\n",
              "                      &#x27;recall&#x27;: make_scorer(recall_score)})</pre><b>In a Jupyter environment, please rerun this cell to show the HTML representation or trust the notebook. <br />On GitHub, the HTML representation is unable to render, please try loading this page with nbviewer.org.</b></div><div class=\"sk-container\" hidden><div class=\"sk-item sk-dashed-wrapped\"><div class=\"sk-label-container\"><div class=\"sk-label sk-toggleable\"><input class=\"sk-toggleable__control sk-hidden--visually\" id=\"sk-estimator-id-10\" type=\"checkbox\" ><label for=\"sk-estimator-id-10\" class=\"sk-toggleable__label sk-toggleable__label-arrow\">GridSearchCV</label><div class=\"sk-toggleable__content\"><pre>GridSearchCV(cv=7, estimator=ExtraTreesClassifier(n_jobs=-1),\n",
              "             param_grid={&#x27;n_estimators&#x27;: [100, 250, 400]}, refit=&#x27;accuracy&#x27;,\n",
              "             scoring={&#x27;accuracy&#x27;: make_scorer(accuracy_score),\n",
              "                      &#x27;precision&#x27;: make_scorer(precision_score),\n",
              "                      &#x27;recall&#x27;: make_scorer(recall_score)})</pre></div></div></div><div class=\"sk-parallel\"><div class=\"sk-parallel-item\"><div class=\"sk-item\"><div class=\"sk-label-container\"><div class=\"sk-label sk-toggleable\"><input class=\"sk-toggleable__control sk-hidden--visually\" id=\"sk-estimator-id-11\" type=\"checkbox\" ><label for=\"sk-estimator-id-11\" class=\"sk-toggleable__label sk-toggleable__label-arrow\">estimator: ExtraTreesClassifier</label><div class=\"sk-toggleable__content\"><pre>ExtraTreesClassifier(n_jobs=-1)</pre></div></div></div><div class=\"sk-serial\"><div class=\"sk-item\"><div class=\"sk-estimator sk-toggleable\"><input class=\"sk-toggleable__control sk-hidden--visually\" id=\"sk-estimator-id-12\" type=\"checkbox\" ><label for=\"sk-estimator-id-12\" class=\"sk-toggleable__label sk-toggleable__label-arrow\">ExtraTreesClassifier</label><div class=\"sk-toggleable__content\"><pre>ExtraTreesClassifier(n_jobs=-1)</pre></div></div></div></div></div></div></div></div></div></div>"
            ]
          },
          "metadata": {},
          "execution_count": 34
        }
      ]
    },
    {
      "cell_type": "markdown",
      "source": [
        "### scores"
      ],
      "metadata": {
        "id": "7LZJb6svUiuH"
      }
    },
    {
      "cell_type": "code",
      "source": [
        "best_rf = grid_search.best_estimator_\n",
        "\n",
        "# Getting the results\n",
        "results_df = pd.DataFrame(grid_search.cv_results_)\n",
        "\n",
        "# Printing precision, recall, and accuracy scores\n",
        "print(\"Best Parameters:\", grid_search.best_params_)\n",
        "print(\"Best Score (Accuracy):\", grid_search.best_score_)\n",
        "\n",
        "# Accessing precision, recall, and accuracy scores from results_df\n",
        "print(\"Precision Scores:\", results_df[['param_n_estimators', 'mean_test_precision']])\n",
        "print(\"Recall Scores:\", results_df[['param_n_estimators', 'mean_test_recall']])\n",
        "print(\"Accuracy Scores:\", results_df[['param_n_estimators', 'mean_test_accuracy']])\n"
      ],
      "metadata": {
        "colab": {
          "base_uri": "https://localhost:8080/"
        },
        "outputId": "1a78555b-0b6a-49ac-bbbf-439a7d907182",
        "id": "kJCRquWfUiuH"
      },
      "execution_count": null,
      "outputs": [
        {
          "output_type": "stream",
          "name": "stdout",
          "text": [
            "Best Parameters: {'n_estimators': 400}\n",
            "Best Score (Accuracy): 0.6384263890333784\n",
            "Precision Scores:   param_n_estimators  mean_test_precision\n",
            "0                100             0.629210\n",
            "1                250             0.630586\n",
            "2                400             0.638712\n",
            "Recall Scores:   param_n_estimators  mean_test_recall\n",
            "0                100          0.514644\n",
            "1                250          0.515394\n",
            "2                400          0.525048\n",
            "Accuracy Scores:   param_n_estimators  mean_test_accuracy\n",
            "0                100            0.629920\n",
            "1                250            0.632011\n",
            "2                400            0.638426\n"
          ]
        }
      ]
    },
    {
      "cell_type": "code",
      "source": [
        "# Printing precision, recall, and accuracy scores for the best parameters\n",
        "best_precision = results_df[results_df['rank_test_accuracy'] == 1][['param_n_estimators', 'mean_test_precision']]\n",
        "best_recall = results_df[results_df['rank_test_accuracy'] == 1][['param_n_estimators', 'mean_test_recall']]\n",
        "best_accuracy = results_df[results_df['rank_test_accuracy'] == 1][['param_n_estimators', 'mean_test_accuracy']]\n",
        "\n",
        "print(\"\\nBest Precision Scores:\")\n",
        "print(best_precision)\n",
        "\n",
        "print(\"\\nBest Recall Scores:\")\n",
        "print(best_recall)\n",
        "\n",
        "print(\"\\nBest Accuracy Scores:\")\n",
        "print(best_accuracy)"
      ],
      "metadata": {
        "colab": {
          "base_uri": "https://localhost:8080/"
        },
        "outputId": "dca640c1-ea07-4d2f-88a9-0a101fe37ffb",
        "id": "K6FwIoicUiuI"
      },
      "execution_count": null,
      "outputs": [
        {
          "output_type": "stream",
          "name": "stdout",
          "text": [
            "\n",
            "Best Precision Scores:\n",
            "  param_n_estimators  mean_test_precision\n",
            "2                400             0.638712\n",
            "\n",
            "Best Recall Scores:\n",
            "  param_n_estimators  mean_test_recall\n",
            "2                400          0.525048\n",
            "\n",
            "Best Accuracy Scores:\n",
            "  param_n_estimators  mean_test_accuracy\n",
            "2                400            0.638426\n"
          ]
        }
      ]
    },
    {
      "cell_type": "code",
      "source": [
        "# To access recall scores for each fold (for demonstration purposes)\n",
        "results = grid_search.cv_results_\n",
        "for fold_idx in range(grid_search.cv):\n",
        "    fold_recall_key = f\"split{fold_idx}_test_recall\"\n",
        "    fold_recall = results[fold_recall_key]\n",
        "    print(f\"Fold {fold_idx + 1} Recall:\", fold_recall)\n",
        "\n",
        "results = grid_search.cv_results_\n",
        "for fold_idx in range(grid_search.cv):\n",
        "    fold_precision_key = f\"split{fold_idx}_test_precision\"\n",
        "    fold_precision = results[fold_precision_key]\n",
        "    print(f\"Fold {fold_idx + 1} Precision:\", fold_precision)\n",
        "\n",
        "results = grid_search.cv_results_\n",
        "for fold_idx in range(grid_search.cv):\n",
        "    fold_accuracy_key = f\"split{fold_idx}_test_accuracy\"\n",
        "    fold_accuracy = results[fold_accuracy_key]\n",
        "    print(f\"Fold {fold_idx + 1} Accuracy:\", fold_accuracy)"
      ],
      "metadata": {
        "colab": {
          "base_uri": "https://localhost:8080/"
        },
        "outputId": "e0d73539-a87d-4bf3-8874-76829a080053",
        "id": "PggqFQY4UiuI"
      },
      "execution_count": null,
      "outputs": [
        {
          "output_type": "stream",
          "name": "stdout",
          "text": [
            "Fold 1 Recall: [0.7522263  0.78208486 0.78941854]\n",
            "Fold 2 Recall: [0.4284966  0.43059193 0.44787847]\n",
            "Fold 3 Recall: [0.4164484  0.40178104 0.41068622]\n",
            "Fold 4 Recall: [0.41749607 0.39706653 0.4148769 ]\n",
            "Fold 5 Recall: [0.40230487 0.39287585 0.39182818]\n",
            "Fold 6 Recall: [0.4533543  0.44863732 0.46383648]\n",
            "Fold 7 Recall: [0.73218029 0.75471698 0.75681342]\n",
            "Fold 1 Precision: [0.87990196 0.89885611 0.9040192 ]\n",
            "Fold 2 Precision: [0.55874317 0.55880354 0.5730563 ]\n",
            "Fold 3 Precision: [0.52544613 0.51545699 0.53297077]\n",
            "Fold 4 Precision: [0.50926518 0.48652118 0.49162011]\n",
            "Fold 5 Precision: [0.50693069 0.49603175 0.49800266]\n",
            "Fold 6 Precision: [0.58564658 0.6028169  0.61076605]\n",
            "Fold 7 Precision: [0.83853541 0.85561497 0.86054827]\n",
            "Fold 1 Accuracy: [0.83403622 0.8551228  0.8605805 ]\n",
            "Fold 2 Accuracy: [0.56908956 0.56933763 0.58050112]\n",
            "Fold 3 Accuracy: [0.5455222  0.5378318  0.55048375]\n",
            "Fold 4 Accuracy: [0.53349876 0.51588089 0.51960298]\n",
            "Fold 5 Accuracy: [0.53151365 0.52332506 0.5248139 ]\n",
            "Fold 6 Accuracy: [0.58933002 0.59900744 0.60620347]\n",
            "Fold 7 Accuracy: [0.80645161 0.8235732  0.82679901]\n"
          ]
        }
      ]
    },
    {
      "cell_type": "code",
      "source": [
        "# Initialize variables to store the best accuracy and its corresponding fold index\n",
        "best_accuracy = 0.0\n",
        "best_fold_index = -1\n",
        "\n",
        "# Iterate through each fold to find the one with the highest accuracy\n",
        "for fold_idx in range(grid_search.cv):\n",
        "    fold_accuracy_key = f\"split{fold_idx}_test_accuracy\"\n",
        "    fold_accuracy = results[fold_accuracy_key]\n",
        "\n",
        "    max_fold_accuracy = max(fold_accuracy)\n",
        "    if max_fold_accuracy > best_accuracy:\n",
        "        best_accuracy = max_fold_accuracy\n",
        "        best_fold_index = fold_idx\n",
        "\n",
        "# If a fold with the highest accuracy is found, retrieve its precision, recall, and parameters\n",
        "if best_fold_index != -1:\n",
        "    fold_precision_key = f\"split{best_fold_index}_test_precision\"\n",
        "    fold_recall_key = f\"split{best_fold_index}_test_recall\"\n",
        "    fold_params = results['params'][best_fold_index]\n",
        "\n",
        "    best_fold_precision = results[fold_precision_key][best_accuracy.argmax()]\n",
        "    best_fold_recall = results[fold_recall_key][best_accuracy.argmax()]\n",
        "\n",
        "    # Printing the best accuracy value, its corresponding precision, recall, and parameters\n",
        "    print(f\"Best Accuracy: {best_accuracy}\")\n",
        "    print(f\"Corresponding Precision: {best_fold_precision}\")\n",
        "    print(f\"Corresponding Recall: {best_fold_recall}\")\n",
        "    # print(f\"Parameters for Best Accuracy: {fold_params}\")\n",
        "else:\n",
        "    print(\"No fold found with the highest accuracy.\")\n"
      ],
      "metadata": {
        "id": "TA7R9I3re-rb"
      },
      "execution_count": null,
      "outputs": []
    },
    {
      "cell_type": "markdown",
      "source": [
        "## XGBoost"
      ],
      "metadata": {
        "id": "7SuH6-sU0BG1"
      }
    },
    {
      "cell_type": "code",
      "source": [
        "# Assuming you have a RandomForestClassifier instance 'rf_classifier' and your data 'X', 'y'\n",
        "param_grid = {\n",
        "    'max_depth': [3, 5, 7, 9]\n",
        "}\n",
        "\n",
        "# Create a dictionary of scoring metrics\n",
        "scoring = {\n",
        "    'precision': make_scorer(precision_score),\n",
        "    'recall': make_scorer(recall_score),\n",
        "    'accuracy': make_scorer(accuracy_score)\n",
        "}\n",
        "\n",
        "grid_search = GridSearchCV(XGBClassifier(device='cuda'), param_grid, cv=7, scoring=scoring, refit='accuracy')\n",
        "grid_search.fit(X, y)"
      ],
      "metadata": {
        "colab": {
          "base_uri": "https://localhost:8080/",
          "height": 277
        },
        "outputId": "a23b0288-4d19-401e-cdd3-ff691fbaaab2",
        "id": "-Sntd0kH0BG2"
      },
      "execution_count": null,
      "outputs": [
        {
          "output_type": "stream",
          "name": "stderr",
          "text": [
            "/usr/local/lib/python3.10/dist-packages/xgboost/core.py:160: UserWarning: [13:35:04] WARNING: /workspace/src/common/error_msg.cc:58: Falling back to prediction using DMatrix due to mismatched devices. This might lead to higher memory usage and slower performance. XGBoost is running on: cuda:0, while the input data is on: cpu.\n",
            "Potential solutions:\n",
            "- Use a data structure that matches the device ordinal in the booster.\n",
            "- Set the device for booster before call to inplace_predict.\n",
            "\n",
            "This warning will only be shown once.\n",
            "\n",
            "  warnings.warn(smsg, UserWarning)\n"
          ]
        },
        {
          "output_type": "execute_result",
          "data": {
            "text/plain": [
              "GridSearchCV(cv=7,\n",
              "             estimator=XGBClassifier(base_score=None, booster=None,\n",
              "                                     callbacks=None, colsample_bylevel=None,\n",
              "                                     colsample_bynode=None,\n",
              "                                     colsample_bytree=None, device='cuda',\n",
              "                                     early_stopping_rounds=None,\n",
              "                                     enable_categorical=False, eval_metric=None,\n",
              "                                     feature_types=None, gamma=None,\n",
              "                                     grow_policy=None, importance_type=None,\n",
              "                                     interaction_constraints=None,\n",
              "                                     learning_rate=Non...\n",
              "                                     max_delta_step=None, max_depth=None,\n",
              "                                     max_leaves=None, min_child_weight=None,\n",
              "                                     missing=nan, monotone_constraints=None,\n",
              "                                     multi_strategy=None, n_estimators=None,\n",
              "                                     n_jobs=None, num_parallel_tree=None,\n",
              "                                     random_state=None, ...),\n",
              "             param_grid={'max_depth': [3, 5, 7, 9]}, refit='accuracy',\n",
              "             scoring={'accuracy': make_scorer(accuracy_score),\n",
              "                      'precision': make_scorer(precision_score),\n",
              "                      'recall': make_scorer(recall_score)})"
            ],
            "text/html": [
              "<style>#sk-container-id-5 {color: black;background-color: white;}#sk-container-id-5 pre{padding: 0;}#sk-container-id-5 div.sk-toggleable {background-color: white;}#sk-container-id-5 label.sk-toggleable__label {cursor: pointer;display: block;width: 100%;margin-bottom: 0;padding: 0.3em;box-sizing: border-box;text-align: center;}#sk-container-id-5 label.sk-toggleable__label-arrow:before {content: \"▸\";float: left;margin-right: 0.25em;color: #696969;}#sk-container-id-5 label.sk-toggleable__label-arrow:hover:before {color: black;}#sk-container-id-5 div.sk-estimator:hover label.sk-toggleable__label-arrow:before {color: black;}#sk-container-id-5 div.sk-toggleable__content {max-height: 0;max-width: 0;overflow: hidden;text-align: left;background-color: #f0f8ff;}#sk-container-id-5 div.sk-toggleable__content pre {margin: 0.2em;color: black;border-radius: 0.25em;background-color: #f0f8ff;}#sk-container-id-5 input.sk-toggleable__control:checked~div.sk-toggleable__content {max-height: 200px;max-width: 100%;overflow: auto;}#sk-container-id-5 input.sk-toggleable__control:checked~label.sk-toggleable__label-arrow:before {content: \"▾\";}#sk-container-id-5 div.sk-estimator input.sk-toggleable__control:checked~label.sk-toggleable__label {background-color: #d4ebff;}#sk-container-id-5 div.sk-label input.sk-toggleable__control:checked~label.sk-toggleable__label {background-color: #d4ebff;}#sk-container-id-5 input.sk-hidden--visually {border: 0;clip: rect(1px 1px 1px 1px);clip: rect(1px, 1px, 1px, 1px);height: 1px;margin: -1px;overflow: hidden;padding: 0;position: absolute;width: 1px;}#sk-container-id-5 div.sk-estimator {font-family: monospace;background-color: #f0f8ff;border: 1px dotted black;border-radius: 0.25em;box-sizing: border-box;margin-bottom: 0.5em;}#sk-container-id-5 div.sk-estimator:hover {background-color: #d4ebff;}#sk-container-id-5 div.sk-parallel-item::after {content: \"\";width: 100%;border-bottom: 1px solid gray;flex-grow: 1;}#sk-container-id-5 div.sk-label:hover label.sk-toggleable__label {background-color: #d4ebff;}#sk-container-id-5 div.sk-serial::before {content: \"\";position: absolute;border-left: 1px solid gray;box-sizing: border-box;top: 0;bottom: 0;left: 50%;z-index: 0;}#sk-container-id-5 div.sk-serial {display: flex;flex-direction: column;align-items: center;background-color: white;padding-right: 0.2em;padding-left: 0.2em;position: relative;}#sk-container-id-5 div.sk-item {position: relative;z-index: 1;}#sk-container-id-5 div.sk-parallel {display: flex;align-items: stretch;justify-content: center;background-color: white;position: relative;}#sk-container-id-5 div.sk-item::before, #sk-container-id-5 div.sk-parallel-item::before {content: \"\";position: absolute;border-left: 1px solid gray;box-sizing: border-box;top: 0;bottom: 0;left: 50%;z-index: -1;}#sk-container-id-5 div.sk-parallel-item {display: flex;flex-direction: column;z-index: 1;position: relative;background-color: white;}#sk-container-id-5 div.sk-parallel-item:first-child::after {align-self: flex-end;width: 50%;}#sk-container-id-5 div.sk-parallel-item:last-child::after {align-self: flex-start;width: 50%;}#sk-container-id-5 div.sk-parallel-item:only-child::after {width: 0;}#sk-container-id-5 div.sk-dashed-wrapped {border: 1px dashed gray;margin: 0 0.4em 0.5em 0.4em;box-sizing: border-box;padding-bottom: 0.4em;background-color: white;}#sk-container-id-5 div.sk-label label {font-family: monospace;font-weight: bold;display: inline-block;line-height: 1.2em;}#sk-container-id-5 div.sk-label-container {text-align: center;}#sk-container-id-5 div.sk-container {/* jupyter's `normalize.less` sets `[hidden] { display: none; }` but bootstrap.min.css set `[hidden] { display: none !important; }` so we also need the `!important` here to be able to override the default hidden behavior on the sphinx rendered scikit-learn.org. See: https://github.com/scikit-learn/scikit-learn/issues/21755 */display: inline-block !important;position: relative;}#sk-container-id-5 div.sk-text-repr-fallback {display: none;}</style><div id=\"sk-container-id-5\" class=\"sk-top-container\"><div class=\"sk-text-repr-fallback\"><pre>GridSearchCV(cv=7,\n",
              "             estimator=XGBClassifier(base_score=None, booster=None,\n",
              "                                     callbacks=None, colsample_bylevel=None,\n",
              "                                     colsample_bynode=None,\n",
              "                                     colsample_bytree=None, device=&#x27;cuda&#x27;,\n",
              "                                     early_stopping_rounds=None,\n",
              "                                     enable_categorical=False, eval_metric=None,\n",
              "                                     feature_types=None, gamma=None,\n",
              "                                     grow_policy=None, importance_type=None,\n",
              "                                     interaction_constraints=None,\n",
              "                                     learning_rate=Non...\n",
              "                                     max_delta_step=None, max_depth=None,\n",
              "                                     max_leaves=None, min_child_weight=None,\n",
              "                                     missing=nan, monotone_constraints=None,\n",
              "                                     multi_strategy=None, n_estimators=None,\n",
              "                                     n_jobs=None, num_parallel_tree=None,\n",
              "                                     random_state=None, ...),\n",
              "             param_grid={&#x27;max_depth&#x27;: [3, 5, 7, 9]}, refit=&#x27;accuracy&#x27;,\n",
              "             scoring={&#x27;accuracy&#x27;: make_scorer(accuracy_score),\n",
              "                      &#x27;precision&#x27;: make_scorer(precision_score),\n",
              "                      &#x27;recall&#x27;: make_scorer(recall_score)})</pre><b>In a Jupyter environment, please rerun this cell to show the HTML representation or trust the notebook. <br />On GitHub, the HTML representation is unable to render, please try loading this page with nbviewer.org.</b></div><div class=\"sk-container\" hidden><div class=\"sk-item sk-dashed-wrapped\"><div class=\"sk-label-container\"><div class=\"sk-label sk-toggleable\"><input class=\"sk-toggleable__control sk-hidden--visually\" id=\"sk-estimator-id-13\" type=\"checkbox\" ><label for=\"sk-estimator-id-13\" class=\"sk-toggleable__label sk-toggleable__label-arrow\">GridSearchCV</label><div class=\"sk-toggleable__content\"><pre>GridSearchCV(cv=7,\n",
              "             estimator=XGBClassifier(base_score=None, booster=None,\n",
              "                                     callbacks=None, colsample_bylevel=None,\n",
              "                                     colsample_bynode=None,\n",
              "                                     colsample_bytree=None, device=&#x27;cuda&#x27;,\n",
              "                                     early_stopping_rounds=None,\n",
              "                                     enable_categorical=False, eval_metric=None,\n",
              "                                     feature_types=None, gamma=None,\n",
              "                                     grow_policy=None, importance_type=None,\n",
              "                                     interaction_constraints=None,\n",
              "                                     learning_rate=Non...\n",
              "                                     max_delta_step=None, max_depth=None,\n",
              "                                     max_leaves=None, min_child_weight=None,\n",
              "                                     missing=nan, monotone_constraints=None,\n",
              "                                     multi_strategy=None, n_estimators=None,\n",
              "                                     n_jobs=None, num_parallel_tree=None,\n",
              "                                     random_state=None, ...),\n",
              "             param_grid={&#x27;max_depth&#x27;: [3, 5, 7, 9]}, refit=&#x27;accuracy&#x27;,\n",
              "             scoring={&#x27;accuracy&#x27;: make_scorer(accuracy_score),\n",
              "                      &#x27;precision&#x27;: make_scorer(precision_score),\n",
              "                      &#x27;recall&#x27;: make_scorer(recall_score)})</pre></div></div></div><div class=\"sk-parallel\"><div class=\"sk-parallel-item\"><div class=\"sk-item\"><div class=\"sk-label-container\"><div class=\"sk-label sk-toggleable\"><input class=\"sk-toggleable__control sk-hidden--visually\" id=\"sk-estimator-id-14\" type=\"checkbox\" ><label for=\"sk-estimator-id-14\" class=\"sk-toggleable__label sk-toggleable__label-arrow\">estimator: XGBClassifier</label><div class=\"sk-toggleable__content\"><pre>XGBClassifier(base_score=None, booster=None, callbacks=None,\n",
              "              colsample_bylevel=None, colsample_bynode=None,\n",
              "              colsample_bytree=None, device=&#x27;cuda&#x27;, early_stopping_rounds=None,\n",
              "              enable_categorical=False, eval_metric=None, feature_types=None,\n",
              "              gamma=None, grow_policy=None, importance_type=None,\n",
              "              interaction_constraints=None, learning_rate=None, max_bin=None,\n",
              "              max_cat_threshold=None, max_cat_to_onehot=None,\n",
              "              max_delta_step=None, max_depth=None, max_leaves=None,\n",
              "              min_child_weight=None, missing=nan, monotone_constraints=None,\n",
              "              multi_strategy=None, n_estimators=None, n_jobs=None,\n",
              "              num_parallel_tree=None, random_state=None, ...)</pre></div></div></div><div class=\"sk-serial\"><div class=\"sk-item\"><div class=\"sk-estimator sk-toggleable\"><input class=\"sk-toggleable__control sk-hidden--visually\" id=\"sk-estimator-id-15\" type=\"checkbox\" ><label for=\"sk-estimator-id-15\" class=\"sk-toggleable__label sk-toggleable__label-arrow\">XGBClassifier</label><div class=\"sk-toggleable__content\"><pre>XGBClassifier(base_score=None, booster=None, callbacks=None,\n",
              "              colsample_bylevel=None, colsample_bynode=None,\n",
              "              colsample_bytree=None, device=&#x27;cuda&#x27;, early_stopping_rounds=None,\n",
              "              enable_categorical=False, eval_metric=None, feature_types=None,\n",
              "              gamma=None, grow_policy=None, importance_type=None,\n",
              "              interaction_constraints=None, learning_rate=None, max_bin=None,\n",
              "              max_cat_threshold=None, max_cat_to_onehot=None,\n",
              "              max_delta_step=None, max_depth=None, max_leaves=None,\n",
              "              min_child_weight=None, missing=nan, monotone_constraints=None,\n",
              "              multi_strategy=None, n_estimators=None, n_jobs=None,\n",
              "              num_parallel_tree=None, random_state=None, ...)</pre></div></div></div></div></div></div></div></div></div></div>"
            ]
          },
          "metadata": {},
          "execution_count": 38
        }
      ]
    },
    {
      "cell_type": "markdown",
      "source": [
        "### scores"
      ],
      "metadata": {
        "id": "NDKmiQrgUwxw"
      }
    },
    {
      "cell_type": "code",
      "source": [
        "best_rf = grid_search.best_estimator_\n",
        "\n",
        "# Getting the results\n",
        "results_df = pd.DataFrame(grid_search.cv_results_)\n",
        "\n",
        "# Printing precision, recall, and accuracy scores\n",
        "print(\"Best Parameters:\", grid_search.best_params_)\n",
        "print(\"Best Score (Accuracy):\", grid_search.best_score_)\n",
        "\n",
        "# Accessing precision, recall, and accuracy scores from results_df\n",
        "print(\"Precision Scores:\", results_df[['param_max_depth', 'mean_test_precision']])\n",
        "print(\"Recall Scores:\", results_df[['param_max_depth', 'mean_test_recall']])\n",
        "print(\"Accuracy Scores:\", results_df[['param_max_depth', 'mean_test_accuracy']])\n"
      ],
      "metadata": {
        "colab": {
          "base_uri": "https://localhost:8080/"
        },
        "outputId": "8ec09e84-bdf2-41ab-b2cb-8a275cf9b325",
        "id": "K_ONYfZFUwx_"
      },
      "execution_count": null,
      "outputs": [
        {
          "output_type": "stream",
          "name": "stdout",
          "text": [
            "Best Parameters: {'max_depth': 9}\n",
            "Best Score (Accuracy): 0.5860399169815709\n",
            "Precision Scores:   param_max_depth  mean_test_precision\n",
            "0               3             0.525010\n",
            "1               5             0.541087\n",
            "2               7             0.557074\n",
            "3               9             0.569058\n",
            "Recall Scores:   param_max_depth  mean_test_recall\n",
            "0               3          0.416887\n",
            "1               5          0.486121\n",
            "2               7          0.516283\n",
            "3               9          0.525791\n",
            "Accuracy Scores:   param_max_depth  mean_test_accuracy\n",
            "0               3            0.544358\n",
            "1               5            0.560662\n",
            "2               7            0.575867\n",
            "3               9            0.586040\n"
          ]
        }
      ]
    },
    {
      "cell_type": "code",
      "source": [
        "# Printing precision, recall, and accuracy scores for the best parameters\n",
        "best_precision = results_df[results_df['rank_test_accuracy'] == 1][['param_max_depth', 'mean_test_precision']]\n",
        "best_recall = results_df[results_df['rank_test_accuracy'] == 1][['param_max_depth', 'mean_test_recall']]\n",
        "best_accuracy = results_df[results_df['rank_test_accuracy'] == 1][['param_max_depth', 'mean_test_accuracy']]\n",
        "\n",
        "print(\"\\nBest Precision Scores:\")\n",
        "print(best_precision)\n",
        "\n",
        "print(\"\\nBest Recall Scores:\")\n",
        "print(best_recall)\n",
        "\n",
        "print(\"\\nBest Accuracy Scores:\")\n",
        "print(best_accuracy)"
      ],
      "metadata": {
        "colab": {
          "base_uri": "https://localhost:8080/"
        },
        "outputId": "363dd317-d1ea-4400-b2a7-070e5c157399",
        "id": "7mKU0gTQUwx_"
      },
      "execution_count": null,
      "outputs": [
        {
          "output_type": "stream",
          "name": "stdout",
          "text": [
            "\n",
            "Best Precision Scores:\n",
            "  param_max_depth  mean_test_precision\n",
            "3               9             0.569058\n",
            "\n",
            "Best Recall Scores:\n",
            "  param_max_depth  mean_test_recall\n",
            "3               9          0.525791\n",
            "\n",
            "Best Accuracy Scores:\n",
            "  param_max_depth  mean_test_accuracy\n",
            "3               9             0.58604\n"
          ]
        }
      ]
    },
    {
      "cell_type": "code",
      "source": [
        "# To access recall scores for each fold (for demonstration purposes)\n",
        "results = grid_search.cv_results_\n",
        "for fold_idx in range(grid_search.cv):\n",
        "    fold_recall_key = f\"split{fold_idx}_test_recall\"\n",
        "    fold_recall = results[fold_recall_key]\n",
        "    print(f\"Fold {fold_idx + 1} Recall:\", fold_recall)\n",
        "\n",
        "results = grid_search.cv_results_\n",
        "for fold_idx in range(grid_search.cv):\n",
        "    fold_precision_key = f\"split{fold_idx}_test_precision\"\n",
        "    fold_precision = results[fold_precision_key]\n",
        "    print(f\"Fold {fold_idx + 1} Precision:\", fold_precision)\n",
        "\n",
        "results = grid_search.cv_results_\n",
        "for fold_idx in range(grid_search.cv):\n",
        "    fold_accuracy_key = f\"split{fold_idx}_test_accuracy\"\n",
        "    fold_accuracy = results[fold_accuracy_key]\n",
        "    print(f\"Fold {fold_idx + 1} Accuracy:\", fold_accuracy)"
      ],
      "metadata": {
        "colab": {
          "base_uri": "https://localhost:8080/"
        },
        "outputId": "f8e02ff1-ae94-4802-d044-6ff928f25049",
        "id": "zuAb9o6fUwyA"
      },
      "execution_count": null,
      "outputs": [
        {
          "output_type": "stream",
          "name": "stdout",
          "text": [
            "Fold 1 Recall: [0.45887899 0.56678889 0.64798324 0.66841278]\n",
            "Fold 2 Recall: [0.40230487 0.46411734 0.49607124 0.48664222]\n",
            "Fold 3 Recall: [0.41173389 0.44368779 0.46883185 0.46254584]\n",
            "Fold 4 Recall: [0.40073337 0.45783133 0.46254584 0.46097433]\n",
            "Fold 5 Recall: [0.38920901 0.44054479 0.45364065 0.45625982]\n",
            "Fold 6 Recall: [0.40461216 0.48165618 0.47222222 0.48689727]\n",
            "Fold 7 Recall: [0.45073375 0.54821803 0.61268344 0.65880503]\n",
            "Fold 1 Precision: [0.60041124 0.63910219 0.70605023 0.73928158]\n",
            "Fold 2 Precision: [0.51440054 0.52087008 0.53502825 0.53025114]\n",
            "Fold 3 Precision: [0.50546624 0.49852855 0.49694614 0.50399543]\n",
            "Fold 4 Precision: [0.46703297 0.48963585 0.48067501 0.47670639]\n",
            "Fold 5 Precision: [0.48689384 0.48361127 0.48218263 0.48632049]\n",
            "Fold 6 Precision: [0.53094911 0.52725186 0.53630952 0.536684  ]\n",
            "Fold 7 Precision: [0.56991385 0.62860577 0.66232295 0.71016949]\n",
            "Fold 1 Accuracy: [0.59910692 0.6432647  0.70553213 0.73133218]\n",
            "Fold 2 Accuracy: [0.53708757 0.54403374 0.55718184 0.55271645]\n",
            "Fold 3 Accuracy: [0.53063756 0.52517986 0.52369139 0.52989333]\n",
            "Fold 4 Accuracy: [0.49950372 0.51712159 0.50868486 0.50496278]\n",
            "Fold 5 Accuracy: [0.51637717 0.51215881 0.51042184 0.51414392]\n",
            "Fold 6 Accuracy: [0.54888337 0.55012407 0.55682382 0.55806452]\n",
            "Fold 7 Accuracy: [0.57890819 0.63275434 0.66873449 0.71116625]\n"
          ]
        }
      ]
    },
    {
      "cell_type": "code",
      "source": [
        "# Initialize variables to store the best accuracy and its corresponding fold index\n",
        "best_accuracy = 0.0\n",
        "best_fold_index = -1\n",
        "\n",
        "# Iterate through each fold to find the one with the highest accuracy\n",
        "for fold_idx in range(grid_search.cv):\n",
        "    fold_accuracy_key = f\"split{fold_idx}_test_accuracy\"\n",
        "    fold_accuracy = results[fold_accuracy_key]\n",
        "\n",
        "    max_fold_accuracy = max(fold_accuracy)\n",
        "    if max_fold_accuracy > best_accuracy:\n",
        "        best_accuracy = max_fold_accuracy\n",
        "        best_fold_index = fold_idx\n",
        "\n",
        "# If a fold with the highest accuracy is found, retrieve its precision, recall, and parameters\n",
        "if best_fold_index != -1:\n",
        "    fold_precision_key = f\"split{best_fold_index}_test_precision\"\n",
        "    fold_recall_key = f\"split{best_fold_index}_test_recall\"\n",
        "    fold_params = results['params'][best_fold_index]\n",
        "\n",
        "    best_fold_precision = results[fold_precision_key][best_accuracy.argmax()]\n",
        "    best_fold_recall = results[fold_recall_key][best_accuracy.argmax()]\n",
        "\n",
        "    # Printing the best accuracy value, its corresponding precision, recall, and parameters\n",
        "    print(f\"Best Accuracy: {best_accuracy}\")\n",
        "    print(f\"Corresponding Precision: {best_fold_precision}\")\n",
        "    print(f\"Corresponding Recall: {best_fold_recall}\")\n",
        "    # print(f\"Parameters for Best Accuracy: {fold_params}\")\n",
        "else:\n",
        "    print(\"No fold found with the highest accuracy.\")\n"
      ],
      "metadata": {
        "colab": {
          "base_uri": "https://localhost:8080/"
        },
        "id": "bO9wHAkDfUKi",
        "outputId": "7c1dfa68-f517-40d5-dce7-cc9339385847"
      },
      "execution_count": null,
      "outputs": [
        {
          "output_type": "stream",
          "name": "stdout",
          "text": [
            "Best Accuracy: 0.7313321756387993\n",
            "Corresponding Precision: 0.6004112405757368\n",
            "Corresponding Recall: 0.45887899423782086\n"
          ]
        }
      ]
    },
    {
      "cell_type": "markdown",
      "source": [
        "## KNeighborsClassifier"
      ],
      "metadata": {
        "id": "t-QrhYKOxSwf"
      }
    },
    {
      "cell_type": "code",
      "source": [
        "# Assuming you have a RandomForestClassifier instance 'rf_classifier' and your data 'X', 'y'\n",
        "param_grid = {\n",
        "    'n_neighbors': [3, 5, 7, 9]\n",
        "}\n",
        "\n",
        "# Create a dictionary of scoring metrics\n",
        "scoring = {\n",
        "    'precision': make_scorer(precision_score),\n",
        "    'recall': make_scorer(recall_score),\n",
        "    'accuracy': make_scorer(accuracy_score)\n",
        "}\n",
        "\n",
        "grid_search = GridSearchCV(KNeighborsClassifier(), param_grid, cv=7, scoring=scoring, refit='accuracy')\n",
        "grid_search.fit(X, y)"
      ],
      "metadata": {
        "colab": {
          "base_uri": "https://localhost:8080/",
          "height": 656
        },
        "outputId": "d3c335e9-96eb-4278-d3eb-03e4ab1da18a",
        "id": "YBsZMm7uxSwf"
      },
      "execution_count": null,
      "outputs": [
        {
          "output_type": "stream",
          "name": "stdout",
          "text": [
            "[I] [13:43:09.488062] Unused keyword parameter: n_jobs during cuML estimator initialization\n",
            "[I] [13:43:09.494916] Unused keyword parameter: n_jobs during cuML estimator initialization\n",
            "[I] [13:43:10.820587] Unused keyword parameter: n_jobs during cuML estimator initialization\n",
            "[I] [13:43:10.968213] Unused keyword parameter: n_jobs during cuML estimator initialization\n",
            "[I] [13:43:11.115056] Unused keyword parameter: n_jobs during cuML estimator initialization\n",
            "[I] [13:43:11.242195] Unused keyword parameter: n_jobs during cuML estimator initialization\n",
            "[I] [13:43:11.363809] Unused keyword parameter: n_jobs during cuML estimator initialization\n",
            "[I] [13:43:11.491057] Unused keyword parameter: n_jobs during cuML estimator initialization\n",
            "[I] [13:43:11.617319] Unused keyword parameter: n_jobs during cuML estimator initialization\n",
            "[I] [13:43:11.740346] Unused keyword parameter: n_jobs during cuML estimator initialization\n",
            "[I] [13:43:11.875964] Unused keyword parameter: n_jobs during cuML estimator initialization\n",
            "[I] [13:43:11.998100] Unused keyword parameter: n_jobs during cuML estimator initialization\n",
            "[I] [13:43:12.124375] Unused keyword parameter: n_jobs during cuML estimator initialization\n",
            "[I] [13:43:12.257903] Unused keyword parameter: n_jobs during cuML estimator initialization\n",
            "[I] [13:43:12.380922] Unused keyword parameter: n_jobs during cuML estimator initialization\n",
            "[I] [13:43:12.507825] Unused keyword parameter: n_jobs during cuML estimator initialization\n",
            "[I] [13:43:12.632165] Unused keyword parameter: n_jobs during cuML estimator initialization\n",
            "[I] [13:43:12.759411] Unused keyword parameter: n_jobs during cuML estimator initialization\n",
            "[I] [13:43:12.900761] Unused keyword parameter: n_jobs during cuML estimator initialization\n",
            "[I] [13:43:13.023838] Unused keyword parameter: n_jobs during cuML estimator initialization\n",
            "[I] [13:43:13.151208] Unused keyword parameter: n_jobs during cuML estimator initialization\n",
            "[I] [13:43:13.336554] Unused keyword parameter: n_jobs during cuML estimator initialization\n",
            "[I] [13:43:13.502641] Unused keyword parameter: n_jobs during cuML estimator initialization\n",
            "[I] [13:43:13.642823] Unused keyword parameter: n_jobs during cuML estimator initialization\n",
            "[I] [13:43:13.762947] Unused keyword parameter: n_jobs during cuML estimator initialization\n",
            "[I] [13:43:13.878593] Unused keyword parameter: n_jobs during cuML estimator initialization\n",
            "[I] [13:43:14.010792] Unused keyword parameter: n_jobs during cuML estimator initialization\n",
            "[I] [13:43:14.126492] Unused keyword parameter: n_jobs during cuML estimator initialization\n",
            "[I] [13:43:14.259553] Unused keyword parameter: n_jobs during cuML estimator initialization\n",
            "[I] [13:43:14.387072] Unused keyword parameter: n_jobs during cuML estimator initialization\n",
            "[I] [13:43:14.387552] Unused keyword parameter: n_jobs during cuML estimator initialization\n"
          ]
        },
        {
          "output_type": "execute_result",
          "data": {
            "text/plain": [
              "GridSearchCV(cv=7, estimator=KNeighborsClassifier(),\n",
              "             param_grid={'n_neighbors': [3, 5, 7, 9]}, refit='accuracy',\n",
              "             scoring={'accuracy': make_scorer(accuracy_score),\n",
              "                      'precision': make_scorer(precision_score),\n",
              "                      'recall': make_scorer(recall_score)})"
            ],
            "text/html": [
              "<style>#sk-container-id-6 {color: black;background-color: white;}#sk-container-id-6 pre{padding: 0;}#sk-container-id-6 div.sk-toggleable {background-color: white;}#sk-container-id-6 label.sk-toggleable__label {cursor: pointer;display: block;width: 100%;margin-bottom: 0;padding: 0.3em;box-sizing: border-box;text-align: center;}#sk-container-id-6 label.sk-toggleable__label-arrow:before {content: \"▸\";float: left;margin-right: 0.25em;color: #696969;}#sk-container-id-6 label.sk-toggleable__label-arrow:hover:before {color: black;}#sk-container-id-6 div.sk-estimator:hover label.sk-toggleable__label-arrow:before {color: black;}#sk-container-id-6 div.sk-toggleable__content {max-height: 0;max-width: 0;overflow: hidden;text-align: left;background-color: #f0f8ff;}#sk-container-id-6 div.sk-toggleable__content pre {margin: 0.2em;color: black;border-radius: 0.25em;background-color: #f0f8ff;}#sk-container-id-6 input.sk-toggleable__control:checked~div.sk-toggleable__content {max-height: 200px;max-width: 100%;overflow: auto;}#sk-container-id-6 input.sk-toggleable__control:checked~label.sk-toggleable__label-arrow:before {content: \"▾\";}#sk-container-id-6 div.sk-estimator input.sk-toggleable__control:checked~label.sk-toggleable__label {background-color: #d4ebff;}#sk-container-id-6 div.sk-label input.sk-toggleable__control:checked~label.sk-toggleable__label {background-color: #d4ebff;}#sk-container-id-6 input.sk-hidden--visually {border: 0;clip: rect(1px 1px 1px 1px);clip: rect(1px, 1px, 1px, 1px);height: 1px;margin: -1px;overflow: hidden;padding: 0;position: absolute;width: 1px;}#sk-container-id-6 div.sk-estimator {font-family: monospace;background-color: #f0f8ff;border: 1px dotted black;border-radius: 0.25em;box-sizing: border-box;margin-bottom: 0.5em;}#sk-container-id-6 div.sk-estimator:hover {background-color: #d4ebff;}#sk-container-id-6 div.sk-parallel-item::after {content: \"\";width: 100%;border-bottom: 1px solid gray;flex-grow: 1;}#sk-container-id-6 div.sk-label:hover label.sk-toggleable__label {background-color: #d4ebff;}#sk-container-id-6 div.sk-serial::before {content: \"\";position: absolute;border-left: 1px solid gray;box-sizing: border-box;top: 0;bottom: 0;left: 50%;z-index: 0;}#sk-container-id-6 div.sk-serial {display: flex;flex-direction: column;align-items: center;background-color: white;padding-right: 0.2em;padding-left: 0.2em;position: relative;}#sk-container-id-6 div.sk-item {position: relative;z-index: 1;}#sk-container-id-6 div.sk-parallel {display: flex;align-items: stretch;justify-content: center;background-color: white;position: relative;}#sk-container-id-6 div.sk-item::before, #sk-container-id-6 div.sk-parallel-item::before {content: \"\";position: absolute;border-left: 1px solid gray;box-sizing: border-box;top: 0;bottom: 0;left: 50%;z-index: -1;}#sk-container-id-6 div.sk-parallel-item {display: flex;flex-direction: column;z-index: 1;position: relative;background-color: white;}#sk-container-id-6 div.sk-parallel-item:first-child::after {align-self: flex-end;width: 50%;}#sk-container-id-6 div.sk-parallel-item:last-child::after {align-self: flex-start;width: 50%;}#sk-container-id-6 div.sk-parallel-item:only-child::after {width: 0;}#sk-container-id-6 div.sk-dashed-wrapped {border: 1px dashed gray;margin: 0 0.4em 0.5em 0.4em;box-sizing: border-box;padding-bottom: 0.4em;background-color: white;}#sk-container-id-6 div.sk-label label {font-family: monospace;font-weight: bold;display: inline-block;line-height: 1.2em;}#sk-container-id-6 div.sk-label-container {text-align: center;}#sk-container-id-6 div.sk-container {/* jupyter's `normalize.less` sets `[hidden] { display: none; }` but bootstrap.min.css set `[hidden] { display: none !important; }` so we also need the `!important` here to be able to override the default hidden behavior on the sphinx rendered scikit-learn.org. See: https://github.com/scikit-learn/scikit-learn/issues/21755 */display: inline-block !important;position: relative;}#sk-container-id-6 div.sk-text-repr-fallback {display: none;}</style><div id=\"sk-container-id-6\" class=\"sk-top-container\"><div class=\"sk-text-repr-fallback\"><pre>GridSearchCV(cv=7, estimator=KNeighborsClassifier(),\n",
              "             param_grid={&#x27;n_neighbors&#x27;: [3, 5, 7, 9]}, refit=&#x27;accuracy&#x27;,\n",
              "             scoring={&#x27;accuracy&#x27;: make_scorer(accuracy_score),\n",
              "                      &#x27;precision&#x27;: make_scorer(precision_score),\n",
              "                      &#x27;recall&#x27;: make_scorer(recall_score)})</pre><b>In a Jupyter environment, please rerun this cell to show the HTML representation or trust the notebook. <br />On GitHub, the HTML representation is unable to render, please try loading this page with nbviewer.org.</b></div><div class=\"sk-container\" hidden><div class=\"sk-item sk-dashed-wrapped\"><div class=\"sk-label-container\"><div class=\"sk-label sk-toggleable\"><input class=\"sk-toggleable__control sk-hidden--visually\" id=\"sk-estimator-id-16\" type=\"checkbox\" ><label for=\"sk-estimator-id-16\" class=\"sk-toggleable__label sk-toggleable__label-arrow\">GridSearchCV</label><div class=\"sk-toggleable__content\"><pre>GridSearchCV(cv=7, estimator=KNeighborsClassifier(),\n",
              "             param_grid={&#x27;n_neighbors&#x27;: [3, 5, 7, 9]}, refit=&#x27;accuracy&#x27;,\n",
              "             scoring={&#x27;accuracy&#x27;: make_scorer(accuracy_score),\n",
              "                      &#x27;precision&#x27;: make_scorer(precision_score),\n",
              "                      &#x27;recall&#x27;: make_scorer(recall_score)})</pre></div></div></div><div class=\"sk-parallel\"><div class=\"sk-parallel-item\"><div class=\"sk-item\"><div class=\"sk-label-container\"><div class=\"sk-label sk-toggleable\"><input class=\"sk-toggleable__control sk-hidden--visually\" id=\"sk-estimator-id-17\" type=\"checkbox\" ><label for=\"sk-estimator-id-17\" class=\"sk-toggleable__label sk-toggleable__label-arrow\">estimator: KNeighborsClassifier</label><div class=\"sk-toggleable__content\"><pre>KNeighborsClassifier()</pre></div></div></div><div class=\"sk-serial\"><div class=\"sk-item\"><div class=\"sk-estimator sk-toggleable\"><input class=\"sk-toggleable__control sk-hidden--visually\" id=\"sk-estimator-id-18\" type=\"checkbox\" ><label for=\"sk-estimator-id-18\" class=\"sk-toggleable__label sk-toggleable__label-arrow\">KNeighborsClassifier</label><div class=\"sk-toggleable__content\"><pre>KNeighborsClassifier()</pre></div></div></div></div></div></div></div></div></div></div>"
            ]
          },
          "metadata": {},
          "execution_count": 45
        }
      ]
    },
    {
      "cell_type": "markdown",
      "source": [
        "### scores"
      ],
      "metadata": {
        "id": "OjuevOGiU6C_"
      }
    },
    {
      "cell_type": "code",
      "source": [
        "best_rf = grid_search.best_estimator_\n",
        "\n",
        "# Getting the results\n",
        "results_df = pd.DataFrame(grid_search.cv_results_)\n",
        "\n",
        "# Printing precision, recall, and accuracy scores\n",
        "print(\"Best Parameters:\", grid_search.best_params_)\n",
        "print(\"Best Score (Accuracy):\", grid_search.best_score_)\n",
        "\n",
        "# Accessing precision, recall, and accuracy scores from results_df\n",
        "print(\"Precision Scores:\", results_df[['param_n_neighbors', 'mean_test_precision']])\n",
        "print(\"Recall Scores:\", results_df[['param_n_neighbors', 'mean_test_recall']])\n",
        "print(\"Accuracy Scores:\", results_df[['param_n_neighbors', 'mean_test_accuracy']])\n"
      ],
      "metadata": {
        "colab": {
          "base_uri": "https://localhost:8080/"
        },
        "outputId": "a9a21ddb-1db5-446d-8860-07130324e84f",
        "id": "UEeFPlCPU6DO"
      },
      "execution_count": null,
      "outputs": [
        {
          "output_type": "stream",
          "name": "stdout",
          "text": [
            "Best Parameters: {'n_neighbors': 3}\n",
            "Best Score (Accuracy): 0.5923147538515533\n",
            "Precision Scores:   param_n_neighbors  mean_test_precision\n",
            "0                 3             0.572535\n",
            "1                 5             0.551504\n",
            "2                 7             0.543785\n",
            "3                 9             0.537015\n",
            "Recall Scores:   param_n_neighbors  mean_test_recall\n",
            "0                 3          0.553859\n",
            "1                 5          0.525417\n",
            "2                 7          0.509248\n",
            "3                 9          0.492857\n",
            "Accuracy Scores:   param_n_neighbors  mean_test_accuracy\n",
            "0                 3            0.592315\n",
            "1                 5            0.572360\n",
            "2                 7            0.564384\n",
            "3                 9            0.557791\n"
          ]
        }
      ]
    },
    {
      "cell_type": "code",
      "source": [
        "# Printing precision, recall, and accuracy scores for the best parameters\n",
        "best_precision = results_df[results_df['rank_test_accuracy'] == 1][['param_n_neighbors', 'mean_test_precision']]\n",
        "best_recall = results_df[results_df['rank_test_accuracy'] == 1][['param_n_neighbors', 'mean_test_recall']]\n",
        "best_accuracy = results_df[results_df['rank_test_accuracy'] == 1][['param_n_neighbors', 'mean_test_accuracy']]\n",
        "\n",
        "print(\"\\nBest Precision Scores:\")\n",
        "print(best_precision)\n",
        "\n",
        "print(\"\\nBest Recall Scores:\")\n",
        "print(best_recall)\n",
        "\n",
        "print(\"\\nBest Accuracy Scores:\")\n",
        "print(best_accuracy)"
      ],
      "metadata": {
        "colab": {
          "base_uri": "https://localhost:8080/"
        },
        "outputId": "5977ba5f-f816-420a-dfb3-6b8ce0d14db8",
        "id": "8t3PhwcCU6DP"
      },
      "execution_count": null,
      "outputs": [
        {
          "output_type": "stream",
          "name": "stdout",
          "text": [
            "\n",
            "Best Precision Scores:\n",
            "  param_n_neighbors  mean_test_precision\n",
            "0                 3             0.572535\n",
            "\n",
            "Best Recall Scores:\n",
            "  param_n_neighbors  mean_test_recall\n",
            "0                 3          0.553859\n",
            "\n",
            "Best Accuracy Scores:\n",
            "  param_n_neighbors  mean_test_accuracy\n",
            "0                 3            0.592315\n"
          ]
        }
      ]
    },
    {
      "cell_type": "code",
      "source": [
        "# To access recall scores for each fold (for demonstration purposes)\n",
        "results = grid_search.cv_results_\n",
        "for fold_idx in range(grid_search.cv):\n",
        "    fold_recall_key = f\"split{fold_idx}_test_recall\"\n",
        "    fold_recall = results[fold_recall_key]\n",
        "    print(f\"Fold {fold_idx + 1} Recall:\", fold_recall)\n",
        "\n",
        "results = grid_search.cv_results_\n",
        "for fold_idx in range(grid_search.cv):\n",
        "    fold_precision_key = f\"split{fold_idx}_test_precision\"\n",
        "    fold_precision = results[fold_precision_key]\n",
        "    print(f\"Fold {fold_idx + 1} Precision:\", fold_precision)\n",
        "\n",
        "results = grid_search.cv_results_\n",
        "for fold_idx in range(grid_search.cv):\n",
        "    fold_accuracy_key = f\"split{fold_idx}_test_accuracy\"\n",
        "    fold_accuracy = results[fold_accuracy_key]\n",
        "    print(f\"Fold {fold_idx + 1} Accuracy:\", fold_accuracy)"
      ],
      "metadata": {
        "colab": {
          "base_uri": "https://localhost:8080/"
        },
        "outputId": "595b4f49-7aac-4dcf-eb90-c7353a696eea",
        "id": "b6_vjkz5U6DP"
      },
      "execution_count": null,
      "outputs": [
        {
          "output_type": "stream",
          "name": "stdout",
          "text": [
            "Fold 1 Recall: [0.70560503 0.63436354 0.59664746 0.55578837]\n",
            "Fold 2 Recall: [0.49973808 0.47354636 0.47040335 0.46516501]\n",
            "Fold 3 Recall: [0.48088004 0.47773704 0.48664222 0.47040335]\n",
            "Fold 4 Recall: [0.48926139 0.4772132  0.46568884 0.46149817]\n",
            "Fold 5 Recall: [0.48821372 0.47197486 0.46883185 0.45364065]\n",
            "Fold 6 Recall: [0.53144654 0.5115304  0.49318658 0.4827044 ]\n",
            "Fold 7 Recall: [0.68186583 0.63155136 0.58333333 0.56079665]\n",
            "Fold 1 Precision: [0.73366013 0.67615857 0.64715909 0.63192376]\n",
            "Fold 2 Precision: [0.51960784 0.50166482 0.50791855 0.51418645]\n",
            "Fold 3 Precision: [0.4901228  0.49377369 0.50516585 0.50336323]\n",
            "Fold 4 Precision: [0.49365751 0.48952176 0.48315217 0.48353458]\n",
            "Fold 5 Precision: [0.50323974 0.49369863 0.49611973 0.49485714]\n",
            "Fold 6 Precision: [0.55653128 0.53922652 0.52511161 0.51770658]\n",
            "Fold 7 Precision: [0.71092896 0.6664823  0.64186851 0.61353211]\n",
            "Fold 1 Accuracy: [0.73927065 0.68295708 0.65492434 0.63631853]\n",
            "Fold 2 Accuracy: [0.54428182 0.52790871 0.53336641 0.53857604]\n",
            "Fold 3 Accuracy: [0.51724138 0.52071446 0.53113371 0.52939717]\n",
            "Fold 4 Accuracy: [0.52034739 0.51662531 0.51091811 0.51141439]\n",
            "Fold 5 Accuracy: [0.5292804  0.52059553 0.52282878 0.52183623]\n",
            "Fold 6 Accuracy: [0.57766749 0.5617866  0.54888337 0.54218362]\n",
            "Fold 7 Accuracy: [0.71811414 0.67593052 0.64863524 0.6248139 ]\n"
          ]
        }
      ]
    },
    {
      "cell_type": "code",
      "source": [
        "# Initialize variables to store the best accuracy and its corresponding fold index\n",
        "best_accuracy = 0.0\n",
        "best_fold_index = -1\n",
        "\n",
        "# Iterate through each fold to find the one with the highest accuracy\n",
        "for fold_idx in range(grid_search.cv):\n",
        "    fold_accuracy_key = f\"split{fold_idx}_test_accuracy\"\n",
        "    fold_accuracy = results[fold_accuracy_key]\n",
        "\n",
        "    max_fold_accuracy = max(fold_accuracy)\n",
        "    if max_fold_accuracy > best_accuracy:\n",
        "        best_accuracy = max_fold_accuracy\n",
        "        best_fold_index = fold_idx\n",
        "\n",
        "# If a fold with the highest accuracy is found, retrieve its precision, recall, and parameters\n",
        "if best_fold_index != -1:\n",
        "    fold_precision_key = f\"split{best_fold_index}_test_precision\"\n",
        "    fold_recall_key = f\"split{best_fold_index}_test_recall\"\n",
        "    fold_params = results['params'][best_fold_index]\n",
        "\n",
        "    best_fold_precision = results[fold_precision_key][best_accuracy.argmax()]\n",
        "    best_fold_recall = results[fold_recall_key][best_accuracy.argmax()]\n",
        "\n",
        "    # Printing the best accuracy value, its corresponding precision, recall, and parameters\n",
        "    print(f\"Best Accuracy: {best_accuracy}\")\n",
        "    print(f\"Corresponding Precision: {best_fold_precision}\")\n",
        "    print(f\"Corresponding Recall: {best_fold_recall}\")\n",
        "    # print(f\"Parameters for Best Accuracy: {fold_params}\")\n",
        "else:\n",
        "    print(\"No fold found with the highest accuracy.\")\n"
      ],
      "metadata": {
        "colab": {
          "base_uri": "https://localhost:8080/"
        },
        "id": "vpG2khHXhKet",
        "outputId": "818efce8-40fa-4ab6-edda-1d6fa5eb4882"
      },
      "execution_count": null,
      "outputs": [
        {
          "output_type": "stream",
          "name": "stdout",
          "text": [
            "Best Accuracy: 0.7392706524435624\n",
            "Corresponding Precision: 0.7336601307189542\n",
            "Corresponding Recall: 0.7056050288108957\n"
          ]
        }
      ]
    },
    {
      "cell_type": "markdown",
      "source": [
        "## QDA"
      ],
      "metadata": {
        "id": "Eot8XR1MaSZ7"
      }
    },
    {
      "cell_type": "code",
      "source": [
        "# Assuming you have a RandomForestClassifier instance 'rf_classifier' and your data 'X', 'y'\n",
        "param_grid = {\n",
        "    # 'reg_param': [0.001, 0.01, 0.1, 1.0]\n",
        "}\n",
        "\n",
        "# Create a dictionary of scoring metrics\n",
        "scoring = {\n",
        "    'precision': make_scorer(precision_score),\n",
        "    'recall': make_scorer(recall_score),\n",
        "    'accuracy': make_scorer(accuracy_score)\n",
        "}\n",
        "\n",
        "grid_search = GridSearchCV(QuadraticDiscriminantAnalysis(), param_grid, cv=7, scoring=scoring, refit='accuracy')\n",
        "grid_search.fit(X, y)"
      ],
      "metadata": {
        "colab": {
          "base_uri": "https://localhost:8080/",
          "height": 118
        },
        "outputId": "394fa902-021a-4a91-f928-3867c1b42cec",
        "id": "6A1Te9vOaSaK"
      },
      "execution_count": null,
      "outputs": [
        {
          "output_type": "execute_result",
          "data": {
            "text/plain": [
              "GridSearchCV(cv=7, estimator=QuadraticDiscriminantAnalysis(), param_grid={},\n",
              "             refit='accuracy',\n",
              "             scoring={'accuracy': make_scorer(accuracy_score),\n",
              "                      'precision': make_scorer(precision_score),\n",
              "                      'recall': make_scorer(recall_score)})"
            ],
            "text/html": [
              "<style>#sk-container-id-1 {color: black;background-color: white;}#sk-container-id-1 pre{padding: 0;}#sk-container-id-1 div.sk-toggleable {background-color: white;}#sk-container-id-1 label.sk-toggleable__label {cursor: pointer;display: block;width: 100%;margin-bottom: 0;padding: 0.3em;box-sizing: border-box;text-align: center;}#sk-container-id-1 label.sk-toggleable__label-arrow:before {content: \"▸\";float: left;margin-right: 0.25em;color: #696969;}#sk-container-id-1 label.sk-toggleable__label-arrow:hover:before {color: black;}#sk-container-id-1 div.sk-estimator:hover label.sk-toggleable__label-arrow:before {color: black;}#sk-container-id-1 div.sk-toggleable__content {max-height: 0;max-width: 0;overflow: hidden;text-align: left;background-color: #f0f8ff;}#sk-container-id-1 div.sk-toggleable__content pre {margin: 0.2em;color: black;border-radius: 0.25em;background-color: #f0f8ff;}#sk-container-id-1 input.sk-toggleable__control:checked~div.sk-toggleable__content {max-height: 200px;max-width: 100%;overflow: auto;}#sk-container-id-1 input.sk-toggleable__control:checked~label.sk-toggleable__label-arrow:before {content: \"▾\";}#sk-container-id-1 div.sk-estimator input.sk-toggleable__control:checked~label.sk-toggleable__label {background-color: #d4ebff;}#sk-container-id-1 div.sk-label input.sk-toggleable__control:checked~label.sk-toggleable__label {background-color: #d4ebff;}#sk-container-id-1 input.sk-hidden--visually {border: 0;clip: rect(1px 1px 1px 1px);clip: rect(1px, 1px, 1px, 1px);height: 1px;margin: -1px;overflow: hidden;padding: 0;position: absolute;width: 1px;}#sk-container-id-1 div.sk-estimator {font-family: monospace;background-color: #f0f8ff;border: 1px dotted black;border-radius: 0.25em;box-sizing: border-box;margin-bottom: 0.5em;}#sk-container-id-1 div.sk-estimator:hover {background-color: #d4ebff;}#sk-container-id-1 div.sk-parallel-item::after {content: \"\";width: 100%;border-bottom: 1px solid gray;flex-grow: 1;}#sk-container-id-1 div.sk-label:hover label.sk-toggleable__label {background-color: #d4ebff;}#sk-container-id-1 div.sk-serial::before {content: \"\";position: absolute;border-left: 1px solid gray;box-sizing: border-box;top: 0;bottom: 0;left: 50%;z-index: 0;}#sk-container-id-1 div.sk-serial {display: flex;flex-direction: column;align-items: center;background-color: white;padding-right: 0.2em;padding-left: 0.2em;position: relative;}#sk-container-id-1 div.sk-item {position: relative;z-index: 1;}#sk-container-id-1 div.sk-parallel {display: flex;align-items: stretch;justify-content: center;background-color: white;position: relative;}#sk-container-id-1 div.sk-item::before, #sk-container-id-1 div.sk-parallel-item::before {content: \"\";position: absolute;border-left: 1px solid gray;box-sizing: border-box;top: 0;bottom: 0;left: 50%;z-index: -1;}#sk-container-id-1 div.sk-parallel-item {display: flex;flex-direction: column;z-index: 1;position: relative;background-color: white;}#sk-container-id-1 div.sk-parallel-item:first-child::after {align-self: flex-end;width: 50%;}#sk-container-id-1 div.sk-parallel-item:last-child::after {align-self: flex-start;width: 50%;}#sk-container-id-1 div.sk-parallel-item:only-child::after {width: 0;}#sk-container-id-1 div.sk-dashed-wrapped {border: 1px dashed gray;margin: 0 0.4em 0.5em 0.4em;box-sizing: border-box;padding-bottom: 0.4em;background-color: white;}#sk-container-id-1 div.sk-label label {font-family: monospace;font-weight: bold;display: inline-block;line-height: 1.2em;}#sk-container-id-1 div.sk-label-container {text-align: center;}#sk-container-id-1 div.sk-container {/* jupyter's `normalize.less` sets `[hidden] { display: none; }` but bootstrap.min.css set `[hidden] { display: none !important; }` so we also need the `!important` here to be able to override the default hidden behavior on the sphinx rendered scikit-learn.org. See: https://github.com/scikit-learn/scikit-learn/issues/21755 */display: inline-block !important;position: relative;}#sk-container-id-1 div.sk-text-repr-fallback {display: none;}</style><div id=\"sk-container-id-1\" class=\"sk-top-container\"><div class=\"sk-text-repr-fallback\"><pre>GridSearchCV(cv=7, estimator=QuadraticDiscriminantAnalysis(), param_grid={},\n",
              "             refit=&#x27;accuracy&#x27;,\n",
              "             scoring={&#x27;accuracy&#x27;: make_scorer(accuracy_score),\n",
              "                      &#x27;precision&#x27;: make_scorer(precision_score),\n",
              "                      &#x27;recall&#x27;: make_scorer(recall_score)})</pre><b>In a Jupyter environment, please rerun this cell to show the HTML representation or trust the notebook. <br />On GitHub, the HTML representation is unable to render, please try loading this page with nbviewer.org.</b></div><div class=\"sk-container\" hidden><div class=\"sk-item sk-dashed-wrapped\"><div class=\"sk-label-container\"><div class=\"sk-label sk-toggleable\"><input class=\"sk-toggleable__control sk-hidden--visually\" id=\"sk-estimator-id-1\" type=\"checkbox\" ><label for=\"sk-estimator-id-1\" class=\"sk-toggleable__label sk-toggleable__label-arrow\">GridSearchCV</label><div class=\"sk-toggleable__content\"><pre>GridSearchCV(cv=7, estimator=QuadraticDiscriminantAnalysis(), param_grid={},\n",
              "             refit=&#x27;accuracy&#x27;,\n",
              "             scoring={&#x27;accuracy&#x27;: make_scorer(accuracy_score),\n",
              "                      &#x27;precision&#x27;: make_scorer(precision_score),\n",
              "                      &#x27;recall&#x27;: make_scorer(recall_score)})</pre></div></div></div><div class=\"sk-parallel\"><div class=\"sk-parallel-item\"><div class=\"sk-item\"><div class=\"sk-label-container\"><div class=\"sk-label sk-toggleable\"><input class=\"sk-toggleable__control sk-hidden--visually\" id=\"sk-estimator-id-2\" type=\"checkbox\" ><label for=\"sk-estimator-id-2\" class=\"sk-toggleable__label sk-toggleable__label-arrow\">estimator: QuadraticDiscriminantAnalysis</label><div class=\"sk-toggleable__content\"><pre>QuadraticDiscriminantAnalysis()</pre></div></div></div><div class=\"sk-serial\"><div class=\"sk-item\"><div class=\"sk-estimator sk-toggleable\"><input class=\"sk-toggleable__control sk-hidden--visually\" id=\"sk-estimator-id-3\" type=\"checkbox\" ><label for=\"sk-estimator-id-3\" class=\"sk-toggleable__label sk-toggleable__label-arrow\">QuadraticDiscriminantAnalysis</label><div class=\"sk-toggleable__content\"><pre>QuadraticDiscriminantAnalysis()</pre></div></div></div></div></div></div></div></div></div></div>"
            ]
          },
          "metadata": {},
          "execution_count": 7
        }
      ]
    },
    {
      "cell_type": "markdown",
      "source": [
        "### scores"
      ],
      "metadata": {
        "id": "2ozsl1byaSaL"
      }
    },
    {
      "cell_type": "code",
      "source": [
        "results_df"
      ],
      "metadata": {
        "colab": {
          "base_uri": "https://localhost:8080/",
          "height": 130
        },
        "id": "7AZEgbEP6Jex",
        "outputId": "50ca29af-2ebc-4e21-c310-9518b688b3fc"
      },
      "execution_count": null,
      "outputs": [
        {
          "output_type": "execute_result",
          "data": {
            "text/plain": [
              "   mean_fit_time  std_fit_time  mean_score_time  std_score_time params  \\\n",
              "0       4.246386       1.76649         0.115123        0.064304     {}   \n",
              "\n",
              "   split0_test_precision  split1_test_precision  split2_test_precision  \\\n",
              "0               0.957775               0.554187               0.505484   \n",
              "\n",
              "   split3_test_precision  split4_test_precision  ...  split0_test_accuracy  \\\n",
              "0               0.492847               0.490892  ...              0.967502   \n",
              "\n",
              "   split1_test_accuracy  split2_test_accuracy  split3_test_accuracy  \\\n",
              "0              0.580997              0.532374               0.51861   \n",
              "\n",
              "   split4_test_accuracy  split5_test_accuracy  split6_test_accuracy  \\\n",
              "0              0.516873                0.6134              0.916625   \n",
              "\n",
              "   mean_test_accuracy  std_test_accuracy  rank_test_accuracy  \n",
              "0            0.663769            0.17948                   1  \n",
              "\n",
              "[1 rows x 35 columns]"
            ],
            "text/html": [
              "\n",
              "  <div id=\"df-b04d90cf-f827-48fe-a1a4-ef3b054af784\" class=\"colab-df-container\">\n",
              "    <div>\n",
              "<style scoped>\n",
              "    .dataframe tbody tr th:only-of-type {\n",
              "        vertical-align: middle;\n",
              "    }\n",
              "\n",
              "    .dataframe tbody tr th {\n",
              "        vertical-align: top;\n",
              "    }\n",
              "\n",
              "    .dataframe thead th {\n",
              "        text-align: right;\n",
              "    }\n",
              "</style>\n",
              "<table border=\"1\" class=\"dataframe\">\n",
              "  <thead>\n",
              "    <tr style=\"text-align: right;\">\n",
              "      <th></th>\n",
              "      <th>mean_fit_time</th>\n",
              "      <th>std_fit_time</th>\n",
              "      <th>mean_score_time</th>\n",
              "      <th>std_score_time</th>\n",
              "      <th>params</th>\n",
              "      <th>split0_test_precision</th>\n",
              "      <th>split1_test_precision</th>\n",
              "      <th>split2_test_precision</th>\n",
              "      <th>split3_test_precision</th>\n",
              "      <th>split4_test_precision</th>\n",
              "      <th>...</th>\n",
              "      <th>split0_test_accuracy</th>\n",
              "      <th>split1_test_accuracy</th>\n",
              "      <th>split2_test_accuracy</th>\n",
              "      <th>split3_test_accuracy</th>\n",
              "      <th>split4_test_accuracy</th>\n",
              "      <th>split5_test_accuracy</th>\n",
              "      <th>split6_test_accuracy</th>\n",
              "      <th>mean_test_accuracy</th>\n",
              "      <th>std_test_accuracy</th>\n",
              "      <th>rank_test_accuracy</th>\n",
              "    </tr>\n",
              "  </thead>\n",
              "  <tbody>\n",
              "    <tr>\n",
              "      <th>0</th>\n",
              "      <td>4.246386</td>\n",
              "      <td>1.76649</td>\n",
              "      <td>0.115123</td>\n",
              "      <td>0.064304</td>\n",
              "      <td>{}</td>\n",
              "      <td>0.957775</td>\n",
              "      <td>0.554187</td>\n",
              "      <td>0.505484</td>\n",
              "      <td>0.492847</td>\n",
              "      <td>0.490892</td>\n",
              "      <td>...</td>\n",
              "      <td>0.967502</td>\n",
              "      <td>0.580997</td>\n",
              "      <td>0.532374</td>\n",
              "      <td>0.51861</td>\n",
              "      <td>0.516873</td>\n",
              "      <td>0.6134</td>\n",
              "      <td>0.916625</td>\n",
              "      <td>0.663769</td>\n",
              "      <td>0.17948</td>\n",
              "      <td>1</td>\n",
              "    </tr>\n",
              "  </tbody>\n",
              "</table>\n",
              "<p>1 rows × 35 columns</p>\n",
              "</div>\n",
              "    <div class=\"colab-df-buttons\">\n",
              "\n",
              "  <div class=\"colab-df-container\">\n",
              "    <button class=\"colab-df-convert\" onclick=\"convertToInteractive('df-b04d90cf-f827-48fe-a1a4-ef3b054af784')\"\n",
              "            title=\"Convert this dataframe to an interactive table.\"\n",
              "            style=\"display:none;\">\n",
              "\n",
              "  <svg xmlns=\"http://www.w3.org/2000/svg\" height=\"24px\" viewBox=\"0 -960 960 960\">\n",
              "    <path d=\"M120-120v-720h720v720H120Zm60-500h600v-160H180v160Zm220 220h160v-160H400v160Zm0 220h160v-160H400v160ZM180-400h160v-160H180v160Zm440 0h160v-160H620v160ZM180-180h160v-160H180v160Zm440 0h160v-160H620v160Z\"/>\n",
              "  </svg>\n",
              "    </button>\n",
              "\n",
              "  <style>\n",
              "    .colab-df-container {\n",
              "      display:flex;\n",
              "      gap: 12px;\n",
              "    }\n",
              "\n",
              "    .colab-df-convert {\n",
              "      background-color: #E8F0FE;\n",
              "      border: none;\n",
              "      border-radius: 50%;\n",
              "      cursor: pointer;\n",
              "      display: none;\n",
              "      fill: #1967D2;\n",
              "      height: 32px;\n",
              "      padding: 0 0 0 0;\n",
              "      width: 32px;\n",
              "    }\n",
              "\n",
              "    .colab-df-convert:hover {\n",
              "      background-color: #E2EBFA;\n",
              "      box-shadow: 0px 1px 2px rgba(60, 64, 67, 0.3), 0px 1px 3px 1px rgba(60, 64, 67, 0.15);\n",
              "      fill: #174EA6;\n",
              "    }\n",
              "\n",
              "    .colab-df-buttons div {\n",
              "      margin-bottom: 4px;\n",
              "    }\n",
              "\n",
              "    [theme=dark] .colab-df-convert {\n",
              "      background-color: #3B4455;\n",
              "      fill: #D2E3FC;\n",
              "    }\n",
              "\n",
              "    [theme=dark] .colab-df-convert:hover {\n",
              "      background-color: #434B5C;\n",
              "      box-shadow: 0px 1px 3px 1px rgba(0, 0, 0, 0.15);\n",
              "      filter: drop-shadow(0px 1px 2px rgba(0, 0, 0, 0.3));\n",
              "      fill: #FFFFFF;\n",
              "    }\n",
              "  </style>\n",
              "\n",
              "    <script>\n",
              "      const buttonEl =\n",
              "        document.querySelector('#df-b04d90cf-f827-48fe-a1a4-ef3b054af784 button.colab-df-convert');\n",
              "      buttonEl.style.display =\n",
              "        google.colab.kernel.accessAllowed ? 'block' : 'none';\n",
              "\n",
              "      async function convertToInteractive(key) {\n",
              "        const element = document.querySelector('#df-b04d90cf-f827-48fe-a1a4-ef3b054af784');\n",
              "        const dataTable =\n",
              "          await google.colab.kernel.invokeFunction('convertToInteractive',\n",
              "                                                    [key], {});\n",
              "        if (!dataTable) return;\n",
              "\n",
              "        const docLinkHtml = 'Like what you see? Visit the ' +\n",
              "          '<a target=\"_blank\" href=https://colab.research.google.com/notebooks/data_table.ipynb>data table notebook</a>'\n",
              "          + ' to learn more about interactive tables.';\n",
              "        element.innerHTML = '';\n",
              "        dataTable['output_type'] = 'display_data';\n",
              "        await google.colab.output.renderOutput(dataTable, element);\n",
              "        const docLink = document.createElement('div');\n",
              "        docLink.innerHTML = docLinkHtml;\n",
              "        element.appendChild(docLink);\n",
              "      }\n",
              "    </script>\n",
              "  </div>\n",
              "\n",
              "    </div>\n",
              "  </div>\n"
            ]
          },
          "metadata": {},
          "execution_count": 13
        }
      ]
    },
    {
      "cell_type": "code",
      "source": [
        "best_rf = grid_search.best_estimator_\n",
        "\n",
        "# Getting the results\n",
        "results_df = pd.DataFrame(grid_search.cv_results_)\n",
        "\n",
        "# Printing precision, recall, and accuracy scores\n",
        "print(\"Best Parameters:\", grid_search.best_params_)\n",
        "print(\"Best Score (Accuracy):\", grid_search.best_score_)\n",
        "\n",
        "# Accessing precision, recall, and accuracy scores from results_df\n",
        "print(\"Precision Scores:\", results_df[['param_reg_param', 'mean_test_precision']])\n",
        "print(\"Recall Scores:\", results_df[['param_reg_param', 'mean_test_recall']])\n",
        "print(\"Accuracy Scores:\", results_df[['param_reg_param', 'mean_test_accuracy']])\n"
      ],
      "metadata": {
        "id": "r1G531B5aSaL"
      },
      "execution_count": null,
      "outputs": []
    },
    {
      "cell_type": "code",
      "source": [
        "# Printing precision, recall, and accuracy scores for the best parameters\n",
        "best_precision = results_df[results_df['rank_test_accuracy'] == 1][['param_reg_param', 'mean_test_precision']]\n",
        "best_recall = results_df[results_df['rank_test_accuracy'] == 1][['param_reg_param', 'mean_test_recall']]\n",
        "best_accuracy = results_df[results_df['rank_test_accuracy'] == 1][['param_reg_param', 'mean_test_accuracy']]\n",
        "\n",
        "print(\"\\nBest Precision Scores:\")\n",
        "print(best_precision)\n",
        "\n",
        "print(\"\\nBest Recall Scores:\")\n",
        "print(best_recall)\n",
        "\n",
        "print(\"\\nBest Accuracy Scores:\")\n",
        "print(best_accuracy)"
      ],
      "metadata": {
        "id": "PyZYFVOhaSaL"
      },
      "execution_count": null,
      "outputs": []
    },
    {
      "cell_type": "code",
      "source": [
        "# To access recall scores for each fold (for demonstration purposes)\n",
        "results = grid_search.cv_results_\n",
        "for fold_idx in range(grid_search.cv):\n",
        "    fold_recall_key = f\"split{fold_idx}_test_recall\"\n",
        "    fold_recall = results[fold_recall_key]\n",
        "    print(f\"Fold {fold_idx + 1} Recall:\", fold_recall)\n",
        "\n",
        "results = grid_search.cv_results_\n",
        "for fold_idx in range(grid_search.cv):\n",
        "    fold_precision_key = f\"split{fold_idx}_test_precision\"\n",
        "    fold_precision = results[fold_precision_key]\n",
        "    print(f\"Fold {fold_idx + 1} Precision:\", fold_precision)\n",
        "\n",
        "results = grid_search.cv_results_\n",
        "for fold_idx in range(grid_search.cv):\n",
        "    fold_accuracy_key = f\"split{fold_idx}_test_accuracy\"\n",
        "    fold_accuracy = results[fold_accuracy_key]\n",
        "    print(f\"Fold {fold_idx + 1} Accuracy:\", fold_accuracy)"
      ],
      "metadata": {
        "colab": {
          "base_uri": "https://localhost:8080/"
        },
        "outputId": "a8acef0a-cdde-4c69-ee60-4c8936d21e07",
        "id": "fXB5PaQCaSaL"
      },
      "execution_count": null,
      "outputs": [
        {
          "output_type": "stream",
          "name": "stdout",
          "text": [
            "Fold 1 Recall: [0.97433211]\n",
            "Fold 2 Recall: [0.58931378]\n",
            "Fold 3 Recall: [0.57936092]\n",
            "Fold 4 Recall: [0.55945521]\n",
            "Fold 5 Recall: [0.5364065]\n",
            "Fold 6 Recall: [0.62997904]\n",
            "Fold 7 Recall: [0.92872117]\n",
            "Fold 1 Precision: [0.95777549]\n",
            "Fold 2 Precision: [0.55418719]\n",
            "Fold 3 Precision: [0.50548446]\n",
            "Fold 4 Precision: [0.49284725]\n",
            "Fold 5 Precision: [0.49089166]\n",
            "Fold 6 Precision: [0.58519961]\n",
            "Fold 7 Precision: [0.89858012]\n",
            "Fold 1 Accuracy: [0.96750186]\n",
            "Fold 2 Accuracy: [0.58099727]\n",
            "Fold 3 Accuracy: [0.5323741]\n",
            "Fold 4 Accuracy: [0.51861042]\n",
            "Fold 5 Accuracy: [0.51687345]\n",
            "Fold 6 Accuracy: [0.6133995]\n",
            "Fold 7 Accuracy: [0.91662531]\n"
          ]
        }
      ]
    },
    {
      "cell_type": "code",
      "source": [
        "from sklearn.metrics import confusion_matrix\n",
        "from sklearn.model_selection import cross_val_predict\n"
      ],
      "metadata": {
        "id": "KVHoDKOP6qAF"
      },
      "execution_count": null,
      "outputs": []
    },
    {
      "cell_type": "code",
      "source": [
        "best_rf = grid_search.best_estimator_\n",
        "\n",
        "\n",
        "\n",
        "# Get cross-validated predictions\n",
        "predicted = cross_val_predict(best_rf, X, y, cv=grid_search.cv)\n",
        "\n",
        "# Calculate the confusion matrix for each fold\n",
        "for fold_idx in range(grid_search.cv):\n",
        "    start_idx = fold_idx * len(y) // grid_search.cv\n",
        "    end_idx = (fold_idx + 1) * len(y) // grid_search.cv\n",
        "\n",
        "    fold_labels = y[start_idx:end_idx]\n",
        "    fold_predictions = predicted[start_idx:end_idx]\n",
        "\n",
        "    fold_conf_matrix = confusion_matrix(fold_labels, fold_predictions)\n",
        "    print(f\"Confusion Matrix for Fold {fold_idx + 1}:\\n\", fold_conf_matrix)\n"
      ],
      "metadata": {
        "colab": {
          "base_uri": "https://localhost:8080/"
        },
        "id": "b82fAYmQ6mfe",
        "outputId": "c48cff60-8dbf-40dd-dfcc-7373f759d81a"
      },
      "execution_count": null,
      "outputs": [
        {
          "output_type": "stream",
          "name": "stdout",
          "text": [
            "Confusion Matrix for Fold 1:\n",
            " [[2053   83]\n",
            " [  48 1846]]\n",
            "Confusion Matrix for Fold 2:\n",
            " [[1247  946]\n",
            " [ 746 1091]]\n",
            "Confusion Matrix for Fold 3:\n",
            " [[1020 1077]\n",
            " [ 818 1116]]\n",
            "Confusion Matrix for Fold 4:\n",
            " [[ 983 1035]\n",
            " [ 888 1124]]\n",
            "Confusion Matrix for Fold 5:\n",
            " [[1055 1064]\n",
            " [ 887 1025]]\n",
            "Confusion Matrix for Fold 6:\n",
            " [[1254  873]\n",
            " [ 681 1222]]\n",
            "Confusion Matrix for Fold 7:\n",
            " [[1958  204]\n",
            " [ 136 1733]]\n"
          ]
        }
      ]
    },
    {
      "cell_type": "code",
      "source": [
        "# Initialize variables to store the best accuracy and its corresponding fold index\n",
        "best_accuracy = 0.0\n",
        "best_fold_index = -1\n",
        "\n",
        "# Iterate through each fold to find the one with the highest accuracy\n",
        "for fold_idx in range(grid_search.cv):\n",
        "    fold_accuracy_key = f\"split{fold_idx}_test_accuracy\"\n",
        "    fold_accuracy = results[fold_accuracy_key]\n",
        "\n",
        "    max_fold_accuracy = max(fold_accuracy)\n",
        "    if max_fold_accuracy > best_accuracy:\n",
        "        best_accuracy = max_fold_accuracy\n",
        "        best_fold_index = fold_idx\n",
        "\n",
        "# If a fold with the highest accuracy is found, retrieve its precision, recall, and parameters\n",
        "if best_fold_index != -1:\n",
        "    fold_precision_key = f\"split{best_fold_index}_test_precision\"\n",
        "    fold_recall_key = f\"split{best_fold_index}_test_recall\"\n",
        "    # fold_params = results['params'][best_fold_index]\n",
        "\n",
        "    best_fold_precision = results[fold_precision_key][best_accuracy.argmax()]\n",
        "    best_fold_recall = results[fold_recall_key][best_accuracy.argmax()]\n",
        "\n",
        "    # Printing the best accuracy value, its corresponding precision, recall, and parameters\n",
        "    print(f\"Best Accuracy: {best_accuracy}\")\n",
        "    print(f\"Corresponding Precision: {best_fold_precision}\")\n",
        "    print(f\"Corresponding Recall: {best_fold_recall}\")\n",
        "    # print(f\"Parameters for Best Accuracy: {fold_params}\")\n",
        "else:\n",
        "    print(\"No fold found with the highest accuracy.\")\n"
      ],
      "metadata": {
        "colab": {
          "base_uri": "https://localhost:8080/"
        },
        "outputId": "74106afd-933a-433d-af62-8719c26397f1",
        "id": "oL-wQSnJaSaL"
      },
      "execution_count": null,
      "outputs": [
        {
          "output_type": "stream",
          "name": "stdout",
          "text": [
            "Best Accuracy: 0.9675018605805011\n",
            "Corresponding Precision: 0.9577754891864058\n",
            "Corresponding Recall: 0.9743321110529073\n"
          ]
        }
      ]
    },
    {
      "cell_type": "markdown",
      "source": [
        "# Criminal"
      ],
      "metadata": {
        "id": "HGVeI5gbhlYR"
      }
    },
    {
      "cell_type": "markdown",
      "source": [
        "Loading criminal dataset"
      ],
      "metadata": {
        "id": "QR3Q36GfLbmn"
      }
    },
    {
      "cell_type": "code",
      "source": [
        "# loading dataset\n",
        "dataset = pd.read_csv(\"/content/drive/MyDrive/LJP_2023/LJP_Dataset_Files/criminal_documents/case_files_criminal.csv\")\n",
        "print(len(dataset))\n",
        "dataset.rename(columns = {'judgement':'text'}, inplace = True)\n",
        "dataset = dataset[dataset['label'] != \"Other\" ]\n",
        "dataset[\"label\"] = dataset[\"label\"].replace(\"Accepted\", 1)\n",
        "dataset[\"label\"] = dataset[\"label\"].replace(\"Rejected\", 0)\n",
        "\n",
        "#filter dataset\n",
        "dataset.label.replace([np.inf, -np.inf], np.nan, inplace=True)\n",
        "dataset = dataset.dropna(axis=0, subset=['text'])\n",
        "dataset = dataset.dropna(axis=0, subset=['label'])\n",
        "dataset['label'] = dataset['label'].astype(int)\n",
        "dataset.reset_index(drop=True, inplace=True)\n",
        "dataset = dataset['label']\n",
        "print(dataset) #should have only the label column"
      ],
      "metadata": {
        "colab": {
          "base_uri": "https://localhost:8080/"
        },
        "outputId": "df471935-3ef9-4da3-d378-076165f95c5c",
        "id": "-Zr_JpGRhlYR"
      },
      "execution_count": null,
      "outputs": [
        {
          "output_type": "stream",
          "name": "stdout",
          "text": [
            "9069\n",
            "0       0\n",
            "1       0\n",
            "2       0\n",
            "3       1\n",
            "4       0\n",
            "       ..\n",
            "7358    0\n",
            "7359    0\n",
            "7360    0\n",
            "7361    1\n",
            "7362    1\n",
            "Name: label, Length: 7363, dtype: int64\n"
          ]
        }
      ]
    },
    {
      "cell_type": "code",
      "source": [
        "y=dataset"
      ],
      "metadata": {
        "id": "Cil74fU8hlYS"
      },
      "execution_count": null,
      "outputs": []
    },
    {
      "cell_type": "markdown",
      "source": [
        "Loading criminal dataset embeddings"
      ],
      "metadata": {
        "id": "xZ69cbxbLd65"
      }
    },
    {
      "cell_type": "code",
      "source": [
        "X=np.load(\"/content/drive/MyDrive/LJP_2023/Embeddings/Doc2Vec/Experiment 1/Criminal_embedding/doc2vec_criminal_all.npy\")"
      ],
      "metadata": {
        "id": "N2yxna8whlYS"
      },
      "execution_count": null,
      "outputs": []
    },
    {
      "cell_type": "markdown",
      "source": [
        "# Model"
      ],
      "metadata": {
        "id": "SVDB9qx7Xz0r"
      }
    },
    {
      "cell_type": "markdown",
      "source": [
        "## RandomForest"
      ],
      "metadata": {
        "id": "eguCWwVpXz06"
      }
    },
    {
      "cell_type": "code",
      "source": [
        "# Assuming you have a RandomForestClassifier instance 'rf_classifier' and your data 'X', 'y'\n",
        "param_grid = {\n",
        "    'n_estimators': [100, 150, 200, 250, 300, 350, 400, 450]\n",
        "}\n",
        "\n",
        "# Create a dictionary of scoring metrics\n",
        "scoring = {\n",
        "    'precision': make_scorer(precision_score),\n",
        "    'recall': make_scorer(recall_score),\n",
        "    'accuracy': make_scorer(accuracy_score)\n",
        "}\n",
        "\n",
        "grid_search = GridSearchCV(RandomForestClassifier(), param_grid, cv=7, scoring=scoring, refit='accuracy')\n",
        "grid_search.fit(X, y)"
      ],
      "metadata": {
        "colab": {
          "base_uri": "https://localhost:8080/",
          "height": 118
        },
        "outputId": "fe123380-0a0b-49e4-8d41-5404ed53f7e2",
        "id": "EqB7xl4qXz06"
      },
      "execution_count": null,
      "outputs": [
        {
          "output_type": "execute_result",
          "data": {
            "text/plain": [
              "GridSearchCV(cv=7, estimator=RandomForestClassifier(),\n",
              "             param_grid={'n_estimators': [100, 150, 200, 250, 300, 350, 400,\n",
              "                                          450]},\n",
              "             refit='accuracy',\n",
              "             scoring={'accuracy': make_scorer(accuracy_score),\n",
              "                      'precision': make_scorer(precision_score),\n",
              "                      'recall': make_scorer(recall_score)})"
            ],
            "text/html": [
              "<style>#sk-container-id-8 {color: black;background-color: white;}#sk-container-id-8 pre{padding: 0;}#sk-container-id-8 div.sk-toggleable {background-color: white;}#sk-container-id-8 label.sk-toggleable__label {cursor: pointer;display: block;width: 100%;margin-bottom: 0;padding: 0.3em;box-sizing: border-box;text-align: center;}#sk-container-id-8 label.sk-toggleable__label-arrow:before {content: \"▸\";float: left;margin-right: 0.25em;color: #696969;}#sk-container-id-8 label.sk-toggleable__label-arrow:hover:before {color: black;}#sk-container-id-8 div.sk-estimator:hover label.sk-toggleable__label-arrow:before {color: black;}#sk-container-id-8 div.sk-toggleable__content {max-height: 0;max-width: 0;overflow: hidden;text-align: left;background-color: #f0f8ff;}#sk-container-id-8 div.sk-toggleable__content pre {margin: 0.2em;color: black;border-radius: 0.25em;background-color: #f0f8ff;}#sk-container-id-8 input.sk-toggleable__control:checked~div.sk-toggleable__content {max-height: 200px;max-width: 100%;overflow: auto;}#sk-container-id-8 input.sk-toggleable__control:checked~label.sk-toggleable__label-arrow:before {content: \"▾\";}#sk-container-id-8 div.sk-estimator input.sk-toggleable__control:checked~label.sk-toggleable__label {background-color: #d4ebff;}#sk-container-id-8 div.sk-label input.sk-toggleable__control:checked~label.sk-toggleable__label {background-color: #d4ebff;}#sk-container-id-8 input.sk-hidden--visually {border: 0;clip: rect(1px 1px 1px 1px);clip: rect(1px, 1px, 1px, 1px);height: 1px;margin: -1px;overflow: hidden;padding: 0;position: absolute;width: 1px;}#sk-container-id-8 div.sk-estimator {font-family: monospace;background-color: #f0f8ff;border: 1px dotted black;border-radius: 0.25em;box-sizing: border-box;margin-bottom: 0.5em;}#sk-container-id-8 div.sk-estimator:hover {background-color: #d4ebff;}#sk-container-id-8 div.sk-parallel-item::after {content: \"\";width: 100%;border-bottom: 1px solid gray;flex-grow: 1;}#sk-container-id-8 div.sk-label:hover label.sk-toggleable__label {background-color: #d4ebff;}#sk-container-id-8 div.sk-serial::before {content: \"\";position: absolute;border-left: 1px solid gray;box-sizing: border-box;top: 0;bottom: 0;left: 50%;z-index: 0;}#sk-container-id-8 div.sk-serial {display: flex;flex-direction: column;align-items: center;background-color: white;padding-right: 0.2em;padding-left: 0.2em;position: relative;}#sk-container-id-8 div.sk-item {position: relative;z-index: 1;}#sk-container-id-8 div.sk-parallel {display: flex;align-items: stretch;justify-content: center;background-color: white;position: relative;}#sk-container-id-8 div.sk-item::before, #sk-container-id-8 div.sk-parallel-item::before {content: \"\";position: absolute;border-left: 1px solid gray;box-sizing: border-box;top: 0;bottom: 0;left: 50%;z-index: -1;}#sk-container-id-8 div.sk-parallel-item {display: flex;flex-direction: column;z-index: 1;position: relative;background-color: white;}#sk-container-id-8 div.sk-parallel-item:first-child::after {align-self: flex-end;width: 50%;}#sk-container-id-8 div.sk-parallel-item:last-child::after {align-self: flex-start;width: 50%;}#sk-container-id-8 div.sk-parallel-item:only-child::after {width: 0;}#sk-container-id-8 div.sk-dashed-wrapped {border: 1px dashed gray;margin: 0 0.4em 0.5em 0.4em;box-sizing: border-box;padding-bottom: 0.4em;background-color: white;}#sk-container-id-8 div.sk-label label {font-family: monospace;font-weight: bold;display: inline-block;line-height: 1.2em;}#sk-container-id-8 div.sk-label-container {text-align: center;}#sk-container-id-8 div.sk-container {/* jupyter's `normalize.less` sets `[hidden] { display: none; }` but bootstrap.min.css set `[hidden] { display: none !important; }` so we also need the `!important` here to be able to override the default hidden behavior on the sphinx rendered scikit-learn.org. See: https://github.com/scikit-learn/scikit-learn/issues/21755 */display: inline-block !important;position: relative;}#sk-container-id-8 div.sk-text-repr-fallback {display: none;}</style><div id=\"sk-container-id-8\" class=\"sk-top-container\"><div class=\"sk-text-repr-fallback\"><pre>GridSearchCV(cv=7, estimator=RandomForestClassifier(),\n",
              "             param_grid={&#x27;n_estimators&#x27;: [100, 150, 200, 250, 300, 350, 400,\n",
              "                                          450]},\n",
              "             refit=&#x27;accuracy&#x27;,\n",
              "             scoring={&#x27;accuracy&#x27;: make_scorer(accuracy_score),\n",
              "                      &#x27;precision&#x27;: make_scorer(precision_score),\n",
              "                      &#x27;recall&#x27;: make_scorer(recall_score)})</pre><b>In a Jupyter environment, please rerun this cell to show the HTML representation or trust the notebook. <br />On GitHub, the HTML representation is unable to render, please try loading this page with nbviewer.org.</b></div><div class=\"sk-container\" hidden><div class=\"sk-item sk-dashed-wrapped\"><div class=\"sk-label-container\"><div class=\"sk-label sk-toggleable\"><input class=\"sk-toggleable__control sk-hidden--visually\" id=\"sk-estimator-id-22\" type=\"checkbox\" ><label for=\"sk-estimator-id-22\" class=\"sk-toggleable__label sk-toggleable__label-arrow\">GridSearchCV</label><div class=\"sk-toggleable__content\"><pre>GridSearchCV(cv=7, estimator=RandomForestClassifier(),\n",
              "             param_grid={&#x27;n_estimators&#x27;: [100, 150, 200, 250, 300, 350, 400,\n",
              "                                          450]},\n",
              "             refit=&#x27;accuracy&#x27;,\n",
              "             scoring={&#x27;accuracy&#x27;: make_scorer(accuracy_score),\n",
              "                      &#x27;precision&#x27;: make_scorer(precision_score),\n",
              "                      &#x27;recall&#x27;: make_scorer(recall_score)})</pre></div></div></div><div class=\"sk-parallel\"><div class=\"sk-parallel-item\"><div class=\"sk-item\"><div class=\"sk-label-container\"><div class=\"sk-label sk-toggleable\"><input class=\"sk-toggleable__control sk-hidden--visually\" id=\"sk-estimator-id-23\" type=\"checkbox\" ><label for=\"sk-estimator-id-23\" class=\"sk-toggleable__label sk-toggleable__label-arrow\">estimator: RandomForestClassifier</label><div class=\"sk-toggleable__content\"><pre>RandomForestClassifier()</pre></div></div></div><div class=\"sk-serial\"><div class=\"sk-item\"><div class=\"sk-estimator sk-toggleable\"><input class=\"sk-toggleable__control sk-hidden--visually\" id=\"sk-estimator-id-24\" type=\"checkbox\" ><label for=\"sk-estimator-id-24\" class=\"sk-toggleable__label sk-toggleable__label-arrow\">RandomForestClassifier</label><div class=\"sk-toggleable__content\"><pre>RandomForestClassifier()</pre></div></div></div></div></div></div></div></div></div></div>"
            ]
          },
          "metadata": {},
          "execution_count": 58
        }
      ]
    },
    {
      "cell_type": "markdown",
      "source": [
        "### scores"
      ],
      "metadata": {
        "id": "YxcYJ0lBXz06"
      }
    },
    {
      "cell_type": "code",
      "source": [
        "best_rf = grid_search.best_estimator_\n",
        "\n",
        "# Getting the results\n",
        "results_df = pd.DataFrame(grid_search.cv_results_)\n",
        "\n",
        "# Printing precision, recall, and accuracy scores\n",
        "print(\"Best Parameters:\", grid_search.best_params_)\n",
        "print(\"Best Score (Accuracy):\", grid_search.best_score_)\n",
        "\n",
        "# Accessing precision, recall, and accuracy scores from results_df\n",
        "print(\"Precision Scores:\", results_df[['param_n_estimators', 'mean_test_precision']])\n",
        "print(\"Recall Scores:\", results_df[['param_n_estimators', 'mean_test_recall']])\n",
        "print(\"Accuracy Scores:\", results_df[['param_n_estimators', 'mean_test_accuracy']])\n"
      ],
      "metadata": {
        "colab": {
          "base_uri": "https://localhost:8080/"
        },
        "outputId": "d9d058ce-f777-415c-b21f-4148eb2909c9",
        "id": "iplpyARXXz07"
      },
      "execution_count": null,
      "outputs": [
        {
          "output_type": "stream",
          "name": "stdout",
          "text": [
            "Best Parameters: {'n_estimators': 250}\n",
            "Best Score (Accuracy): 0.6164773622906923\n",
            "Precision Scores:   param_n_estimators  mean_test_precision\n",
            "0                100             0.590587\n",
            "1                150             0.605369\n",
            "2                200             0.611610\n",
            "3                250             0.616784\n",
            "4                300             0.611679\n",
            "5                350             0.611933\n",
            "6                400             0.615055\n",
            "7                450             0.608918\n",
            "Recall Scores:   param_n_estimators  mean_test_recall\n",
            "0                100          0.431876\n",
            "1                150          0.434806\n",
            "2                200          0.435979\n",
            "3                250          0.436854\n",
            "4                300          0.429823\n",
            "5                350          0.432167\n",
            "6                400          0.431292\n",
            "7                450          0.427481\n",
            "Accuracy Scores:   param_n_estimators  mean_test_accuracy\n",
            "0                100            0.599907\n",
            "1                150            0.609550\n",
            "2                200            0.612673\n",
            "3                250            0.616477\n",
            "4                300            0.611861\n",
            "5                350            0.612811\n",
            "6                400            0.614169\n",
            "7                450            0.610774\n"
          ]
        }
      ]
    },
    {
      "cell_type": "code",
      "source": [
        "# Printing precision, recall, and accuracy scores for the best parameters\n",
        "best_precision = results_df[results_df['rank_test_accuracy'] == 1][['param_n_estimators', 'mean_test_precision']]\n",
        "best_recall = results_df[results_df['rank_test_accuracy'] == 1][['param_n_estimators', 'mean_test_recall']]\n",
        "best_accuracy = results_df[results_df['rank_test_accuracy'] == 1][['param_n_estimators', 'mean_test_accuracy']]\n",
        "\n",
        "print(\"\\nBest Precision Scores:\")\n",
        "print(best_precision)\n",
        "\n",
        "print(\"\\nBest Recall Scores:\")\n",
        "print(best_recall)\n",
        "\n",
        "print(\"\\nBest Accuracy Scores:\")\n",
        "print(best_accuracy)"
      ],
      "metadata": {
        "colab": {
          "base_uri": "https://localhost:8080/"
        },
        "outputId": "ef0b8bda-65fb-49d2-80ac-8db2891e8181",
        "id": "XutSVni5Xz07"
      },
      "execution_count": null,
      "outputs": [
        {
          "output_type": "stream",
          "name": "stdout",
          "text": [
            "\n",
            "Best Precision Scores:\n",
            "  param_n_estimators  mean_test_precision\n",
            "3                250             0.616784\n",
            "\n",
            "Best Recall Scores:\n",
            "  param_n_estimators  mean_test_recall\n",
            "3                250          0.436854\n",
            "\n",
            "Best Accuracy Scores:\n",
            "  param_n_estimators  mean_test_accuracy\n",
            "3                250            0.616477\n"
          ]
        }
      ]
    },
    {
      "cell_type": "code",
      "source": [
        "# To access recall scores for each fold (for demonstration purposes)\n",
        "results = grid_search.cv_results_\n",
        "for fold_idx in range(grid_search.cv):\n",
        "    fold_recall_key = f\"split{fold_idx}_test_recall\"\n",
        "    fold_recall = results[fold_recall_key]\n",
        "    print(f\"Fold {fold_idx + 1} Recall:\", fold_recall)\n",
        "\n",
        "results = grid_search.cv_results_\n",
        "for fold_idx in range(grid_search.cv):\n",
        "    fold_precision_key = f\"split{fold_idx}_test_precision\"\n",
        "    fold_precision = results[fold_precision_key]\n",
        "    print(f\"Fold {fold_idx + 1} Precision:\", fold_precision)\n",
        "\n",
        "results = grid_search.cv_results_\n",
        "for fold_idx in range(grid_search.cv):\n",
        "    fold_accuracy_key = f\"split{fold_idx}_test_accuracy\"\n",
        "    fold_accuracy = results[fold_accuracy_key]\n",
        "    print(f\"Fold {fold_idx + 1} Accuracy:\", fold_accuracy)"
      ],
      "metadata": {
        "colab": {
          "base_uri": "https://localhost:8080/"
        },
        "outputId": "465a8021-bec8-4f55-eed1-7829d96d83c6",
        "id": "x6gP4DmiXz07"
      },
      "execution_count": null,
      "outputs": [
        {
          "output_type": "stream",
          "name": "stdout",
          "text": [
            "Fold 1 Recall: [0.62628337 0.63655031 0.64887064 0.65913758 0.64065708 0.65092402\n",
            " 0.64271047 0.64681725]\n",
            "Fold 2 Recall: [0.35523614 0.36755647 0.36755647 0.34291581 0.34702259 0.34907598\n",
            " 0.34702259 0.33880903]\n",
            "Fold 3 Recall: [0.37577002 0.3613963  0.35112936 0.35112936 0.33880903 0.34291581\n",
            " 0.34907598 0.34291581]\n",
            "Fold 4 Recall: [0.35523614 0.34702259 0.36550308 0.35728953 0.36550308 0.35934292\n",
            " 0.36755647 0.3613963 ]\n",
            "Fold 5 Recall: [0.34631148 0.35245902 0.34836066 0.34631148 0.33196721 0.33401639\n",
            " 0.32786885 0.32581967]\n",
            "Fold 6 Recall: [0.38729508 0.39344262 0.39754098 0.41803279 0.40163934 0.40778689\n",
            " 0.39754098 0.39139344]\n",
            "Fold 7 Recall: [0.57700205 0.58521561 0.57289528 0.58316222 0.58316222 0.58110883\n",
            " 0.58726899 0.58521561]\n",
            "Fold 1 Precision: [0.81117021 0.81578947 0.83377309 0.8381201  0.83646113 0.84533333\n",
            " 0.84823848 0.83554377]\n",
            "Fold 2 Precision: [0.52108434 0.54573171 0.54407295 0.521875   0.528125   0.53291536\n",
            " 0.53481013 0.52715655]\n",
            "Fold 3 Precision: [0.5097493  0.52225519 0.52453988 0.52134146 0.51242236 0.52681388\n",
            " 0.53291536 0.51863354]\n",
            "Fold 4 Precision: [0.50144928 0.51212121 0.52818991 0.53374233 0.53134328 0.52710843\n",
            " 0.5327381  0.51917404]\n",
            "Fold 5 Precision: [0.45552561 0.47252747 0.46321526 0.4747191  0.45251397 0.45658263\n",
            " 0.45454545 0.45953757]\n",
            "Fold 6 Precision: [0.5797546  0.59259259 0.60815047 0.62769231 0.6163522  0.5975976\n",
            " 0.59876543 0.59501558]\n",
            "Fold 7 Precision: [0.75537634 0.77656676 0.77932961 0.8        0.80453258 0.7971831\n",
            " 0.80337079 0.80736544]\n",
            "Fold 1 Accuracy: [0.7595057  0.76520913 0.77756654 0.78326996 0.7756654  0.78326996\n",
            " 0.78136882 0.77756654]\n",
            "Fold 2 Accuracy: [0.55038023 0.56558935 0.56463878 0.55038023 0.55418251 0.55703422\n",
            " 0.55798479 0.55323194]\n",
            "Fold 3 Accuracy: [0.54372624 0.5513308  0.55228137 0.55038023 0.54467681 0.55323194\n",
            " 0.55703422 0.54847909]\n",
            "Fold 4 Accuracy: [0.53802281 0.54467681 0.55513308 0.55798479 0.55703422 0.55418251\n",
            " 0.55798479 0.54942966]\n",
            "Fold 5 Accuracy: [0.50475285 0.51711027 0.51045627 0.51901141 0.50380228 0.50665399\n",
            " 0.50570342 0.5095057 ]\n",
            "Fold 6 Accuracy: [0.58555133 0.59315589 0.60171103 0.61501901 0.60646388 0.59790875\n",
            " 0.59695817 0.59410646]\n",
            "Fold 7 Accuracy: [0.71741199 0.72978116 0.72692674 0.73929591 0.74119886 0.73739296\n",
            " 0.74215033 0.74310181]\n"
          ]
        }
      ]
    },
    {
      "cell_type": "code",
      "source": [
        "# Initialize variables to store the best accuracy and its corresponding fold index\n",
        "best_accuracy = 0.0\n",
        "best_fold_index = -1\n",
        "\n",
        "# Iterate through each fold to find the one with the highest accuracy\n",
        "for fold_idx in range(grid_search.cv):\n",
        "    fold_accuracy_key = f\"split{fold_idx}_test_accuracy\"\n",
        "    fold_accuracy = results[fold_accuracy_key]\n",
        "\n",
        "    max_fold_accuracy = max(fold_accuracy)\n",
        "    if max_fold_accuracy > best_accuracy:\n",
        "        best_accuracy = max_fold_accuracy\n",
        "        best_fold_index = fold_idx\n",
        "\n",
        "# If a fold with the highest accuracy is found, retrieve its precision, recall, and parameters\n",
        "if best_fold_index != -1:\n",
        "    fold_precision_key = f\"split{best_fold_index}_test_precision\"\n",
        "    fold_recall_key = f\"split{best_fold_index}_test_recall\"\n",
        "    fold_params = results['params'][best_fold_index]\n",
        "\n",
        "    best_fold_precision = results[fold_precision_key][best_accuracy.argmax()]\n",
        "    best_fold_recall = results[fold_recall_key][best_accuracy.argmax()]\n",
        "\n",
        "    # Printing the best accuracy value, its corresponding precision, recall, and parameters\n",
        "    print(f\"Best Accuracy: {best_accuracy}\")\n",
        "    print(f\"Corresponding Precision: {best_fold_precision}\")\n",
        "    print(f\"Corresponding Recall: {best_fold_recall}\")\n",
        "    # print(f\"Parameters for Best Accuracy: {fold_params}\")\n",
        "else:\n",
        "    print(\"No fold found with the highest accuracy.\")\n"
      ],
      "metadata": {
        "colab": {
          "base_uri": "https://localhost:8080/"
        },
        "id": "DYRHjYOnh9DH",
        "outputId": "4c3efd18-e7fe-41aa-fd59-9994c8713e49"
      },
      "execution_count": null,
      "outputs": [
        {
          "output_type": "stream",
          "name": "stdout",
          "text": [
            "Best Accuracy: 0.7832699619771863\n",
            "Corresponding Precision: 0.8111702127659575\n",
            "Corresponding Recall: 0.6262833675564682\n"
          ]
        }
      ]
    },
    {
      "cell_type": "markdown",
      "source": [
        "## ExtraTreesClassifier"
      ],
      "metadata": {
        "id": "BMaovOjmXz08"
      }
    },
    {
      "cell_type": "code",
      "source": [
        "from sklearn.model_selection import GridSearchCV\n",
        "from sklearn.metrics import make_scorer, precision_score, recall_score, accuracy_score\n",
        "\n",
        "# Assuming you have a RandomForestClassifier instance 'rf_classifier' and your data 'X', 'y'\n",
        "param_grid = {\n",
        "    'n_estimators': [100, 250, 400]\n",
        "}\n",
        "\n",
        "# Create a dictionary of scoring metrics\n",
        "scoring = {\n",
        "    'precision': make_scorer(precision_score),\n",
        "    'recall': make_scorer(recall_score),\n",
        "    'accuracy': make_scorer(accuracy_score)\n",
        "}\n",
        "\n",
        "grid_search = GridSearchCV(ExtraTreesClassifier(n_jobs=-1), param_grid, cv=7, scoring=scoring, refit='accuracy')\n",
        "grid_search.fit(X, y)"
      ],
      "metadata": {
        "colab": {
          "base_uri": "https://localhost:8080/",
          "height": 118
        },
        "id": "SJzpD7i0Xz08",
        "outputId": "9a1b40e3-7509-4105-9bc6-56819e4622d3"
      },
      "execution_count": null,
      "outputs": [
        {
          "output_type": "execute_result",
          "data": {
            "text/plain": [
              "GridSearchCV(cv=7, estimator=ExtraTreesClassifier(n_jobs=-1),\n",
              "             param_grid={'n_estimators': [100, 250, 400]}, refit='accuracy',\n",
              "             scoring={'accuracy': make_scorer(accuracy_score),\n",
              "                      'precision': make_scorer(precision_score),\n",
              "                      'recall': make_scorer(recall_score)})"
            ],
            "text/html": [
              "<style>#sk-container-id-10 {color: black;background-color: white;}#sk-container-id-10 pre{padding: 0;}#sk-container-id-10 div.sk-toggleable {background-color: white;}#sk-container-id-10 label.sk-toggleable__label {cursor: pointer;display: block;width: 100%;margin-bottom: 0;padding: 0.3em;box-sizing: border-box;text-align: center;}#sk-container-id-10 label.sk-toggleable__label-arrow:before {content: \"▸\";float: left;margin-right: 0.25em;color: #696969;}#sk-container-id-10 label.sk-toggleable__label-arrow:hover:before {color: black;}#sk-container-id-10 div.sk-estimator:hover label.sk-toggleable__label-arrow:before {color: black;}#sk-container-id-10 div.sk-toggleable__content {max-height: 0;max-width: 0;overflow: hidden;text-align: left;background-color: #f0f8ff;}#sk-container-id-10 div.sk-toggleable__content pre {margin: 0.2em;color: black;border-radius: 0.25em;background-color: #f0f8ff;}#sk-container-id-10 input.sk-toggleable__control:checked~div.sk-toggleable__content {max-height: 200px;max-width: 100%;overflow: auto;}#sk-container-id-10 input.sk-toggleable__control:checked~label.sk-toggleable__label-arrow:before {content: \"▾\";}#sk-container-id-10 div.sk-estimator input.sk-toggleable__control:checked~label.sk-toggleable__label {background-color: #d4ebff;}#sk-container-id-10 div.sk-label input.sk-toggleable__control:checked~label.sk-toggleable__label {background-color: #d4ebff;}#sk-container-id-10 input.sk-hidden--visually {border: 0;clip: rect(1px 1px 1px 1px);clip: rect(1px, 1px, 1px, 1px);height: 1px;margin: -1px;overflow: hidden;padding: 0;position: absolute;width: 1px;}#sk-container-id-10 div.sk-estimator {font-family: monospace;background-color: #f0f8ff;border: 1px dotted black;border-radius: 0.25em;box-sizing: border-box;margin-bottom: 0.5em;}#sk-container-id-10 div.sk-estimator:hover {background-color: #d4ebff;}#sk-container-id-10 div.sk-parallel-item::after {content: \"\";width: 100%;border-bottom: 1px solid gray;flex-grow: 1;}#sk-container-id-10 div.sk-label:hover label.sk-toggleable__label {background-color: #d4ebff;}#sk-container-id-10 div.sk-serial::before {content: \"\";position: absolute;border-left: 1px solid gray;box-sizing: border-box;top: 0;bottom: 0;left: 50%;z-index: 0;}#sk-container-id-10 div.sk-serial {display: flex;flex-direction: column;align-items: center;background-color: white;padding-right: 0.2em;padding-left: 0.2em;position: relative;}#sk-container-id-10 div.sk-item {position: relative;z-index: 1;}#sk-container-id-10 div.sk-parallel {display: flex;align-items: stretch;justify-content: center;background-color: white;position: relative;}#sk-container-id-10 div.sk-item::before, #sk-container-id-10 div.sk-parallel-item::before {content: \"\";position: absolute;border-left: 1px solid gray;box-sizing: border-box;top: 0;bottom: 0;left: 50%;z-index: -1;}#sk-container-id-10 div.sk-parallel-item {display: flex;flex-direction: column;z-index: 1;position: relative;background-color: white;}#sk-container-id-10 div.sk-parallel-item:first-child::after {align-self: flex-end;width: 50%;}#sk-container-id-10 div.sk-parallel-item:last-child::after {align-self: flex-start;width: 50%;}#sk-container-id-10 div.sk-parallel-item:only-child::after {width: 0;}#sk-container-id-10 div.sk-dashed-wrapped {border: 1px dashed gray;margin: 0 0.4em 0.5em 0.4em;box-sizing: border-box;padding-bottom: 0.4em;background-color: white;}#sk-container-id-10 div.sk-label label {font-family: monospace;font-weight: bold;display: inline-block;line-height: 1.2em;}#sk-container-id-10 div.sk-label-container {text-align: center;}#sk-container-id-10 div.sk-container {/* jupyter's `normalize.less` sets `[hidden] { display: none; }` but bootstrap.min.css set `[hidden] { display: none !important; }` so we also need the `!important` here to be able to override the default hidden behavior on the sphinx rendered scikit-learn.org. See: https://github.com/scikit-learn/scikit-learn/issues/21755 */display: inline-block !important;position: relative;}#sk-container-id-10 div.sk-text-repr-fallback {display: none;}</style><div id=\"sk-container-id-10\" class=\"sk-top-container\"><div class=\"sk-text-repr-fallback\"><pre>GridSearchCV(cv=7, estimator=ExtraTreesClassifier(n_jobs=-1),\n",
              "             param_grid={&#x27;n_estimators&#x27;: [100, 250, 400]}, refit=&#x27;accuracy&#x27;,\n",
              "             scoring={&#x27;accuracy&#x27;: make_scorer(accuracy_score),\n",
              "                      &#x27;precision&#x27;: make_scorer(precision_score),\n",
              "                      &#x27;recall&#x27;: make_scorer(recall_score)})</pre><b>In a Jupyter environment, please rerun this cell to show the HTML representation or trust the notebook. <br />On GitHub, the HTML representation is unable to render, please try loading this page with nbviewer.org.</b></div><div class=\"sk-container\" hidden><div class=\"sk-item sk-dashed-wrapped\"><div class=\"sk-label-container\"><div class=\"sk-label sk-toggleable\"><input class=\"sk-toggleable__control sk-hidden--visually\" id=\"sk-estimator-id-28\" type=\"checkbox\" ><label for=\"sk-estimator-id-28\" class=\"sk-toggleable__label sk-toggleable__label-arrow\">GridSearchCV</label><div class=\"sk-toggleable__content\"><pre>GridSearchCV(cv=7, estimator=ExtraTreesClassifier(n_jobs=-1),\n",
              "             param_grid={&#x27;n_estimators&#x27;: [100, 250, 400]}, refit=&#x27;accuracy&#x27;,\n",
              "             scoring={&#x27;accuracy&#x27;: make_scorer(accuracy_score),\n",
              "                      &#x27;precision&#x27;: make_scorer(precision_score),\n",
              "                      &#x27;recall&#x27;: make_scorer(recall_score)})</pre></div></div></div><div class=\"sk-parallel\"><div class=\"sk-parallel-item\"><div class=\"sk-item\"><div class=\"sk-label-container\"><div class=\"sk-label sk-toggleable\"><input class=\"sk-toggleable__control sk-hidden--visually\" id=\"sk-estimator-id-29\" type=\"checkbox\" ><label for=\"sk-estimator-id-29\" class=\"sk-toggleable__label sk-toggleable__label-arrow\">estimator: ExtraTreesClassifier</label><div class=\"sk-toggleable__content\"><pre>ExtraTreesClassifier(n_jobs=-1)</pre></div></div></div><div class=\"sk-serial\"><div class=\"sk-item\"><div class=\"sk-estimator sk-toggleable\"><input class=\"sk-toggleable__control sk-hidden--visually\" id=\"sk-estimator-id-30\" type=\"checkbox\" ><label for=\"sk-estimator-id-30\" class=\"sk-toggleable__label sk-toggleable__label-arrow\">ExtraTreesClassifier</label><div class=\"sk-toggleable__content\"><pre>ExtraTreesClassifier(n_jobs=-1)</pre></div></div></div></div></div></div></div></div></div></div>"
            ]
          },
          "metadata": {},
          "execution_count": 61
        }
      ]
    },
    {
      "cell_type": "markdown",
      "source": [
        "### scores"
      ],
      "metadata": {
        "id": "QREQ91ICXz08"
      }
    },
    {
      "cell_type": "code",
      "source": [
        "best_rf = grid_search.best_estimator_\n",
        "\n",
        "# Getting the results\n",
        "results_df = pd.DataFrame(grid_search.cv_results_)\n",
        "\n",
        "# Printing precision, recall, and accuracy scores\n",
        "print(\"Best Parameters:\", grid_search.best_params_)\n",
        "print(\"Best Score (Accuracy):\", grid_search.best_score_)\n",
        "\n",
        "# Accessing precision, recall, and accuracy scores from results_df\n",
        "print(\"Precision Scores:\", results_df[['param_n_estimators', 'mean_test_precision']])\n",
        "print(\"Recall Scores:\", results_df[['param_n_estimators', 'mean_test_recall']])\n",
        "print(\"Accuracy Scores:\", results_df[['param_n_estimators', 'mean_test_accuracy']])\n"
      ],
      "metadata": {
        "colab": {
          "base_uri": "https://localhost:8080/"
        },
        "id": "hTJfMXbqXz08",
        "outputId": "19e244c8-3142-4720-e725-798dffe9cc02"
      },
      "execution_count": null,
      "outputs": [
        {
          "output_type": "stream",
          "name": "stdout",
          "text": [
            "Best Parameters: {'n_estimators': 400}\n",
            "Best Score (Accuracy): 0.6352259636330935\n",
            "Precision Scores:   param_n_estimators  mean_test_precision\n",
            "0                100             0.625622\n",
            "1                250             0.623689\n",
            "2                400             0.623500\n",
            "Recall Scores:   param_n_estimators  mean_test_recall\n",
            "0                100          0.496966\n",
            "1                250          0.496970\n",
            "2                400          0.497261\n",
            "Accuracy Scores:   param_n_estimators  mean_test_accuracy\n",
            "0                100            0.634139\n",
            "1                250            0.634819\n",
            "2                400            0.635226\n"
          ]
        }
      ]
    },
    {
      "cell_type": "code",
      "source": [
        "# Printing precision, recall, and accuracy scores for the best parameters\n",
        "best_precision = results_df[results_df['rank_test_accuracy'] == 1][['param_n_estimators', 'mean_test_precision']]\n",
        "best_recall = results_df[results_df['rank_test_accuracy'] == 1][['param_n_estimators', 'mean_test_recall']]\n",
        "best_accuracy = results_df[results_df['rank_test_accuracy'] == 1][['param_n_estimators', 'mean_test_accuracy']]\n",
        "\n",
        "print(\"\\nBest Precision Scores:\")\n",
        "print(best_precision)\n",
        "\n",
        "print(\"\\nBest Recall Scores:\")\n",
        "print(best_recall)\n",
        "\n",
        "print(\"\\nBest Accuracy Scores:\")\n",
        "print(best_accuracy)"
      ],
      "metadata": {
        "colab": {
          "base_uri": "https://localhost:8080/"
        },
        "id": "yjOXfThxXz08",
        "outputId": "b99afbfa-2d35-45b1-8eaf-b10576c91c26"
      },
      "execution_count": null,
      "outputs": [
        {
          "output_type": "stream",
          "name": "stdout",
          "text": [
            "\n",
            "Best Precision Scores:\n",
            "  param_n_estimators  mean_test_precision\n",
            "2                400               0.6235\n",
            "\n",
            "Best Recall Scores:\n",
            "  param_n_estimators  mean_test_recall\n",
            "2                400          0.497261\n",
            "\n",
            "Best Accuracy Scores:\n",
            "  param_n_estimators  mean_test_accuracy\n",
            "2                400            0.635226\n"
          ]
        }
      ]
    },
    {
      "cell_type": "code",
      "source": [
        "# To access recall scores for each fold (for demonstration purposes)\n",
        "results = grid_search.cv_results_\n",
        "for fold_idx in range(grid_search.cv):\n",
        "    fold_recall_key = f\"split{fold_idx}_test_recall\"\n",
        "    fold_recall = results[fold_recall_key]\n",
        "    print(f\"Fold {fold_idx + 1} Recall:\", fold_recall)\n",
        "\n",
        "results = grid_search.cv_results_\n",
        "for fold_idx in range(grid_search.cv):\n",
        "    fold_precision_key = f\"split{fold_idx}_test_precision\"\n",
        "    fold_precision = results[fold_precision_key]\n",
        "    print(f\"Fold {fold_idx + 1} Precision:\", fold_precision)\n",
        "\n",
        "results = grid_search.cv_results_\n",
        "for fold_idx in range(grid_search.cv):\n",
        "    fold_accuracy_key = f\"split{fold_idx}_test_accuracy\"\n",
        "    fold_accuracy = results[fold_accuracy_key]\n",
        "    print(f\"Fold {fold_idx + 1} Accuracy:\", fold_accuracy)"
      ],
      "metadata": {
        "colab": {
          "base_uri": "https://localhost:8080/"
        },
        "id": "Zcnbc0R0Xz08",
        "outputId": "6de0a76d-352c-4437-b120-85c4e11417a5"
      },
      "execution_count": null,
      "outputs": [
        {
          "output_type": "stream",
          "name": "stdout",
          "text": [
            "Fold 1 Recall: [0.74948665 0.78234086 0.7761807 ]\n",
            "Fold 2 Recall: [0.42915811 0.40862423 0.40246407]\n",
            "Fold 3 Recall: [0.34291581 0.35318275 0.35523614]\n",
            "Fold 4 Recall: [0.40041068 0.38193018 0.37577002]\n",
            "Fold 5 Recall: [0.36885246 0.3647541  0.35655738]\n",
            "Fold 6 Recall: [0.47540984 0.46516393 0.48155738]\n",
            "Fold 7 Recall: [0.71252567 0.72279261 0.73305955]\n",
            "Fold 1 Precision: [0.85680751 0.87990762 0.87906977]\n",
            "Fold 2 Precision: [0.56334232 0.55431755 0.54444444]\n",
            "Fold 3 Precision: [0.48265896 0.49142857 0.49287749]\n",
            "Fold 4 Precision: [0.52560647 0.51810585 0.52586207]\n",
            "Fold 5 Precision: [0.46511628 0.48369565 0.46774194]\n",
            "Fold 6 Precision: [0.65168539 0.59424084 0.63002681]\n",
            "Fold 7 Precision: [0.83413462 0.8441247  0.82448037]\n",
            "Fold 1 Accuracy: [0.82604563 0.84980989 0.84695817]\n",
            "Fold 2 Accuracy: [0.58174905 0.57414449 0.56749049]\n",
            "Fold 3 Accuracy: [0.5256654  0.53136882 0.53231939]\n",
            "Fold 4 Accuracy: [0.55513308 0.54942966 0.55418251]\n",
            "Fold 5 Accuracy: [0.51045627 0.52471483 0.51330798]\n",
            "Fold 6 Accuracy: [0.63878327 0.60456274 0.628327  ]\n",
            "Fold 7 Accuracy: [0.80114177 0.80970504 0.80399619]\n"
          ]
        }
      ]
    },
    {
      "cell_type": "code",
      "source": [
        "# Initialize variables to store the best accuracy and its corresponding fold index\n",
        "best_accuracy = 0.0\n",
        "best_fold_index = -1\n",
        "\n",
        "# Iterate through each fold to find the one with the highest accuracy\n",
        "for fold_idx in range(grid_search.cv):\n",
        "    fold_accuracy_key = f\"split{fold_idx}_test_accuracy\"\n",
        "    fold_accuracy = results[fold_accuracy_key]\n",
        "\n",
        "    max_fold_accuracy = max(fold_accuracy)\n",
        "    if max_fold_accuracy > best_accuracy:\n",
        "        best_accuracy = max_fold_accuracy\n",
        "        best_fold_index = fold_idx\n",
        "\n",
        "# If a fold with the highest accuracy is found, retrieve its precision, recall, and parameters\n",
        "if best_fold_index != -1:\n",
        "    fold_precision_key = f\"split{best_fold_index}_test_precision\"\n",
        "    fold_recall_key = f\"split{best_fold_index}_test_recall\"\n",
        "    fold_params = results['params'][best_fold_index]\n",
        "\n",
        "    best_fold_precision = results[fold_precision_key][best_accuracy.argmax()]\n",
        "    best_fold_recall = results[fold_recall_key][best_accuracy.argmax()]\n",
        "\n",
        "    # Printing the best accuracy value, its corresponding precision, recall, and parameters\n",
        "    print(f\"Best Accuracy: {best_accuracy}\")\n",
        "    print(f\"Corresponding Precision: {best_fold_precision}\")\n",
        "    print(f\"Corresponding Recall: {best_fold_recall}\")\n",
        "    # print(f\"Parameters for Best Accuracy: {fold_params}\")\n",
        "else:\n",
        "    print(\"No fold found with the highest accuracy.\")\n"
      ],
      "metadata": {
        "id": "Ptiq8zfwipE_"
      },
      "execution_count": null,
      "outputs": []
    },
    {
      "cell_type": "markdown",
      "source": [
        "## XGBoost"
      ],
      "metadata": {
        "id": "b-_trR7ZXz08"
      }
    },
    {
      "cell_type": "code",
      "source": [
        "# Assuming you have a RandomForestClassifier instance 'rf_classifier' and your data 'X', 'y'\n",
        "param_grid = {\n",
        "    'max_depth': [3, 5, 7, 9]\n",
        "}\n",
        "\n",
        "# Create a dictionary of scoring metrics\n",
        "scoring = {\n",
        "    'precision': make_scorer(precision_score),\n",
        "    'recall': make_scorer(recall_score),\n",
        "    'accuracy': make_scorer(accuracy_score)\n",
        "}\n",
        "\n",
        "grid_search = GridSearchCV(XGBClassifier(device='cuda'), param_grid, cv=7, scoring=scoring, refit='accuracy')\n",
        "grid_search.fit(X, y)"
      ],
      "metadata": {
        "colab": {
          "base_uri": "https://localhost:8080/",
          "height": 118
        },
        "id": "KoZFTYn1Xz08",
        "outputId": "57593b20-a83d-4b42-d86d-f679afe2a344"
      },
      "execution_count": null,
      "outputs": [
        {
          "output_type": "execute_result",
          "data": {
            "text/plain": [
              "GridSearchCV(cv=7,\n",
              "             estimator=XGBClassifier(base_score=None, booster=None,\n",
              "                                     callbacks=None, colsample_bylevel=None,\n",
              "                                     colsample_bynode=None,\n",
              "                                     colsample_bytree=None, device='cuda',\n",
              "                                     early_stopping_rounds=None,\n",
              "                                     enable_categorical=False, eval_metric=None,\n",
              "                                     feature_types=None, gamma=None,\n",
              "                                     grow_policy=None, importance_type=None,\n",
              "                                     interaction_constraints=None,\n",
              "                                     learning_rate=Non...\n",
              "                                     max_delta_step=None, max_depth=None,\n",
              "                                     max_leaves=None, min_child_weight=None,\n",
              "                                     missing=nan, monotone_constraints=None,\n",
              "                                     multi_strategy=None, n_estimators=None,\n",
              "                                     n_jobs=None, num_parallel_tree=None,\n",
              "                                     random_state=None, ...),\n",
              "             param_grid={'max_depth': [3, 5, 7, 9]}, refit='accuracy',\n",
              "             scoring={'accuracy': make_scorer(accuracy_score),\n",
              "                      'precision': make_scorer(precision_score),\n",
              "                      'recall': make_scorer(recall_score)})"
            ],
            "text/html": [
              "<style>#sk-container-id-10 {color: black;background-color: white;}#sk-container-id-10 pre{padding: 0;}#sk-container-id-10 div.sk-toggleable {background-color: white;}#sk-container-id-10 label.sk-toggleable__label {cursor: pointer;display: block;width: 100%;margin-bottom: 0;padding: 0.3em;box-sizing: border-box;text-align: center;}#sk-container-id-10 label.sk-toggleable__label-arrow:before {content: \"▸\";float: left;margin-right: 0.25em;color: #696969;}#sk-container-id-10 label.sk-toggleable__label-arrow:hover:before {color: black;}#sk-container-id-10 div.sk-estimator:hover label.sk-toggleable__label-arrow:before {color: black;}#sk-container-id-10 div.sk-toggleable__content {max-height: 0;max-width: 0;overflow: hidden;text-align: left;background-color: #f0f8ff;}#sk-container-id-10 div.sk-toggleable__content pre {margin: 0.2em;color: black;border-radius: 0.25em;background-color: #f0f8ff;}#sk-container-id-10 input.sk-toggleable__control:checked~div.sk-toggleable__content {max-height: 200px;max-width: 100%;overflow: auto;}#sk-container-id-10 input.sk-toggleable__control:checked~label.sk-toggleable__label-arrow:before {content: \"▾\";}#sk-container-id-10 div.sk-estimator input.sk-toggleable__control:checked~label.sk-toggleable__label {background-color: #d4ebff;}#sk-container-id-10 div.sk-label input.sk-toggleable__control:checked~label.sk-toggleable__label {background-color: #d4ebff;}#sk-container-id-10 input.sk-hidden--visually {border: 0;clip: rect(1px 1px 1px 1px);clip: rect(1px, 1px, 1px, 1px);height: 1px;margin: -1px;overflow: hidden;padding: 0;position: absolute;width: 1px;}#sk-container-id-10 div.sk-estimator {font-family: monospace;background-color: #f0f8ff;border: 1px dotted black;border-radius: 0.25em;box-sizing: border-box;margin-bottom: 0.5em;}#sk-container-id-10 div.sk-estimator:hover {background-color: #d4ebff;}#sk-container-id-10 div.sk-parallel-item::after {content: \"\";width: 100%;border-bottom: 1px solid gray;flex-grow: 1;}#sk-container-id-10 div.sk-label:hover label.sk-toggleable__label {background-color: #d4ebff;}#sk-container-id-10 div.sk-serial::before {content: \"\";position: absolute;border-left: 1px solid gray;box-sizing: border-box;top: 0;bottom: 0;left: 50%;z-index: 0;}#sk-container-id-10 div.sk-serial {display: flex;flex-direction: column;align-items: center;background-color: white;padding-right: 0.2em;padding-left: 0.2em;position: relative;}#sk-container-id-10 div.sk-item {position: relative;z-index: 1;}#sk-container-id-10 div.sk-parallel {display: flex;align-items: stretch;justify-content: center;background-color: white;position: relative;}#sk-container-id-10 div.sk-item::before, #sk-container-id-10 div.sk-parallel-item::before {content: \"\";position: absolute;border-left: 1px solid gray;box-sizing: border-box;top: 0;bottom: 0;left: 50%;z-index: -1;}#sk-container-id-10 div.sk-parallel-item {display: flex;flex-direction: column;z-index: 1;position: relative;background-color: white;}#sk-container-id-10 div.sk-parallel-item:first-child::after {align-self: flex-end;width: 50%;}#sk-container-id-10 div.sk-parallel-item:last-child::after {align-self: flex-start;width: 50%;}#sk-container-id-10 div.sk-parallel-item:only-child::after {width: 0;}#sk-container-id-10 div.sk-dashed-wrapped {border: 1px dashed gray;margin: 0 0.4em 0.5em 0.4em;box-sizing: border-box;padding-bottom: 0.4em;background-color: white;}#sk-container-id-10 div.sk-label label {font-family: monospace;font-weight: bold;display: inline-block;line-height: 1.2em;}#sk-container-id-10 div.sk-label-container {text-align: center;}#sk-container-id-10 div.sk-container {/* jupyter's `normalize.less` sets `[hidden] { display: none; }` but bootstrap.min.css set `[hidden] { display: none !important; }` so we also need the `!important` here to be able to override the default hidden behavior on the sphinx rendered scikit-learn.org. See: https://github.com/scikit-learn/scikit-learn/issues/21755 */display: inline-block !important;position: relative;}#sk-container-id-10 div.sk-text-repr-fallback {display: none;}</style><div id=\"sk-container-id-10\" class=\"sk-top-container\"><div class=\"sk-text-repr-fallback\"><pre>GridSearchCV(cv=7,\n",
              "             estimator=XGBClassifier(base_score=None, booster=None,\n",
              "                                     callbacks=None, colsample_bylevel=None,\n",
              "                                     colsample_bynode=None,\n",
              "                                     colsample_bytree=None, device=&#x27;cuda&#x27;,\n",
              "                                     early_stopping_rounds=None,\n",
              "                                     enable_categorical=False, eval_metric=None,\n",
              "                                     feature_types=None, gamma=None,\n",
              "                                     grow_policy=None, importance_type=None,\n",
              "                                     interaction_constraints=None,\n",
              "                                     learning_rate=Non...\n",
              "                                     max_delta_step=None, max_depth=None,\n",
              "                                     max_leaves=None, min_child_weight=None,\n",
              "                                     missing=nan, monotone_constraints=None,\n",
              "                                     multi_strategy=None, n_estimators=None,\n",
              "                                     n_jobs=None, num_parallel_tree=None,\n",
              "                                     random_state=None, ...),\n",
              "             param_grid={&#x27;max_depth&#x27;: [3, 5, 7, 9]}, refit=&#x27;accuracy&#x27;,\n",
              "             scoring={&#x27;accuracy&#x27;: make_scorer(accuracy_score),\n",
              "                      &#x27;precision&#x27;: make_scorer(precision_score),\n",
              "                      &#x27;recall&#x27;: make_scorer(recall_score)})</pre><b>In a Jupyter environment, please rerun this cell to show the HTML representation or trust the notebook. <br />On GitHub, the HTML representation is unable to render, please try loading this page with nbviewer.org.</b></div><div class=\"sk-container\" hidden><div class=\"sk-item sk-dashed-wrapped\"><div class=\"sk-label-container\"><div class=\"sk-label sk-toggleable\"><input class=\"sk-toggleable__control sk-hidden--visually\" id=\"sk-estimator-id-28\" type=\"checkbox\" ><label for=\"sk-estimator-id-28\" class=\"sk-toggleable__label sk-toggleable__label-arrow\">GridSearchCV</label><div class=\"sk-toggleable__content\"><pre>GridSearchCV(cv=7,\n",
              "             estimator=XGBClassifier(base_score=None, booster=None,\n",
              "                                     callbacks=None, colsample_bylevel=None,\n",
              "                                     colsample_bynode=None,\n",
              "                                     colsample_bytree=None, device=&#x27;cuda&#x27;,\n",
              "                                     early_stopping_rounds=None,\n",
              "                                     enable_categorical=False, eval_metric=None,\n",
              "                                     feature_types=None, gamma=None,\n",
              "                                     grow_policy=None, importance_type=None,\n",
              "                                     interaction_constraints=None,\n",
              "                                     learning_rate=Non...\n",
              "                                     max_delta_step=None, max_depth=None,\n",
              "                                     max_leaves=None, min_child_weight=None,\n",
              "                                     missing=nan, monotone_constraints=None,\n",
              "                                     multi_strategy=None, n_estimators=None,\n",
              "                                     n_jobs=None, num_parallel_tree=None,\n",
              "                                     random_state=None, ...),\n",
              "             param_grid={&#x27;max_depth&#x27;: [3, 5, 7, 9]}, refit=&#x27;accuracy&#x27;,\n",
              "             scoring={&#x27;accuracy&#x27;: make_scorer(accuracy_score),\n",
              "                      &#x27;precision&#x27;: make_scorer(precision_score),\n",
              "                      &#x27;recall&#x27;: make_scorer(recall_score)})</pre></div></div></div><div class=\"sk-parallel\"><div class=\"sk-parallel-item\"><div class=\"sk-item\"><div class=\"sk-label-container\"><div class=\"sk-label sk-toggleable\"><input class=\"sk-toggleable__control sk-hidden--visually\" id=\"sk-estimator-id-29\" type=\"checkbox\" ><label for=\"sk-estimator-id-29\" class=\"sk-toggleable__label sk-toggleable__label-arrow\">estimator: XGBClassifier</label><div class=\"sk-toggleable__content\"><pre>XGBClassifier(base_score=None, booster=None, callbacks=None,\n",
              "              colsample_bylevel=None, colsample_bynode=None,\n",
              "              colsample_bytree=None, device=&#x27;cuda&#x27;, early_stopping_rounds=None,\n",
              "              enable_categorical=False, eval_metric=None, feature_types=None,\n",
              "              gamma=None, grow_policy=None, importance_type=None,\n",
              "              interaction_constraints=None, learning_rate=None, max_bin=None,\n",
              "              max_cat_threshold=None, max_cat_to_onehot=None,\n",
              "              max_delta_step=None, max_depth=None, max_leaves=None,\n",
              "              min_child_weight=None, missing=nan, monotone_constraints=None,\n",
              "              multi_strategy=None, n_estimators=None, n_jobs=None,\n",
              "              num_parallel_tree=None, random_state=None, ...)</pre></div></div></div><div class=\"sk-serial\"><div class=\"sk-item\"><div class=\"sk-estimator sk-toggleable\"><input class=\"sk-toggleable__control sk-hidden--visually\" id=\"sk-estimator-id-30\" type=\"checkbox\" ><label for=\"sk-estimator-id-30\" class=\"sk-toggleable__label sk-toggleable__label-arrow\">XGBClassifier</label><div class=\"sk-toggleable__content\"><pre>XGBClassifier(base_score=None, booster=None, callbacks=None,\n",
              "              colsample_bylevel=None, colsample_bynode=None,\n",
              "              colsample_bytree=None, device=&#x27;cuda&#x27;, early_stopping_rounds=None,\n",
              "              enable_categorical=False, eval_metric=None, feature_types=None,\n",
              "              gamma=None, grow_policy=None, importance_type=None,\n",
              "              interaction_constraints=None, learning_rate=None, max_bin=None,\n",
              "              max_cat_threshold=None, max_cat_to_onehot=None,\n",
              "              max_delta_step=None, max_depth=None, max_leaves=None,\n",
              "              min_child_weight=None, missing=nan, monotone_constraints=None,\n",
              "              multi_strategy=None, n_estimators=None, n_jobs=None,\n",
              "              num_parallel_tree=None, random_state=None, ...)</pre></div></div></div></div></div></div></div></div></div></div>"
            ]
          },
          "metadata": {},
          "execution_count": 68
        }
      ]
    },
    {
      "cell_type": "markdown",
      "source": [
        "### scores"
      ],
      "metadata": {
        "id": "E3mmWjQxXz08"
      }
    },
    {
      "cell_type": "code",
      "source": [
        "best_rf = grid_search.best_estimator_\n",
        "\n",
        "# Getting the results\n",
        "results_df = pd.DataFrame(grid_search.cv_results_)\n",
        "\n",
        "# Printing precision, recall, and accuracy scores\n",
        "print(\"Best Parameters:\", grid_search.best_params_)\n",
        "print(\"Best Score (Accuracy):\", grid_search.best_score_)\n",
        "\n",
        "# Accessing precision, recall, and accuracy scores from results_df\n",
        "print(\"Precision Scores:\", results_df[['param_max_depth', 'mean_test_precision']])\n",
        "print(\"Recall Scores:\", results_df[['param_max_depth', 'mean_test_recall']])\n",
        "print(\"Accuracy Scores:\", results_df[['param_max_depth', 'mean_test_accuracy']])\n"
      ],
      "metadata": {
        "colab": {
          "base_uri": "https://localhost:8080/"
        },
        "id": "NAbpjNSDXz09",
        "outputId": "27334ebe-634d-467f-9eb9-126c37a79cbd"
      },
      "execution_count": null,
      "outputs": [
        {
          "output_type": "stream",
          "name": "stdout",
          "text": [
            "Best Parameters: {'max_depth': 9}\n",
            "Best Score (Accuracy): 0.6004526869989059\n",
            "Precision Scores:   param_max_depth  mean_test_precision\n",
            "0               3             0.531663\n",
            "1               5             0.561513\n",
            "2               7             0.574693\n",
            "3               9             0.576039\n",
            "Recall Scores:   param_max_depth  mean_test_recall\n",
            "0               3          0.453843\n",
            "1               5          0.508093\n",
            "2               7          0.508681\n",
            "3               9          0.517487\n",
            "Accuracy Scores:   param_max_depth  mean_test_accuracy\n",
            "0               3            0.561195\n",
            "1               5            0.589040\n",
            "2               7            0.598958\n",
            "3               9            0.600453\n"
          ]
        }
      ]
    },
    {
      "cell_type": "code",
      "source": [
        "# Printing precision, recall, and accuracy scores for the best parameters\n",
        "best_precision = results_df[results_df['rank_test_accuracy'] == 1][['param_max_depth', 'mean_test_precision']]\n",
        "best_recall = results_df[results_df['rank_test_accuracy'] == 1][['param_max_depth', 'mean_test_recall']]\n",
        "best_accuracy = results_df[results_df['rank_test_accuracy'] == 1][['param_max_depth', 'mean_test_accuracy']]\n",
        "\n",
        "print(\"\\nBest Precision Scores:\")\n",
        "print(best_precision)\n",
        "\n",
        "print(\"\\nBest Recall Scores:\")\n",
        "print(best_recall)\n",
        "\n",
        "print(\"\\nBest Accuracy Scores:\")\n",
        "print(best_accuracy)"
      ],
      "metadata": {
        "colab": {
          "base_uri": "https://localhost:8080/"
        },
        "id": "RTx1aAOvXz09",
        "outputId": "336206b6-05b8-42b9-969c-039d245cec68"
      },
      "execution_count": null,
      "outputs": [
        {
          "output_type": "stream",
          "name": "stdout",
          "text": [
            "\n",
            "Best Precision Scores:\n",
            "  param_max_depth  mean_test_precision\n",
            "3               9             0.576039\n",
            "\n",
            "Best Recall Scores:\n",
            "  param_max_depth  mean_test_recall\n",
            "3               9          0.517487\n",
            "\n",
            "Best Accuracy Scores:\n",
            "  param_max_depth  mean_test_accuracy\n",
            "3               9            0.600453\n"
          ]
        }
      ]
    },
    {
      "cell_type": "code",
      "source": [
        "# To access recall scores for each fold (for demonstration purposes)\n",
        "results = grid_search.cv_results_\n",
        "for fold_idx in range(grid_search.cv):\n",
        "    fold_recall_key = f\"split{fold_idx}_test_recall\"\n",
        "    fold_recall = results[fold_recall_key]\n",
        "    print(f\"Fold {fold_idx + 1} Recall:\", fold_recall)\n",
        "\n",
        "results = grid_search.cv_results_\n",
        "for fold_idx in range(grid_search.cv):\n",
        "    fold_precision_key = f\"split{fold_idx}_test_precision\"\n",
        "    fold_precision = results[fold_precision_key]\n",
        "    print(f\"Fold {fold_idx + 1} Precision:\", fold_precision)\n",
        "\n",
        "results = grid_search.cv_results_\n",
        "for fold_idx in range(grid_search.cv):\n",
        "    fold_accuracy_key = f\"split{fold_idx}_test_accuracy\"\n",
        "    fold_accuracy = results[fold_accuracy_key]\n",
        "    print(f\"Fold {fold_idx + 1} Accuracy:\", fold_accuracy)"
      ],
      "metadata": {
        "colab": {
          "base_uri": "https://localhost:8080/"
        },
        "id": "xRLb6EKdXz09",
        "outputId": "e6dada12-d543-4b5a-94ec-5ad989ce1c51"
      },
      "execution_count": null,
      "outputs": [
        {
          "output_type": "stream",
          "name": "stdout",
          "text": [
            "Fold 1 Recall: [0.57905544 0.64681725 0.724846   0.73716632]\n",
            "Fold 2 Recall: [0.42915811 0.49486653 0.43737166 0.44353183]\n",
            "Fold 3 Recall: [0.40041068 0.42915811 0.41067762 0.43942505]\n",
            "Fold 4 Recall: [0.40862423 0.4476386  0.43942505 0.45174538]\n",
            "Fold 5 Recall: [0.39754098 0.43647541 0.42827869 0.41188525]\n",
            "Fold 6 Recall: [0.45081967 0.47540984 0.47745902 0.47540984]\n",
            "Fold 7 Recall: [0.51129363 0.62628337 0.64271047 0.66324435]\n",
            "Fold 1 Precision: [0.64827586 0.69690265 0.78444444 0.79249448]\n",
            "Fold 2 Precision: [0.5        0.51059322 0.4965035  0.51551313]\n",
            "Fold 3 Precision: [0.46428571 0.50483092 0.48780488 0.48636364]\n",
            "Fold 4 Precision: [0.49257426 0.50230415 0.48526077 0.4954955 ]\n",
            "Fold 5 Precision: [0.44803695 0.48409091 0.476082   0.44078947]\n",
            "Fold 6 Precision: [0.52505967 0.55106888 0.56144578 0.56585366]\n",
            "Fold 7 Precision: [0.64341085 0.68080357 0.73130841 0.7357631 ]\n",
            "Fold 1 Accuracy: [0.65969582 0.70627376 0.78041825 0.78897338]\n",
            "Fold 2 Accuracy: [0.53707224 0.54657795 0.53422053 0.54942966]\n",
            "Fold 3 Accuracy: [0.50855513 0.54087452 0.52756654 0.5256654 ]\n",
            "Fold 4 Accuracy: [0.53136882 0.53897338 0.52471483 0.53326996]\n",
            "Fold 5 Accuracy: [0.49334601 0.52281369 0.5161597  0.48479087]\n",
            "Fold 6 Accuracy: [0.55608365 0.5769962  0.58460076 0.58745247]\n",
            "Fold 7 Accuracy: [0.64224548 0.69077069 0.72502379 0.73358706]\n"
          ]
        }
      ]
    },
    {
      "cell_type": "code",
      "source": [
        "# Initialize variables to store the best accuracy and its corresponding fold index\n",
        "best_accuracy = 0.0\n",
        "best_fold_index = -1\n",
        "\n",
        "# Iterate through each fold to find the one with the highest accuracy\n",
        "for fold_idx in range(grid_search.cv):\n",
        "    fold_accuracy_key = f\"split{fold_idx}_test_accuracy\"\n",
        "    fold_accuracy = results[fold_accuracy_key]\n",
        "\n",
        "    max_fold_accuracy = max(fold_accuracy)\n",
        "    if max_fold_accuracy > best_accuracy:\n",
        "        best_accuracy = max_fold_accuracy\n",
        "        best_fold_index = fold_idx\n",
        "\n",
        "# If a fold with the highest accuracy is found, retrieve its precision, recall, and parameters\n",
        "if best_fold_index != -1:\n",
        "    fold_precision_key = f\"split{best_fold_index}_test_precision\"\n",
        "    fold_recall_key = f\"split{best_fold_index}_test_recall\"\n",
        "    fold_params = results['params'][best_fold_index]\n",
        "\n",
        "    best_fold_precision = results[fold_precision_key][best_accuracy.argmax()]\n",
        "    best_fold_recall = results[fold_recall_key][best_accuracy.argmax()]\n",
        "\n",
        "    # Printing the best accuracy value, its corresponding precision, recall, and parameters\n",
        "    print(f\"Best Accuracy: {best_accuracy}\")\n",
        "    print(f\"Corresponding Precision: {best_fold_precision}\")\n",
        "    print(f\"Corresponding Recall: {best_fold_recall}\")\n",
        "    # print(f\"Parameters for Best Accuracy: {fold_params}\")\n",
        "else:\n",
        "    print(\"No fold found with the highest accuracy.\")\n"
      ],
      "metadata": {
        "colab": {
          "base_uri": "https://localhost:8080/"
        },
        "id": "KhkiEotai-XU",
        "outputId": "a5ae7a55-d59e-4f6d-89ec-54b96b460888"
      },
      "execution_count": null,
      "outputs": [
        {
          "output_type": "stream",
          "name": "stdout",
          "text": [
            "Best Accuracy: 0.7889733840304183\n",
            "Corresponding Precision: 0.6482758620689655\n",
            "Corresponding Recall: 0.5790554414784395\n"
          ]
        }
      ]
    },
    {
      "cell_type": "markdown",
      "source": [
        "## KNeighborsClassifier"
      ],
      "metadata": {
        "id": "-K8bC8J_Xz09"
      }
    },
    {
      "cell_type": "code",
      "source": [
        "# Assuming you have a RandomForestClassifier instance 'rf_classifier' and your data 'X', 'y'\n",
        "param_grid = {\n",
        "    'n_neighbors': [3, 5, 7, 9],\n",
        "}\n",
        "\n",
        "# Create a dictionary of scoring metrics\n",
        "scoring = {\n",
        "    'precision': make_scorer(precision_score),\n",
        "    'recall': make_scorer(recall_score),\n",
        "    'accuracy': make_scorer(accuracy_score)\n",
        "}\n",
        "\n",
        "grid_search = GridSearchCV(KNeighborsClassifier(), param_grid, cv=7, scoring=scoring, refit='accuracy')\n",
        "grid_search.fit(X, y)"
      ],
      "metadata": {
        "colab": {
          "base_uri": "https://localhost:8080/",
          "height": 656
        },
        "id": "29s7BmrOXz09",
        "outputId": "73a1aca7-e607-46ee-d068-3f8ffb5be1ee"
      },
      "execution_count": null,
      "outputs": [
        {
          "output_type": "stream",
          "name": "stdout",
          "text": [
            "[I] [13:53:25.799311] Unused keyword parameter: n_jobs during cuML estimator initialization\n",
            "[I] [13:53:25.803007] Unused keyword parameter: n_jobs during cuML estimator initialization\n",
            "[I] [13:53:25.838327] Unused keyword parameter: n_jobs during cuML estimator initialization\n",
            "[I] [13:53:25.868261] Unused keyword parameter: n_jobs during cuML estimator initialization\n",
            "[I] [13:53:25.897688] Unused keyword parameter: n_jobs during cuML estimator initialization\n",
            "[I] [13:53:25.928737] Unused keyword parameter: n_jobs during cuML estimator initialization\n",
            "[I] [13:53:25.960892] Unused keyword parameter: n_jobs during cuML estimator initialization\n",
            "[I] [13:53:25.993074] Unused keyword parameter: n_jobs during cuML estimator initialization\n",
            "[I] [13:53:26.022375] Unused keyword parameter: n_jobs during cuML estimator initialization\n",
            "[I] [13:53:26.050186] Unused keyword parameter: n_jobs during cuML estimator initialization\n",
            "[I] [13:53:26.078879] Unused keyword parameter: n_jobs during cuML estimator initialization\n",
            "[I] [13:53:26.106714] Unused keyword parameter: n_jobs during cuML estimator initialization\n",
            "[I] [13:53:26.134029] Unused keyword parameter: n_jobs during cuML estimator initialization\n",
            "[I] [13:53:26.162874] Unused keyword parameter: n_jobs during cuML estimator initialization\n",
            "[I] [13:53:26.189554] Unused keyword parameter: n_jobs during cuML estimator initialization\n",
            "[I] [13:53:26.215602] Unused keyword parameter: n_jobs during cuML estimator initialization\n",
            "[I] [13:53:26.245450] Unused keyword parameter: n_jobs during cuML estimator initialization\n",
            "[I] [13:53:26.276235] Unused keyword parameter: n_jobs during cuML estimator initialization\n",
            "[I] [13:53:26.307442] Unused keyword parameter: n_jobs during cuML estimator initialization\n",
            "[I] [13:53:26.333125] Unused keyword parameter: n_jobs during cuML estimator initialization\n",
            "[I] [13:53:26.358441] Unused keyword parameter: n_jobs during cuML estimator initialization\n",
            "[I] [13:53:26.384523] Unused keyword parameter: n_jobs during cuML estimator initialization\n",
            "[I] [13:53:26.408910] Unused keyword parameter: n_jobs during cuML estimator initialization\n",
            "[I] [13:53:26.433028] Unused keyword parameter: n_jobs during cuML estimator initialization\n",
            "[I] [13:53:26.460763] Unused keyword parameter: n_jobs during cuML estimator initialization\n",
            "[I] [13:53:26.485148] Unused keyword parameter: n_jobs during cuML estimator initialization\n",
            "[I] [13:53:26.510497] Unused keyword parameter: n_jobs during cuML estimator initialization\n",
            "[I] [13:53:26.535887] Unused keyword parameter: n_jobs during cuML estimator initialization\n",
            "[I] [13:53:26.559470] Unused keyword parameter: n_jobs during cuML estimator initialization\n",
            "[I] [13:53:26.585384] Unused keyword parameter: n_jobs during cuML estimator initialization\n",
            "[I] [13:53:26.585824] Unused keyword parameter: n_jobs during cuML estimator initialization\n"
          ]
        },
        {
          "output_type": "execute_result",
          "data": {
            "text/plain": [
              "GridSearchCV(cv=7, estimator=KNeighborsClassifier(),\n",
              "             param_grid={'n_neighbors': [3, 5, 7, 9]}, refit='accuracy',\n",
              "             scoring={'accuracy': make_scorer(accuracy_score),\n",
              "                      'precision': make_scorer(precision_score),\n",
              "                      'recall': make_scorer(recall_score)})"
            ],
            "text/html": [
              "<style>#sk-container-id-11 {color: black;background-color: white;}#sk-container-id-11 pre{padding: 0;}#sk-container-id-11 div.sk-toggleable {background-color: white;}#sk-container-id-11 label.sk-toggleable__label {cursor: pointer;display: block;width: 100%;margin-bottom: 0;padding: 0.3em;box-sizing: border-box;text-align: center;}#sk-container-id-11 label.sk-toggleable__label-arrow:before {content: \"▸\";float: left;margin-right: 0.25em;color: #696969;}#sk-container-id-11 label.sk-toggleable__label-arrow:hover:before {color: black;}#sk-container-id-11 div.sk-estimator:hover label.sk-toggleable__label-arrow:before {color: black;}#sk-container-id-11 div.sk-toggleable__content {max-height: 0;max-width: 0;overflow: hidden;text-align: left;background-color: #f0f8ff;}#sk-container-id-11 div.sk-toggleable__content pre {margin: 0.2em;color: black;border-radius: 0.25em;background-color: #f0f8ff;}#sk-container-id-11 input.sk-toggleable__control:checked~div.sk-toggleable__content {max-height: 200px;max-width: 100%;overflow: auto;}#sk-container-id-11 input.sk-toggleable__control:checked~label.sk-toggleable__label-arrow:before {content: \"▾\";}#sk-container-id-11 div.sk-estimator input.sk-toggleable__control:checked~label.sk-toggleable__label {background-color: #d4ebff;}#sk-container-id-11 div.sk-label input.sk-toggleable__control:checked~label.sk-toggleable__label {background-color: #d4ebff;}#sk-container-id-11 input.sk-hidden--visually {border: 0;clip: rect(1px 1px 1px 1px);clip: rect(1px, 1px, 1px, 1px);height: 1px;margin: -1px;overflow: hidden;padding: 0;position: absolute;width: 1px;}#sk-container-id-11 div.sk-estimator {font-family: monospace;background-color: #f0f8ff;border: 1px dotted black;border-radius: 0.25em;box-sizing: border-box;margin-bottom: 0.5em;}#sk-container-id-11 div.sk-estimator:hover {background-color: #d4ebff;}#sk-container-id-11 div.sk-parallel-item::after {content: \"\";width: 100%;border-bottom: 1px solid gray;flex-grow: 1;}#sk-container-id-11 div.sk-label:hover label.sk-toggleable__label {background-color: #d4ebff;}#sk-container-id-11 div.sk-serial::before {content: \"\";position: absolute;border-left: 1px solid gray;box-sizing: border-box;top: 0;bottom: 0;left: 50%;z-index: 0;}#sk-container-id-11 div.sk-serial {display: flex;flex-direction: column;align-items: center;background-color: white;padding-right: 0.2em;padding-left: 0.2em;position: relative;}#sk-container-id-11 div.sk-item {position: relative;z-index: 1;}#sk-container-id-11 div.sk-parallel {display: flex;align-items: stretch;justify-content: center;background-color: white;position: relative;}#sk-container-id-11 div.sk-item::before, #sk-container-id-11 div.sk-parallel-item::before {content: \"\";position: absolute;border-left: 1px solid gray;box-sizing: border-box;top: 0;bottom: 0;left: 50%;z-index: -1;}#sk-container-id-11 div.sk-parallel-item {display: flex;flex-direction: column;z-index: 1;position: relative;background-color: white;}#sk-container-id-11 div.sk-parallel-item:first-child::after {align-self: flex-end;width: 50%;}#sk-container-id-11 div.sk-parallel-item:last-child::after {align-self: flex-start;width: 50%;}#sk-container-id-11 div.sk-parallel-item:only-child::after {width: 0;}#sk-container-id-11 div.sk-dashed-wrapped {border: 1px dashed gray;margin: 0 0.4em 0.5em 0.4em;box-sizing: border-box;padding-bottom: 0.4em;background-color: white;}#sk-container-id-11 div.sk-label label {font-family: monospace;font-weight: bold;display: inline-block;line-height: 1.2em;}#sk-container-id-11 div.sk-label-container {text-align: center;}#sk-container-id-11 div.sk-container {/* jupyter's `normalize.less` sets `[hidden] { display: none; }` but bootstrap.min.css set `[hidden] { display: none !important; }` so we also need the `!important` here to be able to override the default hidden behavior on the sphinx rendered scikit-learn.org. See: https://github.com/scikit-learn/scikit-learn/issues/21755 */display: inline-block !important;position: relative;}#sk-container-id-11 div.sk-text-repr-fallback {display: none;}</style><div id=\"sk-container-id-11\" class=\"sk-top-container\"><div class=\"sk-text-repr-fallback\"><pre>GridSearchCV(cv=7, estimator=KNeighborsClassifier(),\n",
              "             param_grid={&#x27;n_neighbors&#x27;: [3, 5, 7, 9]}, refit=&#x27;accuracy&#x27;,\n",
              "             scoring={&#x27;accuracy&#x27;: make_scorer(accuracy_score),\n",
              "                      &#x27;precision&#x27;: make_scorer(precision_score),\n",
              "                      &#x27;recall&#x27;: make_scorer(recall_score)})</pre><b>In a Jupyter environment, please rerun this cell to show the HTML representation or trust the notebook. <br />On GitHub, the HTML representation is unable to render, please try loading this page with nbviewer.org.</b></div><div class=\"sk-container\" hidden><div class=\"sk-item sk-dashed-wrapped\"><div class=\"sk-label-container\"><div class=\"sk-label sk-toggleable\"><input class=\"sk-toggleable__control sk-hidden--visually\" id=\"sk-estimator-id-31\" type=\"checkbox\" ><label for=\"sk-estimator-id-31\" class=\"sk-toggleable__label sk-toggleable__label-arrow\">GridSearchCV</label><div class=\"sk-toggleable__content\"><pre>GridSearchCV(cv=7, estimator=KNeighborsClassifier(),\n",
              "             param_grid={&#x27;n_neighbors&#x27;: [3, 5, 7, 9]}, refit=&#x27;accuracy&#x27;,\n",
              "             scoring={&#x27;accuracy&#x27;: make_scorer(accuracy_score),\n",
              "                      &#x27;precision&#x27;: make_scorer(precision_score),\n",
              "                      &#x27;recall&#x27;: make_scorer(recall_score)})</pre></div></div></div><div class=\"sk-parallel\"><div class=\"sk-parallel-item\"><div class=\"sk-item\"><div class=\"sk-label-container\"><div class=\"sk-label sk-toggleable\"><input class=\"sk-toggleable__control sk-hidden--visually\" id=\"sk-estimator-id-32\" type=\"checkbox\" ><label for=\"sk-estimator-id-32\" class=\"sk-toggleable__label sk-toggleable__label-arrow\">estimator: KNeighborsClassifier</label><div class=\"sk-toggleable__content\"><pre>KNeighborsClassifier()</pre></div></div></div><div class=\"sk-serial\"><div class=\"sk-item\"><div class=\"sk-estimator sk-toggleable\"><input class=\"sk-toggleable__control sk-hidden--visually\" id=\"sk-estimator-id-33\" type=\"checkbox\" ><label for=\"sk-estimator-id-33\" class=\"sk-toggleable__label sk-toggleable__label-arrow\">KNeighborsClassifier</label><div class=\"sk-toggleable__content\"><pre>KNeighborsClassifier()</pre></div></div></div></div></div></div></div></div></div></div>"
            ]
          },
          "metadata": {},
          "execution_count": 73
        }
      ]
    },
    {
      "cell_type": "markdown",
      "source": [
        "### scores"
      ],
      "metadata": {
        "id": "czjiTDNFXz09"
      }
    },
    {
      "cell_type": "code",
      "source": [
        "best_rf = grid_search.best_estimator_\n",
        "\n",
        "# Getting the results\n",
        "results_df = pd.DataFrame(grid_search.cv_results_)\n",
        "\n",
        "# Printing precision, recall, and accuracy scores\n",
        "print(\"Best Parameters:\", grid_search.best_params_)\n",
        "print(\"Best Score (Accuracy):\", grid_search.best_score_)\n",
        "\n",
        "# Accessing precision, recall, and accuracy scores from results_df\n",
        "print(\"Precision Scores:\", results_df[['param_n_neighbors', 'mean_test_precision']])\n",
        "print(\"Recall Scores:\", results_df[['param_n_neighbors', 'mean_test_recall']])\n",
        "print(\"Accuracy Scores:\", results_df[['param_n_neighbors', 'mean_test_accuracy']])\n"
      ],
      "metadata": {
        "colab": {
          "base_uri": "https://localhost:8080/"
        },
        "id": "wZwGFTDFXz09",
        "outputId": "8b1c21dc-30e0-4b01-9f91-d7750bd22cd2"
      },
      "execution_count": null,
      "outputs": [
        {
          "output_type": "stream",
          "name": "stdout",
          "text": [
            "Best Parameters: {'n_neighbors': 3}\n",
            "Best Score (Accuracy): 0.5932551239320457\n",
            "Precision Scores:   param_n_neighbors  mean_test_precision\n",
            "0                 3             0.563841\n",
            "1                 5             0.541472\n",
            "2                 7             0.536750\n",
            "3                 9             0.528074\n",
            "Recall Scores:   param_n_neighbors  mean_test_recall\n",
            "0                 3          0.540632\n",
            "1                 5          0.500753\n",
            "2                 7          0.478469\n",
            "3                 9          0.461760\n",
            "Accuracy Scores:   param_n_neighbors  mean_test_accuracy\n",
            "0                 3            0.593255\n",
            "1                 5            0.572063\n",
            "2                 7            0.566493\n",
            "3                 9            0.558885\n"
          ]
        }
      ]
    },
    {
      "cell_type": "code",
      "source": [
        "# Printing precision, recall, and accuracy scores for the best parameters\n",
        "best_precision = results_df[results_df['rank_test_accuracy'] == 1][['param_n_neighbors', 'mean_test_precision']]\n",
        "best_recall = results_df[results_df['rank_test_accuracy'] == 1][['param_n_neighbors', 'mean_test_recall']]\n",
        "best_accuracy = results_df[results_df['rank_test_accuracy'] == 1][['param_n_neighbors', 'mean_test_accuracy']]\n",
        "\n",
        "print(\"\\nBest Precision Scores:\")\n",
        "print(best_precision)\n",
        "\n",
        "print(\"\\nBest Recall Scores:\")\n",
        "print(best_recall)\n",
        "\n",
        "print(\"\\nBest Accuracy Scores:\")\n",
        "print(best_accuracy)"
      ],
      "metadata": {
        "colab": {
          "base_uri": "https://localhost:8080/"
        },
        "id": "pONlp0dEXz09",
        "outputId": "f96b8887-7686-4455-f781-08686a89d277"
      },
      "execution_count": null,
      "outputs": [
        {
          "output_type": "stream",
          "name": "stdout",
          "text": [
            "\n",
            "Best Precision Scores:\n",
            "  param_n_neighbors  mean_test_precision\n",
            "0                 3             0.563841\n",
            "\n",
            "Best Recall Scores:\n",
            "  param_n_neighbors  mean_test_recall\n",
            "0                 3          0.540632\n",
            "\n",
            "Best Accuracy Scores:\n",
            "  param_n_neighbors  mean_test_accuracy\n",
            "0                 3            0.593255\n"
          ]
        }
      ]
    },
    {
      "cell_type": "code",
      "source": [
        "# To access recall scores for each fold (for demonstration purposes)\n",
        "results = grid_search.cv_results_\n",
        "for fold_idx in range(grid_search.cv):\n",
        "    fold_recall_key = f\"split{fold_idx}_test_recall\"\n",
        "    fold_recall = results[fold_recall_key]\n",
        "    print(f\"Fold {fold_idx + 1} Recall:\", fold_recall)\n",
        "\n",
        "results = grid_search.cv_results_\n",
        "for fold_idx in range(grid_search.cv):\n",
        "    fold_precision_key = f\"split{fold_idx}_test_precision\"\n",
        "    fold_precision = results[fold_precision_key]\n",
        "    print(f\"Fold {fold_idx + 1} Precision:\", fold_precision)\n",
        "\n",
        "results = grid_search.cv_results_\n",
        "for fold_idx in range(grid_search.cv):\n",
        "    fold_accuracy_key = f\"split{fold_idx}_test_accuracy\"\n",
        "    fold_accuracy = results[fold_accuracy_key]\n",
        "    print(f\"Fold {fold_idx + 1} Accuracy:\", fold_accuracy)"
      ],
      "metadata": {
        "colab": {
          "base_uri": "https://localhost:8080/"
        },
        "id": "hCZ_PaqHXz09",
        "outputId": "8eb45c15-da32-4b64-8763-3e2b867b40a9"
      },
      "execution_count": null,
      "outputs": [
        {
          "output_type": "stream",
          "name": "stdout",
          "text": [
            "Fold 1 Recall: [0.67556468 0.60164271 0.57700205 0.56262834]\n",
            "Fold 2 Recall: [0.54620123 0.48665298 0.4825462  0.45379877]\n",
            "Fold 3 Recall: [0.42094456 0.40862423 0.40041068 0.39014374]\n",
            "Fold 4 Recall: [0.47022587 0.46817248 0.42710472 0.43737166]\n",
            "Fold 5 Recall: [0.47131148 0.43442623 0.42418033 0.40778689]\n",
            "Fold 6 Recall: [0.51434426 0.49795082 0.47336066 0.45081967]\n",
            "Fold 7 Recall: [0.68583162 0.60780287 0.56468172 0.52977413]\n",
            "Fold 1 Precision: [0.71521739 0.65842697 0.66273585 0.65238095]\n",
            "Fold 2 Precision: [0.54845361 0.53020134 0.5199115  0.49774775]\n",
            "Fold 3 Precision: [0.46171171 0.46933962 0.46539379 0.45783133]\n",
            "Fold 4 Precision: [0.495671   0.49890591 0.48372093 0.49191686]\n",
            "Fold 5 Precision: [0.4742268  0.45788337 0.4579646  0.45852535]\n",
            "Fold 6 Precision: [0.53177966 0.51483051 0.525      0.51643192]\n",
            "Fold 7 Precision: [0.71982759 0.66071429 0.64252336 0.62168675]\n",
            "Fold 1 Accuracy: [0.72528517 0.67110266 0.66825095 0.65874525]\n",
            "Fold 2 Accuracy: [0.58174905 0.56273764 0.55418251 0.5351711 ]\n",
            "Fold 3 Accuracy: [0.50475285 0.51235741 0.5095057  0.50380228]\n",
            "Fold 4 Accuracy: [0.53326996 0.53612167 0.52376426 0.53041825]\n",
            "Fold 5 Accuracy: [0.51235741 0.49904943 0.5        0.50190114]\n",
            "Fold 6 Accuracy: [0.56463878 0.54942966 0.55703422 0.54942966]\n",
            "Fold 7 Accuracy: [0.73073264 0.67364415 0.6527117  0.63273073]\n"
          ]
        }
      ]
    },
    {
      "cell_type": "code",
      "source": [
        "# Initialize variables to store the best accuracy and its corresponding fold index\n",
        "best_accuracy = 0.0\n",
        "best_fold_index = -1\n",
        "\n",
        "# Iterate through each fold to find the one with the highest accuracy\n",
        "for fold_idx in range(grid_search.cv):\n",
        "    fold_accuracy_key = f\"split{fold_idx}_test_accuracy\"\n",
        "    fold_accuracy = results[fold_accuracy_key]\n",
        "\n",
        "    max_fold_accuracy = max(fold_accuracy)\n",
        "    if max_fold_accuracy > best_accuracy:\n",
        "        best_accuracy = max_fold_accuracy\n",
        "        best_fold_index = fold_idx\n",
        "\n",
        "# If a fold with the highest accuracy is found, retrieve its precision, recall, and parameters\n",
        "if best_fold_index != -1:\n",
        "    fold_precision_key = f\"split{best_fold_index}_test_precision\"\n",
        "    fold_recall_key = f\"split{best_fold_index}_test_recall\"\n",
        "    # fold_params = results['params'][best_fold_index]\n",
        "\n",
        "    best_fold_precision = results[fold_precision_key][best_accuracy.argmax()]\n",
        "    best_fold_recall = results[fold_recall_key][best_accuracy.argmax()]\n",
        "\n",
        "    # Printing the best accuracy value, its corresponding precision, recall, and parameters\n",
        "    print(f\"Best Accuracy: {best_accuracy}\")\n",
        "    print(f\"Corresponding Precision: {best_fold_precision}\")\n",
        "    print(f\"Corresponding Recall: {best_fold_recall}\")\n",
        "    # print(f\"Parameters for Best Accuracy: {fold_params}\")\n",
        "else:\n",
        "    print(\"No fold found with the highest accuracy.\")\n"
      ],
      "metadata": {
        "colab": {
          "base_uri": "https://localhost:8080/"
        },
        "id": "WqAr6PJujhCa",
        "outputId": "ec593127-2ff4-490f-b66e-0223b3fd1f94"
      },
      "execution_count": null,
      "outputs": [
        {
          "output_type": "stream",
          "name": "stdout",
          "text": [
            "Best Accuracy: 0.730732635585157\n",
            "Corresponding Precision: 0.7198275862068966\n",
            "Corresponding Recall: 0.6858316221765913\n"
          ]
        }
      ]
    },
    {
      "cell_type": "markdown",
      "source": [
        "## QDA"
      ],
      "metadata": {
        "id": "ScH4qAxAbf3W"
      }
    },
    {
      "cell_type": "code",
      "source": [
        "# Assuming you have a RandomForestClassifier instance 'rf_classifier' and your data 'X', 'y'\n",
        "param_grid = {\n",
        "    # 'reg_param': [0.001, 0.01, 0.1, 1.0]\n",
        "}\n",
        "\n",
        "# Create a dictionary of scoring metrics\n",
        "scoring = {\n",
        "    'precision': make_scorer(precision_score),\n",
        "    'recall': make_scorer(recall_score),\n",
        "    'accuracy': make_scorer(accuracy_score)\n",
        "}\n",
        "\n",
        "grid_search = GridSearchCV(QuadraticDiscriminantAnalysis(), param_grid, cv=7, scoring=scoring, refit='accuracy')\n",
        "grid_search.fit(X, y)"
      ],
      "metadata": {
        "colab": {
          "base_uri": "https://localhost:8080/",
          "height": 118
        },
        "outputId": "2a730dcb-42c8-4cd7-d148-ac44f8239aea",
        "id": "1UtkO1x2bf3X"
      },
      "execution_count": null,
      "outputs": [
        {
          "output_type": "execute_result",
          "data": {
            "text/plain": [
              "GridSearchCV(cv=7, estimator=QuadraticDiscriminantAnalysis(), param_grid={},\n",
              "             refit='accuracy',\n",
              "             scoring={'accuracy': make_scorer(accuracy_score),\n",
              "                      'precision': make_scorer(precision_score),\n",
              "                      'recall': make_scorer(recall_score)})"
            ],
            "text/html": [
              "<style>#sk-container-id-2 {color: black;background-color: white;}#sk-container-id-2 pre{padding: 0;}#sk-container-id-2 div.sk-toggleable {background-color: white;}#sk-container-id-2 label.sk-toggleable__label {cursor: pointer;display: block;width: 100%;margin-bottom: 0;padding: 0.3em;box-sizing: border-box;text-align: center;}#sk-container-id-2 label.sk-toggleable__label-arrow:before {content: \"▸\";float: left;margin-right: 0.25em;color: #696969;}#sk-container-id-2 label.sk-toggleable__label-arrow:hover:before {color: black;}#sk-container-id-2 div.sk-estimator:hover label.sk-toggleable__label-arrow:before {color: black;}#sk-container-id-2 div.sk-toggleable__content {max-height: 0;max-width: 0;overflow: hidden;text-align: left;background-color: #f0f8ff;}#sk-container-id-2 div.sk-toggleable__content pre {margin: 0.2em;color: black;border-radius: 0.25em;background-color: #f0f8ff;}#sk-container-id-2 input.sk-toggleable__control:checked~div.sk-toggleable__content {max-height: 200px;max-width: 100%;overflow: auto;}#sk-container-id-2 input.sk-toggleable__control:checked~label.sk-toggleable__label-arrow:before {content: \"▾\";}#sk-container-id-2 div.sk-estimator input.sk-toggleable__control:checked~label.sk-toggleable__label {background-color: #d4ebff;}#sk-container-id-2 div.sk-label input.sk-toggleable__control:checked~label.sk-toggleable__label {background-color: #d4ebff;}#sk-container-id-2 input.sk-hidden--visually {border: 0;clip: rect(1px 1px 1px 1px);clip: rect(1px, 1px, 1px, 1px);height: 1px;margin: -1px;overflow: hidden;padding: 0;position: absolute;width: 1px;}#sk-container-id-2 div.sk-estimator {font-family: monospace;background-color: #f0f8ff;border: 1px dotted black;border-radius: 0.25em;box-sizing: border-box;margin-bottom: 0.5em;}#sk-container-id-2 div.sk-estimator:hover {background-color: #d4ebff;}#sk-container-id-2 div.sk-parallel-item::after {content: \"\";width: 100%;border-bottom: 1px solid gray;flex-grow: 1;}#sk-container-id-2 div.sk-label:hover label.sk-toggleable__label {background-color: #d4ebff;}#sk-container-id-2 div.sk-serial::before {content: \"\";position: absolute;border-left: 1px solid gray;box-sizing: border-box;top: 0;bottom: 0;left: 50%;z-index: 0;}#sk-container-id-2 div.sk-serial {display: flex;flex-direction: column;align-items: center;background-color: white;padding-right: 0.2em;padding-left: 0.2em;position: relative;}#sk-container-id-2 div.sk-item {position: relative;z-index: 1;}#sk-container-id-2 div.sk-parallel {display: flex;align-items: stretch;justify-content: center;background-color: white;position: relative;}#sk-container-id-2 div.sk-item::before, #sk-container-id-2 div.sk-parallel-item::before {content: \"\";position: absolute;border-left: 1px solid gray;box-sizing: border-box;top: 0;bottom: 0;left: 50%;z-index: -1;}#sk-container-id-2 div.sk-parallel-item {display: flex;flex-direction: column;z-index: 1;position: relative;background-color: white;}#sk-container-id-2 div.sk-parallel-item:first-child::after {align-self: flex-end;width: 50%;}#sk-container-id-2 div.sk-parallel-item:last-child::after {align-self: flex-start;width: 50%;}#sk-container-id-2 div.sk-parallel-item:only-child::after {width: 0;}#sk-container-id-2 div.sk-dashed-wrapped {border: 1px dashed gray;margin: 0 0.4em 0.5em 0.4em;box-sizing: border-box;padding-bottom: 0.4em;background-color: white;}#sk-container-id-2 div.sk-label label {font-family: monospace;font-weight: bold;display: inline-block;line-height: 1.2em;}#sk-container-id-2 div.sk-label-container {text-align: center;}#sk-container-id-2 div.sk-container {/* jupyter's `normalize.less` sets `[hidden] { display: none; }` but bootstrap.min.css set `[hidden] { display: none !important; }` so we also need the `!important` here to be able to override the default hidden behavior on the sphinx rendered scikit-learn.org. See: https://github.com/scikit-learn/scikit-learn/issues/21755 */display: inline-block !important;position: relative;}#sk-container-id-2 div.sk-text-repr-fallback {display: none;}</style><div id=\"sk-container-id-2\" class=\"sk-top-container\"><div class=\"sk-text-repr-fallback\"><pre>GridSearchCV(cv=7, estimator=QuadraticDiscriminantAnalysis(), param_grid={},\n",
              "             refit=&#x27;accuracy&#x27;,\n",
              "             scoring={&#x27;accuracy&#x27;: make_scorer(accuracy_score),\n",
              "                      &#x27;precision&#x27;: make_scorer(precision_score),\n",
              "                      &#x27;recall&#x27;: make_scorer(recall_score)})</pre><b>In a Jupyter environment, please rerun this cell to show the HTML representation or trust the notebook. <br />On GitHub, the HTML representation is unable to render, please try loading this page with nbviewer.org.</b></div><div class=\"sk-container\" hidden><div class=\"sk-item sk-dashed-wrapped\"><div class=\"sk-label-container\"><div class=\"sk-label sk-toggleable\"><input class=\"sk-toggleable__control sk-hidden--visually\" id=\"sk-estimator-id-4\" type=\"checkbox\" ><label for=\"sk-estimator-id-4\" class=\"sk-toggleable__label sk-toggleable__label-arrow\">GridSearchCV</label><div class=\"sk-toggleable__content\"><pre>GridSearchCV(cv=7, estimator=QuadraticDiscriminantAnalysis(), param_grid={},\n",
              "             refit=&#x27;accuracy&#x27;,\n",
              "             scoring={&#x27;accuracy&#x27;: make_scorer(accuracy_score),\n",
              "                      &#x27;precision&#x27;: make_scorer(precision_score),\n",
              "                      &#x27;recall&#x27;: make_scorer(recall_score)})</pre></div></div></div><div class=\"sk-parallel\"><div class=\"sk-parallel-item\"><div class=\"sk-item\"><div class=\"sk-label-container\"><div class=\"sk-label sk-toggleable\"><input class=\"sk-toggleable__control sk-hidden--visually\" id=\"sk-estimator-id-5\" type=\"checkbox\" ><label for=\"sk-estimator-id-5\" class=\"sk-toggleable__label sk-toggleable__label-arrow\">estimator: QuadraticDiscriminantAnalysis</label><div class=\"sk-toggleable__content\"><pre>QuadraticDiscriminantAnalysis()</pre></div></div></div><div class=\"sk-serial\"><div class=\"sk-item\"><div class=\"sk-estimator sk-toggleable\"><input class=\"sk-toggleable__control sk-hidden--visually\" id=\"sk-estimator-id-6\" type=\"checkbox\" ><label for=\"sk-estimator-id-6\" class=\"sk-toggleable__label sk-toggleable__label-arrow\">QuadraticDiscriminantAnalysis</label><div class=\"sk-toggleable__content\"><pre>QuadraticDiscriminantAnalysis()</pre></div></div></div></div></div></div></div></div></div></div>"
            ]
          },
          "metadata": {},
          "execution_count": 21
        }
      ]
    },
    {
      "cell_type": "markdown",
      "source": [
        "### scores"
      ],
      "metadata": {
        "id": "w4olq5Bubf3X"
      }
    },
    {
      "cell_type": "code",
      "source": [
        "best_rf = grid_search.best_estimator_\n",
        "\n",
        "# Getting the results\n",
        "results_df = pd.DataFrame(grid_search.cv_results_)\n",
        "\n",
        "# Printing precision, recall, and accuracy scores\n",
        "print(\"Best Parameters:\", grid_search.best_params_)\n",
        "print(\"Best Score (Accuracy):\", grid_search.best_score_)\n",
        "\n",
        "# Accessing precision, recall, and accuracy scores from results_df\n",
        "print(\"Precision Scores:\", results_df[['param_reg_param', 'mean_test_precision']])\n",
        "print(\"Recall Scores:\", results_df[['param_reg_param', 'mean_test_recall']])\n",
        "print(\"Accuracy Scores:\", results_df[['param_reg_param', 'mean_test_accuracy']])\n"
      ],
      "metadata": {
        "id": "MKJhwo-lbf3X"
      },
      "execution_count": null,
      "outputs": []
    },
    {
      "cell_type": "code",
      "source": [
        "# Printing precision, recall, and accuracy scores for the best parameters\n",
        "best_precision = results_df[results_df['rank_test_accuracy'] == 1][['param_reg_param', 'mean_test_precision']]\n",
        "best_recall = results_df[results_df['rank_test_accuracy'] == 1][['param_reg_param', 'mean_test_recall']]\n",
        "best_accuracy = results_df[results_df['rank_test_accuracy'] == 1][['param_reg_param', 'mean_test_accuracy']]\n",
        "\n",
        "print(\"\\nBest Precision Scores:\")\n",
        "print(best_precision)\n",
        "\n",
        "print(\"\\nBest Recall Scores:\")\n",
        "print(best_recall)\n",
        "\n",
        "print(\"\\nBest Accuracy Scores:\")\n",
        "print(best_accuracy)"
      ],
      "metadata": {
        "id": "OzVGVXKcbf3X"
      },
      "execution_count": null,
      "outputs": []
    },
    {
      "cell_type": "code",
      "source": [
        "# To access recall scores for each fold (for demonstration purposes)\n",
        "results = grid_search.cv_results_\n",
        "for fold_idx in range(grid_search.cv):\n",
        "    fold_recall_key = f\"split{fold_idx}_test_recall\"\n",
        "    fold_recall = results[fold_recall_key]\n",
        "    print(f\"Fold {fold_idx + 1} Recall:\", fold_recall)\n",
        "\n",
        "results = grid_search.cv_results_\n",
        "for fold_idx in range(grid_search.cv):\n",
        "    fold_precision_key = f\"split{fold_idx}_test_precision\"\n",
        "    fold_precision = results[fold_precision_key]\n",
        "    print(f\"Fold {fold_idx + 1} Precision:\", fold_precision)\n",
        "\n",
        "results = grid_search.cv_results_\n",
        "for fold_idx in range(grid_search.cv):\n",
        "    fold_accuracy_key = f\"split{fold_idx}_test_accuracy\"\n",
        "    fold_accuracy = results[fold_accuracy_key]\n",
        "    print(f\"Fold {fold_idx + 1} Accuracy:\", fold_accuracy)"
      ],
      "metadata": {
        "colab": {
          "base_uri": "https://localhost:8080/"
        },
        "outputId": "7f0497fa-ce65-4606-eb11-62ad5e8f38fa",
        "id": "ThJ8lFVvbf3Y"
      },
      "execution_count": null,
      "outputs": [
        {
          "output_type": "stream",
          "name": "stdout",
          "text": [
            "Fold 1 Recall: [1.]\n",
            "Fold 2 Recall: [0.40041068]\n",
            "Fold 3 Recall: [0.36960986]\n",
            "Fold 4 Recall: [0.33264887]\n",
            "Fold 5 Recall: [0.32786885]\n",
            "Fold 6 Recall: [0.47745902]\n",
            "Fold 7 Recall: [0.92402464]\n",
            "Fold 1 Precision: [1.]\n",
            "Fold 2 Precision: [0.61320755]\n",
            "Fold 3 Precision: [0.49861496]\n",
            "Fold 4 Precision: [0.48942598]\n",
            "Fold 5 Precision: [0.47761194]\n",
            "Fold 6 Precision: [0.69552239]\n",
            "Fold 7 Precision: [0.94936709]\n",
            "Fold 1 Accuracy: [1.]\n",
            "Fold 2 Accuracy: [0.60551331]\n",
            "Fold 3 Accuracy: [0.53612167]\n",
            "Fold 4 Accuracy: [0.53041825]\n",
            "Fold 5 Accuracy: [0.52186312]\n",
            "Fold 6 Accuracy: [0.66064639]\n",
            "Fold 7 Accuracy: [0.94196004]\n"
          ]
        }
      ]
    },
    {
      "cell_type": "code",
      "source": [
        "from sklearn.model_selection import cross_val_predict\n",
        "from sklearn.metrics import confusion_matrix\n",
        "\n",
        "# Assuming 'best_rf' is your best estimator\n",
        "# Replace 'best_rf' with grid_search.best_estimator_ if needed\n",
        "best_rf = grid_search.best_estimator_\n",
        "\n",
        "# Assuming 'X' is your feature data and 'y' is your target data\n",
        "# Replace 'X' and 'y' with your actual dataset\n",
        "\n",
        "\n",
        "# Get cross-validated predictions\n",
        "predicted = cross_val_predict(best_rf, X, y, cv=grid_search.cv)\n",
        "\n",
        "# Calculate the confusion matrix for each fold\n",
        "for fold_idx in range(grid_search.cv):\n",
        "    start_idx = fold_idx * len(y) // grid_search.cv\n",
        "    end_idx = (fold_idx + 1) * len(y) // grid_search.cv\n",
        "\n",
        "    fold_labels = y[start_idx:end_idx]\n",
        "    fold_predictions = predicted[start_idx:end_idx]\n",
        "\n",
        "    fold_conf_matrix = confusion_matrix(fold_labels, fold_predictions)\n",
        "    print(f\"Confusion Matrix for Fold {fold_idx + 1}:\\n\", fold_conf_matrix)\n"
      ],
      "metadata": {
        "colab": {
          "base_uri": "https://localhost:8080/"
        },
        "id": "AFWG1WVY77ao",
        "outputId": "cad8c142-fb42-4551-e0fa-d15bf528d1b4"
      },
      "execution_count": null,
      "outputs": [
        {
          "output_type": "stream",
          "name": "stdout",
          "text": [
            "Confusion Matrix for Fold 1:\n",
            " [[580   0]\n",
            " [  0 471]]\n",
            "Confusion Matrix for Fold 2:\n",
            " [[434 125]\n",
            " [287 206]]\n",
            "Confusion Matrix for Fold 3:\n",
            " [[403 187]\n",
            " [292 170]]\n",
            "Confusion Matrix for Fold 4:\n",
            " [[350 154]\n",
            " [362 186]]\n",
            "Confusion Matrix for Fold 5:\n",
            " [[376 167]\n",
            " [348 161]]\n",
            "Confusion Matrix for Fold 6:\n",
            " [[493 117]\n",
            " [218 224]]\n",
            "Confusion Matrix for Fold 7:\n",
            " [[542  24]\n",
            " [ 37 449]]\n"
          ]
        }
      ]
    },
    {
      "cell_type": "code",
      "source": [
        "# Initialize variables to store the best accuracy and its corresponding fold index\n",
        "best_accuracy = 0.0\n",
        "best_fold_index = -1\n",
        "\n",
        "# Iterate through each fold to find the one with the highest accuracy\n",
        "for fold_idx in range(grid_search.cv):\n",
        "    fold_accuracy_key = f\"split{fold_idx}_test_accuracy\"\n",
        "    fold_accuracy = results[fold_accuracy_key]\n",
        "\n",
        "    max_fold_accuracy = max(fold_accuracy)\n",
        "    if max_fold_accuracy > best_accuracy:\n",
        "        best_accuracy = max_fold_accuracy\n",
        "        best_fold_index = fold_idx\n",
        "\n",
        "# If a fold with the highest accuracy is found, retrieve its precision, recall, and parameters\n",
        "if best_fold_index != -1:\n",
        "    fold_precision_key = f\"split{best_fold_index}_test_precision\"\n",
        "    fold_recall_key = f\"split{best_fold_index}_test_recall\"\n",
        "    # fold_params = results['params'][best_fold_index]\n",
        "\n",
        "    best_fold_precision = results[fold_precision_key][best_accuracy.argmax()]\n",
        "    best_fold_recall = results[fold_recall_key][best_accuracy.argmax()]\n",
        "\n",
        "    # Printing the best accuracy value, its corresponding precision, recall, and parameters\n",
        "    print(f\"Best Accuracy: {best_accuracy}\")\n",
        "    print(f\"Corresponding Precision: {best_fold_precision}\")\n",
        "    print(f\"Corresponding Recall: {best_fold_recall}\")\n",
        "    # print(f\"Parameters for Best Accuracy: {fold_params}\")\n",
        "else:\n",
        "    print(\"No fold found with the highest accuracy.\")\n"
      ],
      "metadata": {
        "colab": {
          "base_uri": "https://localhost:8080/"
        },
        "outputId": "61ebe6f5-4c90-412e-b22d-eeadc28531e8",
        "id": "oMbRHTOJbf3Y"
      },
      "execution_count": null,
      "outputs": [
        {
          "output_type": "stream",
          "name": "stdout",
          "text": [
            "Best Accuracy: 1.0\n",
            "Corresponding Precision: 1.0\n",
            "Corresponding Recall: 1.0\n"
          ]
        }
      ]
    },
    {
      "cell_type": "markdown",
      "source": [
        "# Total"
      ],
      "metadata": {
        "id": "50GQvPn4joBx"
      }
    },
    {
      "cell_type": "code",
      "source": [
        "# loading dataset\n",
        "dataset = pd.read_csv(\"/content/drive/MyDrive/LJP_2023/LJP_Dataset_Files/total_documents/case_files_total.csv\")\n",
        "print(len(dataset))\n",
        "dataset.rename(columns = {'judgement':'text'}, inplace = True)\n",
        "dataset = dataset[dataset['label'] != \"Other\" ]\n",
        "dataset[\"label\"] = dataset[\"label\"].replace(\"Accepted\", 1)\n",
        "dataset[\"label\"] = dataset[\"label\"].replace(\"Rejected\", 0)\n",
        "\n",
        "#filter dataset\n",
        "dataset.label.replace([np.inf, -np.inf], np.nan, inplace=True)\n",
        "dataset = dataset.dropna(axis=0, subset=['text'])\n",
        "dataset = dataset.dropna(axis=0, subset=['label'])\n",
        "dataset['label'] = dataset['label'].astype(int)\n",
        "dataset.reset_index(drop=True, inplace=True)\n",
        "dataset = dataset['label']\n",
        "print(dataset) #should have only the label column"
      ],
      "metadata": {
        "colab": {
          "base_uri": "https://localhost:8080/"
        },
        "outputId": "8320dd6d-d3d6-4419-8f15-ad0c194b7548",
        "id": "qjvQflEmjoBx"
      },
      "execution_count": null,
      "outputs": [
        {
          "output_type": "stream",
          "name": "stdout",
          "text": [
            "53446\n",
            "0        1\n",
            "1        1\n",
            "2        1\n",
            "3        1\n",
            "4        0\n",
            "        ..\n",
            "42337    0\n",
            "42338    1\n",
            "42339    1\n",
            "42340    0\n",
            "42341    1\n",
            "Name: label, Length: 42342, dtype: int64\n"
          ]
        }
      ]
    },
    {
      "cell_type": "code",
      "source": [
        "y=dataset"
      ],
      "metadata": {
        "id": "reUYh_U4joBx"
      },
      "execution_count": null,
      "outputs": []
    },
    {
      "cell_type": "code",
      "source": [
        "X=np.load(\"/content/drive/MyDrive/LJP_2023/Embeddings/Doc2Vec/Experiment 1/Total_embedding/doc2vec_total.npy\")"
      ],
      "metadata": {
        "id": "fBpiqjPbjoBx"
      },
      "execution_count": null,
      "outputs": []
    },
    {
      "cell_type": "markdown",
      "source": [
        "# Model"
      ],
      "metadata": {
        "id": "psI9Z94TX-tM"
      }
    },
    {
      "cell_type": "markdown",
      "source": [
        "## RandomForest"
      ],
      "metadata": {
        "id": "2jUNR38VX-tN"
      }
    },
    {
      "cell_type": "code",
      "source": [
        "# Assuming you have a RandomForestClassifier instance 'rf_classifier' and your data 'X', 'y'\n",
        "param_grid = {\n",
        "    'n_estimators': [100, 150, 200, 250, 300, 350, 400, 450]\n",
        "}\n",
        "\n",
        "# Create a dictionary of scoring metrics\n",
        "scoring = {\n",
        "    'precision': make_scorer(precision_score),\n",
        "    'recall': make_scorer(recall_score),\n",
        "    'accuracy': make_scorer(accuracy_score)\n",
        "}\n",
        "\n",
        "grid_search = GridSearchCV(RandomForestClassifier(), param_grid, cv=7, scoring=scoring, refit='accuracy')\n",
        "grid_search.fit(X, y)"
      ],
      "metadata": {
        "colab": {
          "base_uri": "https://localhost:8080/",
          "height": 118
        },
        "outputId": "04830671-4b59-4b69-fdc5-05024742cb6c",
        "id": "6daplM17X-tN"
      },
      "execution_count": null,
      "outputs": [
        {
          "output_type": "execute_result",
          "data": {
            "text/plain": [
              "GridSearchCV(cv=7, estimator=RandomForestClassifier(),\n",
              "             param_grid={'n_estimators': [100, 150, 200, 250, 300, 350, 400,\n",
              "                                          450]},\n",
              "             refit='accuracy',\n",
              "             scoring={'accuracy': make_scorer(accuracy_score),\n",
              "                      'precision': make_scorer(precision_score),\n",
              "                      'recall': make_scorer(recall_score)})"
            ],
            "text/html": [
              "<style>#sk-container-id-13 {color: black;background-color: white;}#sk-container-id-13 pre{padding: 0;}#sk-container-id-13 div.sk-toggleable {background-color: white;}#sk-container-id-13 label.sk-toggleable__label {cursor: pointer;display: block;width: 100%;margin-bottom: 0;padding: 0.3em;box-sizing: border-box;text-align: center;}#sk-container-id-13 label.sk-toggleable__label-arrow:before {content: \"▸\";float: left;margin-right: 0.25em;color: #696969;}#sk-container-id-13 label.sk-toggleable__label-arrow:hover:before {color: black;}#sk-container-id-13 div.sk-estimator:hover label.sk-toggleable__label-arrow:before {color: black;}#sk-container-id-13 div.sk-toggleable__content {max-height: 0;max-width: 0;overflow: hidden;text-align: left;background-color: #f0f8ff;}#sk-container-id-13 div.sk-toggleable__content pre {margin: 0.2em;color: black;border-radius: 0.25em;background-color: #f0f8ff;}#sk-container-id-13 input.sk-toggleable__control:checked~div.sk-toggleable__content {max-height: 200px;max-width: 100%;overflow: auto;}#sk-container-id-13 input.sk-toggleable__control:checked~label.sk-toggleable__label-arrow:before {content: \"▾\";}#sk-container-id-13 div.sk-estimator input.sk-toggleable__control:checked~label.sk-toggleable__label {background-color: #d4ebff;}#sk-container-id-13 div.sk-label input.sk-toggleable__control:checked~label.sk-toggleable__label {background-color: #d4ebff;}#sk-container-id-13 input.sk-hidden--visually {border: 0;clip: rect(1px 1px 1px 1px);clip: rect(1px, 1px, 1px, 1px);height: 1px;margin: -1px;overflow: hidden;padding: 0;position: absolute;width: 1px;}#sk-container-id-13 div.sk-estimator {font-family: monospace;background-color: #f0f8ff;border: 1px dotted black;border-radius: 0.25em;box-sizing: border-box;margin-bottom: 0.5em;}#sk-container-id-13 div.sk-estimator:hover {background-color: #d4ebff;}#sk-container-id-13 div.sk-parallel-item::after {content: \"\";width: 100%;border-bottom: 1px solid gray;flex-grow: 1;}#sk-container-id-13 div.sk-label:hover label.sk-toggleable__label {background-color: #d4ebff;}#sk-container-id-13 div.sk-serial::before {content: \"\";position: absolute;border-left: 1px solid gray;box-sizing: border-box;top: 0;bottom: 0;left: 50%;z-index: 0;}#sk-container-id-13 div.sk-serial {display: flex;flex-direction: column;align-items: center;background-color: white;padding-right: 0.2em;padding-left: 0.2em;position: relative;}#sk-container-id-13 div.sk-item {position: relative;z-index: 1;}#sk-container-id-13 div.sk-parallel {display: flex;align-items: stretch;justify-content: center;background-color: white;position: relative;}#sk-container-id-13 div.sk-item::before, #sk-container-id-13 div.sk-parallel-item::before {content: \"\";position: absolute;border-left: 1px solid gray;box-sizing: border-box;top: 0;bottom: 0;left: 50%;z-index: -1;}#sk-container-id-13 div.sk-parallel-item {display: flex;flex-direction: column;z-index: 1;position: relative;background-color: white;}#sk-container-id-13 div.sk-parallel-item:first-child::after {align-self: flex-end;width: 50%;}#sk-container-id-13 div.sk-parallel-item:last-child::after {align-self: flex-start;width: 50%;}#sk-container-id-13 div.sk-parallel-item:only-child::after {width: 0;}#sk-container-id-13 div.sk-dashed-wrapped {border: 1px dashed gray;margin: 0 0.4em 0.5em 0.4em;box-sizing: border-box;padding-bottom: 0.4em;background-color: white;}#sk-container-id-13 div.sk-label label {font-family: monospace;font-weight: bold;display: inline-block;line-height: 1.2em;}#sk-container-id-13 div.sk-label-container {text-align: center;}#sk-container-id-13 div.sk-container {/* jupyter's `normalize.less` sets `[hidden] { display: none; }` but bootstrap.min.css set `[hidden] { display: none !important; }` so we also need the `!important` here to be able to override the default hidden behavior on the sphinx rendered scikit-learn.org. See: https://github.com/scikit-learn/scikit-learn/issues/21755 */display: inline-block !important;position: relative;}#sk-container-id-13 div.sk-text-repr-fallback {display: none;}</style><div id=\"sk-container-id-13\" class=\"sk-top-container\"><div class=\"sk-text-repr-fallback\"><pre>GridSearchCV(cv=7, estimator=RandomForestClassifier(),\n",
              "             param_grid={&#x27;n_estimators&#x27;: [100, 150, 200, 250, 300, 350, 400,\n",
              "                                          450]},\n",
              "             refit=&#x27;accuracy&#x27;,\n",
              "             scoring={&#x27;accuracy&#x27;: make_scorer(accuracy_score),\n",
              "                      &#x27;precision&#x27;: make_scorer(precision_score),\n",
              "                      &#x27;recall&#x27;: make_scorer(recall_score)})</pre><b>In a Jupyter environment, please rerun this cell to show the HTML representation or trust the notebook. <br />On GitHub, the HTML representation is unable to render, please try loading this page with nbviewer.org.</b></div><div class=\"sk-container\" hidden><div class=\"sk-item sk-dashed-wrapped\"><div class=\"sk-label-container\"><div class=\"sk-label sk-toggleable\"><input class=\"sk-toggleable__control sk-hidden--visually\" id=\"sk-estimator-id-37\" type=\"checkbox\" ><label for=\"sk-estimator-id-37\" class=\"sk-toggleable__label sk-toggleable__label-arrow\">GridSearchCV</label><div class=\"sk-toggleable__content\"><pre>GridSearchCV(cv=7, estimator=RandomForestClassifier(),\n",
              "             param_grid={&#x27;n_estimators&#x27;: [100, 150, 200, 250, 300, 350, 400,\n",
              "                                          450]},\n",
              "             refit=&#x27;accuracy&#x27;,\n",
              "             scoring={&#x27;accuracy&#x27;: make_scorer(accuracy_score),\n",
              "                      &#x27;precision&#x27;: make_scorer(precision_score),\n",
              "                      &#x27;recall&#x27;: make_scorer(recall_score)})</pre></div></div></div><div class=\"sk-parallel\"><div class=\"sk-parallel-item\"><div class=\"sk-item\"><div class=\"sk-label-container\"><div class=\"sk-label sk-toggleable\"><input class=\"sk-toggleable__control sk-hidden--visually\" id=\"sk-estimator-id-38\" type=\"checkbox\" ><label for=\"sk-estimator-id-38\" class=\"sk-toggleable__label sk-toggleable__label-arrow\">estimator: RandomForestClassifier</label><div class=\"sk-toggleable__content\"><pre>RandomForestClassifier()</pre></div></div></div><div class=\"sk-serial\"><div class=\"sk-item\"><div class=\"sk-estimator sk-toggleable\"><input class=\"sk-toggleable__control sk-hidden--visually\" id=\"sk-estimator-id-39\" type=\"checkbox\" ><label for=\"sk-estimator-id-39\" class=\"sk-toggleable__label sk-toggleable__label-arrow\">RandomForestClassifier</label><div class=\"sk-toggleable__content\"><pre>RandomForestClassifier()</pre></div></div></div></div></div></div></div></div></div></div>"
            ]
          },
          "metadata": {},
          "execution_count": 87
        }
      ]
    },
    {
      "cell_type": "markdown",
      "source": [
        "### scores"
      ],
      "metadata": {
        "id": "LIg7rLk-X-tN"
      }
    },
    {
      "cell_type": "code",
      "source": [
        "best_rf = grid_search.best_estimator_\n",
        "\n",
        "# Getting the results\n",
        "results_df = pd.DataFrame(grid_search.cv_results_)\n",
        "\n",
        "# Printing precision, recall, and accuracy scores\n",
        "print(\"Best Parameters:\", grid_search.best_params_)\n",
        "print(\"Best Score (Accuracy):\", grid_search.best_score_)\n",
        "\n",
        "# Accessing precision, recall, and accuracy scores from results_df\n",
        "print(\"Precision Scores:\", results_df[['param_n_estimators', 'mean_test_precision']])\n",
        "print(\"Recall Scores:\", results_df[['param_n_estimators', 'mean_test_recall']])\n",
        "print(\"Accuracy Scores:\", results_df[['param_n_estimators', 'mean_test_accuracy']])\n"
      ],
      "metadata": {
        "colab": {
          "base_uri": "https://localhost:8080/"
        },
        "outputId": "eb5bff3c-5ce8-44f9-d954-a3a1dad15584",
        "id": "M0l_KOJHX-tO"
      },
      "execution_count": null,
      "outputs": [
        {
          "output_type": "stream",
          "name": "stdout",
          "text": [
            "Best Parameters: {'n_estimators': 350}\n",
            "Best Score (Accuracy): 0.5964787076179455\n",
            "Precision Scores:   param_n_estimators  mean_test_precision\n",
            "0                100             0.587434\n",
            "1                150             0.599257\n",
            "2                200             0.603378\n",
            "3                250             0.608980\n",
            "4                300             0.609185\n",
            "5                350             0.613616\n",
            "6                400             0.610705\n",
            "7                450             0.612407\n",
            "Recall Scores:   param_n_estimators  mean_test_recall\n",
            "0                100          0.375951\n",
            "1                150          0.365211\n",
            "2                200          0.364908\n",
            "3                250          0.363899\n",
            "4                300          0.359512\n",
            "5                350          0.357949\n",
            "6                400          0.354621\n",
            "7                450          0.355175\n",
            "Accuracy Scores:   param_n_estimators  mean_test_accuracy\n",
            "0                100            0.585615\n",
            "1                150            0.589960\n",
            "2                200            0.592157\n",
            "3                250            0.595014\n",
            "4                300            0.594707\n",
            "5                350            0.596479\n",
            "6                400            0.594849\n",
            "7                450            0.595983\n"
          ]
        }
      ]
    },
    {
      "cell_type": "code",
      "source": [
        "# Printing precision, recall, and accuracy scores for the best parameters\n",
        "best_precision = results_df[results_df['rank_test_accuracy'] == 1][['param_n_estimators', 'mean_test_precision']]\n",
        "best_recall = results_df[results_df['rank_test_accuracy'] == 1][['param_n_estimators', 'mean_test_recall']]\n",
        "best_accuracy = results_df[results_df['rank_test_accuracy'] == 1][['param_n_estimators', 'mean_test_accuracy']]\n",
        "\n",
        "print(\"\\nBest Precision Scores:\")\n",
        "print(best_precision)\n",
        "\n",
        "print(\"\\nBest Recall Scores:\")\n",
        "print(best_recall)\n",
        "\n",
        "print(\"\\nBest Accuracy Scores:\")\n",
        "print(best_accuracy)"
      ],
      "metadata": {
        "colab": {
          "base_uri": "https://localhost:8080/"
        },
        "outputId": "0d0f4d66-bfa4-443c-e791-49c890c4f9e0",
        "id": "u2PGWIbTX-tO"
      },
      "execution_count": null,
      "outputs": [
        {
          "output_type": "stream",
          "name": "stdout",
          "text": [
            "\n",
            "Best Precision Scores:\n",
            "  param_n_estimators  mean_test_precision\n",
            "5                350             0.613616\n",
            "\n",
            "Best Recall Scores:\n",
            "  param_n_estimators  mean_test_recall\n",
            "5                350          0.357949\n",
            "\n",
            "Best Accuracy Scores:\n",
            "  param_n_estimators  mean_test_accuracy\n",
            "5                350            0.596479\n"
          ]
        }
      ]
    },
    {
      "cell_type": "code",
      "source": [
        "# To access recall scores for each fold (for demonstration purposes)\n",
        "results = grid_search.cv_results_\n",
        "for fold_idx in range(grid_search.cv):\n",
        "    fold_recall_key = f\"split{fold_idx}_test_recall\"\n",
        "    fold_recall = results[fold_recall_key]\n",
        "    print(f\"Fold {fold_idx + 1} Recall:\", fold_recall)\n",
        "\n",
        "results = grid_search.cv_results_\n",
        "for fold_idx in range(grid_search.cv):\n",
        "    fold_precision_key = f\"split{fold_idx}_test_precision\"\n",
        "    fold_precision = results[fold_precision_key]\n",
        "    print(f\"Fold {fold_idx + 1} Precision:\", fold_precision)\n",
        "\n",
        "results = grid_search.cv_results_\n",
        "for fold_idx in range(grid_search.cv):\n",
        "    fold_accuracy_key = f\"split{fold_idx}_test_accuracy\"\n",
        "    fold_accuracy = results[fold_accuracy_key]\n",
        "    print(f\"Fold {fold_idx + 1} Accuracy:\", fold_accuracy)"
      ],
      "metadata": {
        "colab": {
          "base_uri": "https://localhost:8080/"
        },
        "outputId": "0dc70c6d-3fda-4b63-ba7b-d8f81083d683",
        "id": "U-OXBQPFX-tO"
      },
      "execution_count": null,
      "outputs": [
        {
          "output_type": "stream",
          "name": "stdout",
          "text": [
            "Fold 1 Recall: [0.5084686  0.50105857 0.50811574 0.51693719 0.51482004 0.51834862\n",
            " 0.51623147 0.52258292]\n",
            "Fold 2 Recall: [0.30991881 0.30038828 0.306036   0.3000353  0.29827038 0.29509354\n",
            " 0.29156371 0.29015178]\n",
            "Fold 3 Recall: [0.326509   0.30638899 0.29474056 0.28944582 0.28591599 0.28556301\n",
            " 0.27779739 0.27744441]\n",
            "Fold 4 Recall: [0.30638899 0.2919167  0.29332863 0.29262266 0.28097423 0.28273915\n",
            " 0.27850335 0.27673844]\n",
            "Fold 5 Recall: [0.32933286 0.32368514 0.32227321 0.3162725  0.30462407 0.30180021\n",
            " 0.29968232 0.29544652]\n",
            "Fold 6 Recall: [0.35757148 0.34415814 0.34062831 0.34027533 0.33745146 0.33498059\n",
            " 0.32933286 0.33215672]\n",
            "Fold 7 Recall: [0.49346982 0.48888104 0.48923403 0.49170491 0.49452877 0.48711613\n",
            " 0.48923403 0.49170491]\n",
            "Fold 1 Precision: [0.763646   0.786268   0.79514081 0.81073603 0.81736695 0.82343049\n",
            " 0.82329769 0.82598996]\n",
            "Fold 2 Precision: [0.52796152 0.54446577 0.54494029 0.55158988 0.54798962 0.54533594\n",
            " 0.54701987 0.55130785]\n",
            "Fold 3 Precision: [0.51820728 0.51820896 0.51353014 0.51475204 0.51592357 0.52396373\n",
            " 0.51572739 0.51676529]\n",
            "Fold 4 Precision: [0.48901408 0.49284863 0.50424757 0.50487211 0.49968613 0.50440806\n",
            " 0.50095238 0.49872774]\n",
            "Fold 5 Precision: [0.50955762 0.51343785 0.51465614 0.52153667 0.51277481 0.51975684\n",
            " 0.51454545 0.51192661]\n",
            "Fold 6 Precision: [0.56592179 0.57352941 0.58027661 0.58072289 0.58830769 0.59164589\n",
            " 0.58901515 0.59556962]\n",
            "Fold 7 Precision: [0.73773087 0.76603982 0.77085651 0.77864729 0.78224456 0.78677309\n",
            " 0.78438031 0.78656126]\n",
            "Fold 1 Accuracy: [0.69598281 0.70243015 0.70821623 0.71714333 0.7187965  0.72226814\n",
            " 0.72144156 0.72474789]\n",
            "Fold 2 Accuracy: [0.54703257 0.55463713 0.5552984  0.55794346 0.55612498 0.55463713\n",
            " 0.55513308 0.55695156]\n",
            "Fold 3 Accuracy: [0.5424037  0.54174244 0.53893205 0.539428   0.53992395 0.54389155\n",
            " 0.53959332 0.54008927]\n",
            "Fold 4 Accuracy: [0.52521078 0.52769053 0.53397256 0.53430319 0.53149281 0.53397256\n",
            " 0.53215408 0.53099686]\n",
            "Fold 5 Accuracy: [0.53744421 0.53959332 0.54025459 0.54389155 0.53876674 0.5424037\n",
            " 0.53959332 0.53810547]\n",
            "Fold 6 Accuracy: [0.57067284 0.57298727 0.57579765 0.57596297 0.57910398 0.5802612\n",
            " 0.5782774  0.58158373]\n",
            "Fold 7 Accuracy: [0.68055556 0.69064153 0.69262566 0.69642857 0.69874339 0.69791667\n",
            " 0.69775132 0.69940476]\n"
          ]
        }
      ]
    },
    {
      "cell_type": "code",
      "source": [
        "# Initialize variables to store the best accuracy and its corresponding fold index\n",
        "best_accuracy = 0.0\n",
        "best_fold_index = -1\n",
        "\n",
        "# Iterate through each fold to find the one with the highest accuracy\n",
        "for fold_idx in range(grid_search.cv):\n",
        "    fold_accuracy_key = f\"split{fold_idx}_test_accuracy\"\n",
        "    fold_accuracy = results[fold_accuracy_key]\n",
        "\n",
        "    max_fold_accuracy = max(fold_accuracy)\n",
        "    if max_fold_accuracy > best_accuracy:\n",
        "        best_accuracy = max_fold_accuracy\n",
        "        best_fold_index = fold_idx\n",
        "\n",
        "# If a fold with the highest accuracy is found, retrieve its precision, recall, and parameters\n",
        "if best_fold_index != -1:\n",
        "    fold_precision_key = f\"split{best_fold_index}_test_precision\"\n",
        "    fold_recall_key = f\"split{best_fold_index}_test_recall\"\n",
        "    # fold_params = results['params'][best_fold_index]\n",
        "\n",
        "    best_fold_precision = results[fold_precision_key][best_accuracy.argmax()]\n",
        "    best_fold_recall = results[fold_recall_key][best_accuracy.argmax()]\n",
        "\n",
        "    # Printing the best accuracy value, its corresponding precision, recall, and parameters\n",
        "    print(f\"Best Accuracy: {best_accuracy}\")\n",
        "    print(f\"Corresponding Precision: {best_fold_precision}\")\n",
        "    print(f\"Corresponding Recall: {best_fold_recall}\")\n",
        "    # print(f\"Parameters for Best Accuracy: {fold_params}\")\n",
        "else:\n",
        "    print(\"No fold found with the highest accuracy.\")\n"
      ],
      "metadata": {
        "colab": {
          "base_uri": "https://localhost:8080/"
        },
        "id": "NnwNDHZGj7FF",
        "outputId": "b481c3bf-4a3f-4213-8ea2-7aec1dc4a995"
      },
      "execution_count": null,
      "outputs": [
        {
          "output_type": "stream",
          "name": "stdout",
          "text": [
            "Best Accuracy: 0.724747892213589\n",
            "Corresponding Precision: 0.7636459989401165\n",
            "Corresponding Recall: 0.5084685956245589\n"
          ]
        }
      ]
    },
    {
      "cell_type": "markdown",
      "source": [
        "## ExtraTreesClassifier"
      ],
      "metadata": {
        "id": "r-ftJbj4X-tP"
      }
    },
    {
      "cell_type": "code",
      "source": [
        "from sklearn.model_selection import GridSearchCV\n",
        "from sklearn.metrics import make_scorer, precision_score, recall_score, accuracy_score\n",
        "\n",
        "# Assuming you have a RandomForestClassifier instance 'rf_classifier' and your data 'X', 'y'\n",
        "param_grid = {\n",
        "    'n_estimators': [400]\n",
        "}\n",
        "\n",
        "# Create a dictionary of scoring metrics\n",
        "scoring = {\n",
        "    'precision': make_scorer(precision_score),\n",
        "    'recall': make_scorer(recall_score),\n",
        "    'accuracy': make_scorer(accuracy_score)\n",
        "}\n",
        "\n",
        "grid_search = GridSearchCV(ExtraTreesClassifier(n_jobs=-1), param_grid, cv=7, scoring=scoring, refit='accuracy')\n",
        "grid_search.fit(X, y)"
      ],
      "metadata": {
        "colab": {
          "base_uri": "https://localhost:8080/",
          "height": 118
        },
        "id": "SRaC0HdvX-tP",
        "outputId": "3c6e97f3-5979-4372-d83a-b70da5a5c8f6"
      },
      "execution_count": null,
      "outputs": [
        {
          "output_type": "execute_result",
          "data": {
            "text/plain": [
              "GridSearchCV(cv=7, estimator=ExtraTreesClassifier(n_jobs=-1),\n",
              "             param_grid={'n_estimators': [400]}, refit='accuracy',\n",
              "             scoring={'accuracy': make_scorer(accuracy_score),\n",
              "                      'precision': make_scorer(precision_score),\n",
              "                      'recall': make_scorer(recall_score)})"
            ],
            "text/html": [
              "<style>#sk-container-id-19 {color: black;background-color: white;}#sk-container-id-19 pre{padding: 0;}#sk-container-id-19 div.sk-toggleable {background-color: white;}#sk-container-id-19 label.sk-toggleable__label {cursor: pointer;display: block;width: 100%;margin-bottom: 0;padding: 0.3em;box-sizing: border-box;text-align: center;}#sk-container-id-19 label.sk-toggleable__label-arrow:before {content: \"▸\";float: left;margin-right: 0.25em;color: #696969;}#sk-container-id-19 label.sk-toggleable__label-arrow:hover:before {color: black;}#sk-container-id-19 div.sk-estimator:hover label.sk-toggleable__label-arrow:before {color: black;}#sk-container-id-19 div.sk-toggleable__content {max-height: 0;max-width: 0;overflow: hidden;text-align: left;background-color: #f0f8ff;}#sk-container-id-19 div.sk-toggleable__content pre {margin: 0.2em;color: black;border-radius: 0.25em;background-color: #f0f8ff;}#sk-container-id-19 input.sk-toggleable__control:checked~div.sk-toggleable__content {max-height: 200px;max-width: 100%;overflow: auto;}#sk-container-id-19 input.sk-toggleable__control:checked~label.sk-toggleable__label-arrow:before {content: \"▾\";}#sk-container-id-19 div.sk-estimator input.sk-toggleable__control:checked~label.sk-toggleable__label {background-color: #d4ebff;}#sk-container-id-19 div.sk-label input.sk-toggleable__control:checked~label.sk-toggleable__label {background-color: #d4ebff;}#sk-container-id-19 input.sk-hidden--visually {border: 0;clip: rect(1px 1px 1px 1px);clip: rect(1px, 1px, 1px, 1px);height: 1px;margin: -1px;overflow: hidden;padding: 0;position: absolute;width: 1px;}#sk-container-id-19 div.sk-estimator {font-family: monospace;background-color: #f0f8ff;border: 1px dotted black;border-radius: 0.25em;box-sizing: border-box;margin-bottom: 0.5em;}#sk-container-id-19 div.sk-estimator:hover {background-color: #d4ebff;}#sk-container-id-19 div.sk-parallel-item::after {content: \"\";width: 100%;border-bottom: 1px solid gray;flex-grow: 1;}#sk-container-id-19 div.sk-label:hover label.sk-toggleable__label {background-color: #d4ebff;}#sk-container-id-19 div.sk-serial::before {content: \"\";position: absolute;border-left: 1px solid gray;box-sizing: border-box;top: 0;bottom: 0;left: 50%;z-index: 0;}#sk-container-id-19 div.sk-serial {display: flex;flex-direction: column;align-items: center;background-color: white;padding-right: 0.2em;padding-left: 0.2em;position: relative;}#sk-container-id-19 div.sk-item {position: relative;z-index: 1;}#sk-container-id-19 div.sk-parallel {display: flex;align-items: stretch;justify-content: center;background-color: white;position: relative;}#sk-container-id-19 div.sk-item::before, #sk-container-id-19 div.sk-parallel-item::before {content: \"\";position: absolute;border-left: 1px solid gray;box-sizing: border-box;top: 0;bottom: 0;left: 50%;z-index: -1;}#sk-container-id-19 div.sk-parallel-item {display: flex;flex-direction: column;z-index: 1;position: relative;background-color: white;}#sk-container-id-19 div.sk-parallel-item:first-child::after {align-self: flex-end;width: 50%;}#sk-container-id-19 div.sk-parallel-item:last-child::after {align-self: flex-start;width: 50%;}#sk-container-id-19 div.sk-parallel-item:only-child::after {width: 0;}#sk-container-id-19 div.sk-dashed-wrapped {border: 1px dashed gray;margin: 0 0.4em 0.5em 0.4em;box-sizing: border-box;padding-bottom: 0.4em;background-color: white;}#sk-container-id-19 div.sk-label label {font-family: monospace;font-weight: bold;display: inline-block;line-height: 1.2em;}#sk-container-id-19 div.sk-label-container {text-align: center;}#sk-container-id-19 div.sk-container {/* jupyter's `normalize.less` sets `[hidden] { display: none; }` but bootstrap.min.css set `[hidden] { display: none !important; }` so we also need the `!important` here to be able to override the default hidden behavior on the sphinx rendered scikit-learn.org. See: https://github.com/scikit-learn/scikit-learn/issues/21755 */display: inline-block !important;position: relative;}#sk-container-id-19 div.sk-text-repr-fallback {display: none;}</style><div id=\"sk-container-id-19\" class=\"sk-top-container\"><div class=\"sk-text-repr-fallback\"><pre>GridSearchCV(cv=7, estimator=ExtraTreesClassifier(n_jobs=-1),\n",
              "             param_grid={&#x27;n_estimators&#x27;: [400]}, refit=&#x27;accuracy&#x27;,\n",
              "             scoring={&#x27;accuracy&#x27;: make_scorer(accuracy_score),\n",
              "                      &#x27;precision&#x27;: make_scorer(precision_score),\n",
              "                      &#x27;recall&#x27;: make_scorer(recall_score)})</pre><b>In a Jupyter environment, please rerun this cell to show the HTML representation or trust the notebook. <br />On GitHub, the HTML representation is unable to render, please try loading this page with nbviewer.org.</b></div><div class=\"sk-container\" hidden><div class=\"sk-item sk-dashed-wrapped\"><div class=\"sk-label-container\"><div class=\"sk-label sk-toggleable\"><input class=\"sk-toggleable__control sk-hidden--visually\" id=\"sk-estimator-id-55\" type=\"checkbox\" ><label for=\"sk-estimator-id-55\" class=\"sk-toggleable__label sk-toggleable__label-arrow\">GridSearchCV</label><div class=\"sk-toggleable__content\"><pre>GridSearchCV(cv=7, estimator=ExtraTreesClassifier(n_jobs=-1),\n",
              "             param_grid={&#x27;n_estimators&#x27;: [400]}, refit=&#x27;accuracy&#x27;,\n",
              "             scoring={&#x27;accuracy&#x27;: make_scorer(accuracy_score),\n",
              "                      &#x27;precision&#x27;: make_scorer(precision_score),\n",
              "                      &#x27;recall&#x27;: make_scorer(recall_score)})</pre></div></div></div><div class=\"sk-parallel\"><div class=\"sk-parallel-item\"><div class=\"sk-item\"><div class=\"sk-label-container\"><div class=\"sk-label sk-toggleable\"><input class=\"sk-toggleable__control sk-hidden--visually\" id=\"sk-estimator-id-56\" type=\"checkbox\" ><label for=\"sk-estimator-id-56\" class=\"sk-toggleable__label sk-toggleable__label-arrow\">estimator: ExtraTreesClassifier</label><div class=\"sk-toggleable__content\"><pre>ExtraTreesClassifier(n_jobs=-1)</pre></div></div></div><div class=\"sk-serial\"><div class=\"sk-item\"><div class=\"sk-estimator sk-toggleable\"><input class=\"sk-toggleable__control sk-hidden--visually\" id=\"sk-estimator-id-57\" type=\"checkbox\" ><label for=\"sk-estimator-id-57\" class=\"sk-toggleable__label sk-toggleable__label-arrow\">ExtraTreesClassifier</label><div class=\"sk-toggleable__content\"><pre>ExtraTreesClassifier(n_jobs=-1)</pre></div></div></div></div></div></div></div></div></div></div>"
            ]
          },
          "metadata": {},
          "execution_count": 101
        }
      ]
    },
    {
      "cell_type": "markdown",
      "source": [
        "### scores"
      ],
      "metadata": {
        "id": "7WXzNXevX-tQ"
      }
    },
    {
      "cell_type": "code",
      "source": [
        "best_rf = grid_search.best_estimator_\n",
        "\n",
        "# Getting the results\n",
        "results_df = pd.DataFrame(grid_search.cv_results_)\n",
        "\n",
        "# Printing precision, recall, and accuracy scores\n",
        "print(\"Best Parameters:\", grid_search.best_params_)\n",
        "print(\"Best Score (Accuracy):\", grid_search.best_score_)\n",
        "\n",
        "# Accessing precision, recall, and accuracy scores from results_df\n",
        "print(\"Precision Scores:\", results_df[['param_n_estimators', 'mean_test_precision']])\n",
        "print(\"Recall Scores:\", results_df[['param_n_estimators', 'mean_test_recall']])\n",
        "print(\"Accuracy Scores:\", results_df[['param_n_estimators', 'mean_test_accuracy']])\n"
      ],
      "metadata": {
        "colab": {
          "base_uri": "https://localhost:8080/"
        },
        "id": "pFcvHENsX-tQ",
        "outputId": "ee261d6f-cd89-40b7-996d-489b053870c0"
      },
      "execution_count": null,
      "outputs": [
        {
          "output_type": "stream",
          "name": "stdout",
          "text": [
            "Best Parameters: {'n_estimators': 400}\n",
            "Best Score (Accuracy): 0.6318826030164091\n",
            "Precision Scores:   param_n_estimators  mean_test_precision\n",
            "0                400             0.629611\n",
            "Recall Scores:   param_n_estimators  mean_test_recall\n",
            "0                400          0.488036\n",
            "Accuracy Scores:   param_n_estimators  mean_test_accuracy\n",
            "0                400            0.631883\n"
          ]
        }
      ]
    },
    {
      "cell_type": "code",
      "source": [
        "# Printing precision, recall, and accuracy scores for the best parameters\n",
        "best_precision = results_df[results_df['rank_test_accuracy'] == 1][['param_n_estimators', 'mean_test_precision']]\n",
        "best_recall = results_df[results_df['rank_test_accuracy'] == 1][['param_n_estimators', 'mean_test_recall']]\n",
        "best_accuracy = results_df[results_df['rank_test_accuracy'] == 1][['param_n_estimators', 'mean_test_accuracy']]\n",
        "\n",
        "print(\"\\nBest Precision Scores:\")\n",
        "print(best_precision)\n",
        "\n",
        "print(\"\\nBest Recall Scores:\")\n",
        "print(best_recall)\n",
        "\n",
        "print(\"\\nBest Accuracy Scores:\")\n",
        "print(best_accuracy)"
      ],
      "metadata": {
        "colab": {
          "base_uri": "https://localhost:8080/"
        },
        "id": "YcmaZ7yxX-tQ",
        "outputId": "9c67150b-911c-4e10-da8f-7a1c65a38b76"
      },
      "execution_count": null,
      "outputs": [
        {
          "output_type": "stream",
          "name": "stdout",
          "text": [
            "\n",
            "Best Precision Scores:\n",
            "  param_n_estimators  mean_test_precision\n",
            "0                400             0.629611\n",
            "\n",
            "Best Recall Scores:\n",
            "  param_n_estimators  mean_test_recall\n",
            "0                400          0.488036\n",
            "\n",
            "Best Accuracy Scores:\n",
            "  param_n_estimators  mean_test_accuracy\n",
            "0                400            0.631883\n"
          ]
        }
      ]
    },
    {
      "cell_type": "code",
      "source": [
        "# To access recall scores for each fold (for demonstration purposes)\n",
        "results = grid_search.cv_results_\n",
        "for fold_idx in range(grid_search.cv):\n",
        "    fold_recall_key = f\"split{fold_idx}_test_recall\"\n",
        "    fold_recall = results[fold_recall_key]\n",
        "    print(f\"Fold {fold_idx + 1} Recall:\", fold_recall)\n",
        "\n",
        "results = grid_search.cv_results_\n",
        "for fold_idx in range(grid_search.cv):\n",
        "    fold_precision_key = f\"split{fold_idx}_test_precision\"\n",
        "    fold_precision = results[fold_precision_key]\n",
        "    print(f\"Fold {fold_idx + 1} Precision:\", fold_precision)\n",
        "\n",
        "results = grid_search.cv_results_\n",
        "for fold_idx in range(grid_search.cv):\n",
        "    fold_accuracy_key = f\"split{fold_idx}_test_accuracy\"\n",
        "    fold_accuracy = results[fold_accuracy_key]\n",
        "    print(f\"Fold {fold_idx + 1} Accuracy:\", fold_accuracy)"
      ],
      "metadata": {
        "colab": {
          "base_uri": "https://localhost:8080/"
        },
        "id": "6AM6eAIBX-tQ",
        "outputId": "62f0423a-61c8-43ad-cc40-93f107ded76a"
      },
      "execution_count": null,
      "outputs": [
        {
          "output_type": "stream",
          "name": "stdout",
          "text": [
            "Fold 1 Recall: [0.75158786]\n",
            "Fold 2 Recall: [0.40557713]\n",
            "Fold 3 Recall: [0.3632192]\n",
            "Fold 4 Recall: [0.36180727]\n",
            "Fold 5 Recall: [0.37592658]\n",
            "Fold 6 Recall: [0.44299329]\n",
            "Fold 7 Recall: [0.71514296]\n",
            "Fold 1 Precision: [0.87402544]\n",
            "Fold 2 Precision: [0.57306733]\n",
            "Fold 3 Precision: [0.51296112]\n",
            "Fold 4 Precision: [0.48949379]\n",
            "Fold 5 Precision: [0.50569801]\n",
            "Fold 6 Precision: [0.60716014]\n",
            "Fold 7 Precision: [0.84487073]\n",
            "Fold 1 Accuracy: [0.83286494]\n",
            "Fold 2 Accuracy: [0.58009588]\n",
            "Fold 3 Accuracy: [0.54025459]\n",
            "Fold 4 Accuracy: [0.5243842]\n",
            "Fold 5 Accuracy: [0.53562572]\n",
            "Fold 6 Accuracy: [0.60489337]\n",
            "Fold 7 Accuracy: [0.80505952]\n"
          ]
        }
      ]
    },
    {
      "cell_type": "code",
      "source": [
        "# Initialize variables to store the best accuracy and its corresponding fold index\n",
        "best_accuracy = 0.0\n",
        "best_fold_index = -1\n",
        "\n",
        "# Iterate through each fold to find the one with the highest accuracy\n",
        "for fold_idx in range(grid_search.cv):\n",
        "    fold_accuracy_key = f\"split{fold_idx}_test_accuracy\"\n",
        "    fold_accuracy = results[fold_accuracy_key]\n",
        "\n",
        "    max_fold_accuracy = max(fold_accuracy)\n",
        "    if max_fold_accuracy > best_accuracy:\n",
        "        best_accuracy = max_fold_accuracy\n",
        "        best_fold_index = fold_idx\n",
        "\n",
        "# If a fold with the highest accuracy is found, retrieve its precision, recall, and parameters\n",
        "if best_fold_index != -1:\n",
        "    fold_precision_key = f\"split{best_fold_index}_test_precision\"\n",
        "    fold_recall_key = f\"split{best_fold_index}_test_recall\"\n",
        "    # fold_params = results['params'][best_fold_index]\n",
        "\n",
        "    best_fold_precision = results[fold_precision_key][best_accuracy.argmax()]\n",
        "    best_fold_recall = results[fold_recall_key][best_accuracy.argmax()]\n",
        "\n",
        "    # Printing the best accuracy value, its corresponding precision, recall, and parameters\n",
        "    print(f\"Best Accuracy: {best_accuracy}\")\n",
        "    print(f\"Corresponding Precision: {best_fold_precision}\")\n",
        "    print(f\"Corresponding Recall: {best_fold_recall}\")\n",
        "    # print(f\"Parameters for Best Accuracy: {fold_params}\")\n",
        "else:\n",
        "    print(\"No fold found with the highest accuracy.\")\n"
      ],
      "metadata": {
        "id": "MJMn-RSulxdH"
      },
      "execution_count": null,
      "outputs": []
    },
    {
      "cell_type": "markdown",
      "source": [
        "## XGBoost"
      ],
      "metadata": {
        "id": "ZN01bREYX-tQ"
      }
    },
    {
      "cell_type": "code",
      "source": [
        "# Assuming you have a RandomForestClassifier instance 'rf_classifier' and your data 'X', 'y'\n",
        "param_grid = {\n",
        "    'max_depth': [3, 5, 7, 9],\n",
        "}\n",
        "\n",
        "# Create a dictionary of scoring metrics\n",
        "scoring = {\n",
        "    'precision': make_scorer(precision_score),\n",
        "    'recall': make_scorer(recall_score),\n",
        "    'accuracy': make_scorer(accuracy_score)\n",
        "}\n",
        "\n",
        "grid_search = GridSearchCV(XGBClassifier(device='cuda'), param_grid, cv=7, scoring=scoring, refit='accuracy')\n",
        "grid_search.fit(X, y)"
      ],
      "metadata": {
        "colab": {
          "base_uri": "https://localhost:8080/",
          "height": 118
        },
        "id": "N7MdFTsCX-tQ",
        "outputId": "eea719f0-f51f-411a-ce4c-ec7dc56b7077"
      },
      "execution_count": null,
      "outputs": [
        {
          "output_type": "execute_result",
          "data": {
            "text/plain": [
              "GridSearchCV(cv=7,\n",
              "             estimator=XGBClassifier(base_score=None, booster=None,\n",
              "                                     callbacks=None, colsample_bylevel=None,\n",
              "                                     colsample_bynode=None,\n",
              "                                     colsample_bytree=None, device='cuda',\n",
              "                                     early_stopping_rounds=None,\n",
              "                                     enable_categorical=False, eval_metric=None,\n",
              "                                     feature_types=None, gamma=None,\n",
              "                                     grow_policy=None, importance_type=None,\n",
              "                                     interaction_constraints=None,\n",
              "                                     learning_rate=Non...\n",
              "                                     max_delta_step=None, max_depth=None,\n",
              "                                     max_leaves=None, min_child_weight=None,\n",
              "                                     missing=nan, monotone_constraints=None,\n",
              "                                     multi_strategy=None, n_estimators=None,\n",
              "                                     n_jobs=None, num_parallel_tree=None,\n",
              "                                     random_state=None, ...),\n",
              "             param_grid={'max_depth': [3, 5, 7, 9]}, refit='accuracy',\n",
              "             scoring={'accuracy': make_scorer(accuracy_score),\n",
              "                      'precision': make_scorer(precision_score),\n",
              "                      'recall': make_scorer(recall_score)})"
            ],
            "text/html": [
              "<style>#sk-container-id-15 {color: black;background-color: white;}#sk-container-id-15 pre{padding: 0;}#sk-container-id-15 div.sk-toggleable {background-color: white;}#sk-container-id-15 label.sk-toggleable__label {cursor: pointer;display: block;width: 100%;margin-bottom: 0;padding: 0.3em;box-sizing: border-box;text-align: center;}#sk-container-id-15 label.sk-toggleable__label-arrow:before {content: \"▸\";float: left;margin-right: 0.25em;color: #696969;}#sk-container-id-15 label.sk-toggleable__label-arrow:hover:before {color: black;}#sk-container-id-15 div.sk-estimator:hover label.sk-toggleable__label-arrow:before {color: black;}#sk-container-id-15 div.sk-toggleable__content {max-height: 0;max-width: 0;overflow: hidden;text-align: left;background-color: #f0f8ff;}#sk-container-id-15 div.sk-toggleable__content pre {margin: 0.2em;color: black;border-radius: 0.25em;background-color: #f0f8ff;}#sk-container-id-15 input.sk-toggleable__control:checked~div.sk-toggleable__content {max-height: 200px;max-width: 100%;overflow: auto;}#sk-container-id-15 input.sk-toggleable__control:checked~label.sk-toggleable__label-arrow:before {content: \"▾\";}#sk-container-id-15 div.sk-estimator input.sk-toggleable__control:checked~label.sk-toggleable__label {background-color: #d4ebff;}#sk-container-id-15 div.sk-label input.sk-toggleable__control:checked~label.sk-toggleable__label {background-color: #d4ebff;}#sk-container-id-15 input.sk-hidden--visually {border: 0;clip: rect(1px 1px 1px 1px);clip: rect(1px, 1px, 1px, 1px);height: 1px;margin: -1px;overflow: hidden;padding: 0;position: absolute;width: 1px;}#sk-container-id-15 div.sk-estimator {font-family: monospace;background-color: #f0f8ff;border: 1px dotted black;border-radius: 0.25em;box-sizing: border-box;margin-bottom: 0.5em;}#sk-container-id-15 div.sk-estimator:hover {background-color: #d4ebff;}#sk-container-id-15 div.sk-parallel-item::after {content: \"\";width: 100%;border-bottom: 1px solid gray;flex-grow: 1;}#sk-container-id-15 div.sk-label:hover label.sk-toggleable__label {background-color: #d4ebff;}#sk-container-id-15 div.sk-serial::before {content: \"\";position: absolute;border-left: 1px solid gray;box-sizing: border-box;top: 0;bottom: 0;left: 50%;z-index: 0;}#sk-container-id-15 div.sk-serial {display: flex;flex-direction: column;align-items: center;background-color: white;padding-right: 0.2em;padding-left: 0.2em;position: relative;}#sk-container-id-15 div.sk-item {position: relative;z-index: 1;}#sk-container-id-15 div.sk-parallel {display: flex;align-items: stretch;justify-content: center;background-color: white;position: relative;}#sk-container-id-15 div.sk-item::before, #sk-container-id-15 div.sk-parallel-item::before {content: \"\";position: absolute;border-left: 1px solid gray;box-sizing: border-box;top: 0;bottom: 0;left: 50%;z-index: -1;}#sk-container-id-15 div.sk-parallel-item {display: flex;flex-direction: column;z-index: 1;position: relative;background-color: white;}#sk-container-id-15 div.sk-parallel-item:first-child::after {align-self: flex-end;width: 50%;}#sk-container-id-15 div.sk-parallel-item:last-child::after {align-self: flex-start;width: 50%;}#sk-container-id-15 div.sk-parallel-item:only-child::after {width: 0;}#sk-container-id-15 div.sk-dashed-wrapped {border: 1px dashed gray;margin: 0 0.4em 0.5em 0.4em;box-sizing: border-box;padding-bottom: 0.4em;background-color: white;}#sk-container-id-15 div.sk-label label {font-family: monospace;font-weight: bold;display: inline-block;line-height: 1.2em;}#sk-container-id-15 div.sk-label-container {text-align: center;}#sk-container-id-15 div.sk-container {/* jupyter's `normalize.less` sets `[hidden] { display: none; }` but bootstrap.min.css set `[hidden] { display: none !important; }` so we also need the `!important` here to be able to override the default hidden behavior on the sphinx rendered scikit-learn.org. See: https://github.com/scikit-learn/scikit-learn/issues/21755 */display: inline-block !important;position: relative;}#sk-container-id-15 div.sk-text-repr-fallback {display: none;}</style><div id=\"sk-container-id-15\" class=\"sk-top-container\"><div class=\"sk-text-repr-fallback\"><pre>GridSearchCV(cv=7,\n",
              "             estimator=XGBClassifier(base_score=None, booster=None,\n",
              "                                     callbacks=None, colsample_bylevel=None,\n",
              "                                     colsample_bynode=None,\n",
              "                                     colsample_bytree=None, device=&#x27;cuda&#x27;,\n",
              "                                     early_stopping_rounds=None,\n",
              "                                     enable_categorical=False, eval_metric=None,\n",
              "                                     feature_types=None, gamma=None,\n",
              "                                     grow_policy=None, importance_type=None,\n",
              "                                     interaction_constraints=None,\n",
              "                                     learning_rate=Non...\n",
              "                                     max_delta_step=None, max_depth=None,\n",
              "                                     max_leaves=None, min_child_weight=None,\n",
              "                                     missing=nan, monotone_constraints=None,\n",
              "                                     multi_strategy=None, n_estimators=None,\n",
              "                                     n_jobs=None, num_parallel_tree=None,\n",
              "                                     random_state=None, ...),\n",
              "             param_grid={&#x27;max_depth&#x27;: [3, 5, 7, 9]}, refit=&#x27;accuracy&#x27;,\n",
              "             scoring={&#x27;accuracy&#x27;: make_scorer(accuracy_score),\n",
              "                      &#x27;precision&#x27;: make_scorer(precision_score),\n",
              "                      &#x27;recall&#x27;: make_scorer(recall_score)})</pre><b>In a Jupyter environment, please rerun this cell to show the HTML representation or trust the notebook. <br />On GitHub, the HTML representation is unable to render, please try loading this page with nbviewer.org.</b></div><div class=\"sk-container\" hidden><div class=\"sk-item sk-dashed-wrapped\"><div class=\"sk-label-container\"><div class=\"sk-label sk-toggleable\"><input class=\"sk-toggleable__control sk-hidden--visually\" id=\"sk-estimator-id-43\" type=\"checkbox\" ><label for=\"sk-estimator-id-43\" class=\"sk-toggleable__label sk-toggleable__label-arrow\">GridSearchCV</label><div class=\"sk-toggleable__content\"><pre>GridSearchCV(cv=7,\n",
              "             estimator=XGBClassifier(base_score=None, booster=None,\n",
              "                                     callbacks=None, colsample_bylevel=None,\n",
              "                                     colsample_bynode=None,\n",
              "                                     colsample_bytree=None, device=&#x27;cuda&#x27;,\n",
              "                                     early_stopping_rounds=None,\n",
              "                                     enable_categorical=False, eval_metric=None,\n",
              "                                     feature_types=None, gamma=None,\n",
              "                                     grow_policy=None, importance_type=None,\n",
              "                                     interaction_constraints=None,\n",
              "                                     learning_rate=Non...\n",
              "                                     max_delta_step=None, max_depth=None,\n",
              "                                     max_leaves=None, min_child_weight=None,\n",
              "                                     missing=nan, monotone_constraints=None,\n",
              "                                     multi_strategy=None, n_estimators=None,\n",
              "                                     n_jobs=None, num_parallel_tree=None,\n",
              "                                     random_state=None, ...),\n",
              "             param_grid={&#x27;max_depth&#x27;: [3, 5, 7, 9]}, refit=&#x27;accuracy&#x27;,\n",
              "             scoring={&#x27;accuracy&#x27;: make_scorer(accuracy_score),\n",
              "                      &#x27;precision&#x27;: make_scorer(precision_score),\n",
              "                      &#x27;recall&#x27;: make_scorer(recall_score)})</pre></div></div></div><div class=\"sk-parallel\"><div class=\"sk-parallel-item\"><div class=\"sk-item\"><div class=\"sk-label-container\"><div class=\"sk-label sk-toggleable\"><input class=\"sk-toggleable__control sk-hidden--visually\" id=\"sk-estimator-id-44\" type=\"checkbox\" ><label for=\"sk-estimator-id-44\" class=\"sk-toggleable__label sk-toggleable__label-arrow\">estimator: XGBClassifier</label><div class=\"sk-toggleable__content\"><pre>XGBClassifier(base_score=None, booster=None, callbacks=None,\n",
              "              colsample_bylevel=None, colsample_bynode=None,\n",
              "              colsample_bytree=None, device=&#x27;cuda&#x27;, early_stopping_rounds=None,\n",
              "              enable_categorical=False, eval_metric=None, feature_types=None,\n",
              "              gamma=None, grow_policy=None, importance_type=None,\n",
              "              interaction_constraints=None, learning_rate=None, max_bin=None,\n",
              "              max_cat_threshold=None, max_cat_to_onehot=None,\n",
              "              max_delta_step=None, max_depth=None, max_leaves=None,\n",
              "              min_child_weight=None, missing=nan, monotone_constraints=None,\n",
              "              multi_strategy=None, n_estimators=None, n_jobs=None,\n",
              "              num_parallel_tree=None, random_state=None, ...)</pre></div></div></div><div class=\"sk-serial\"><div class=\"sk-item\"><div class=\"sk-estimator sk-toggleable\"><input class=\"sk-toggleable__control sk-hidden--visually\" id=\"sk-estimator-id-45\" type=\"checkbox\" ><label for=\"sk-estimator-id-45\" class=\"sk-toggleable__label sk-toggleable__label-arrow\">XGBClassifier</label><div class=\"sk-toggleable__content\"><pre>XGBClassifier(base_score=None, booster=None, callbacks=None,\n",
              "              colsample_bylevel=None, colsample_bynode=None,\n",
              "              colsample_bytree=None, device=&#x27;cuda&#x27;, early_stopping_rounds=None,\n",
              "              enable_categorical=False, eval_metric=None, feature_types=None,\n",
              "              gamma=None, grow_policy=None, importance_type=None,\n",
              "              interaction_constraints=None, learning_rate=None, max_bin=None,\n",
              "              max_cat_threshold=None, max_cat_to_onehot=None,\n",
              "              max_delta_step=None, max_depth=None, max_leaves=None,\n",
              "              min_child_weight=None, missing=nan, monotone_constraints=None,\n",
              "              multi_strategy=None, n_estimators=None, n_jobs=None,\n",
              "              num_parallel_tree=None, random_state=None, ...)</pre></div></div></div></div></div></div></div></div></div></div>"
            ]
          },
          "metadata": {},
          "execution_count": 97
        }
      ]
    },
    {
      "cell_type": "markdown",
      "source": [
        "### scores"
      ],
      "metadata": {
        "id": "4YK432BhX-tQ"
      }
    },
    {
      "cell_type": "code",
      "source": [
        "best_rf = grid_search.best_estimator_\n",
        "\n",
        "# Getting the results\n",
        "results_df = pd.DataFrame(grid_search.cv_results_)\n",
        "\n",
        "# Printing precision, recall, and accuracy scores\n",
        "print(\"Best Parameters:\", grid_search.best_params_)\n",
        "print(\"Best Score (Accuracy):\", grid_search.best_score_)\n",
        "\n",
        "# Accessing precision, recall, and accuracy scores from results_df\n",
        "print(\"Precision Scores:\", results_df[['param_max_depth', 'mean_test_precision']])\n",
        "print(\"Recall Scores:\", results_df[['param_max_depth', 'mean_test_recall']])\n",
        "print(\"Accuracy Scores:\", results_df[['param_max_depth', 'mean_test_accuracy']])\n"
      ],
      "metadata": {
        "colab": {
          "base_uri": "https://localhost:8080/"
        },
        "id": "rEW-Wy67X-tQ",
        "outputId": "6ad91182-fc03-4df9-fd9d-6bff9e314618"
      },
      "execution_count": null,
      "outputs": [
        {
          "output_type": "stream",
          "name": "stdout",
          "text": [
            "Best Parameters: {'max_depth': 9}\n",
            "Best Score (Accuracy): 0.5771362224561395\n",
            "Precision Scores:   param_max_depth  mean_test_precision\n",
            "0               3             0.516155\n",
            "1               5             0.530229\n",
            "2               7             0.537342\n",
            "3               9             0.553361\n",
            "Recall Scores:   param_max_depth  mean_test_recall\n",
            "0               3          0.340206\n",
            "1               5          0.435051\n",
            "2               7          0.488700\n",
            "3               9          0.503826\n",
            "Accuracy Scores:   param_max_depth  mean_test_accuracy\n",
            "0               3            0.541307\n",
            "1               5            0.554652\n",
            "2               7            0.563225\n",
            "3               9            0.577136\n"
          ]
        }
      ]
    },
    {
      "cell_type": "code",
      "source": [
        "# Printing precision, recall, and accuracy scores for the best parameters\n",
        "best_precision = results_df[results_df['rank_test_accuracy'] == 1][['param_max_depth', 'mean_test_precision']]\n",
        "best_recall = results_df[results_df['rank_test_accuracy'] == 1][['param_max_depth', 'mean_test_recall']]\n",
        "best_accuracy = results_df[results_df['rank_test_accuracy'] == 1][['param_max_depth', 'mean_test_accuracy']]\n",
        "\n",
        "print(\"\\nBest Precision Scores:\")\n",
        "print(best_precision)\n",
        "\n",
        "print(\"\\nBest Recall Scores:\")\n",
        "print(best_recall)\n",
        "\n",
        "print(\"\\nBest Accuracy Scores:\")\n",
        "print(best_accuracy)"
      ],
      "metadata": {
        "colab": {
          "base_uri": "https://localhost:8080/"
        },
        "id": "jXPQurazX-tR",
        "outputId": "fbb1d0e6-e1a2-4be2-de4d-a2213b7eebbb"
      },
      "execution_count": null,
      "outputs": [
        {
          "output_type": "stream",
          "name": "stdout",
          "text": [
            "\n",
            "Best Precision Scores:\n",
            "  param_max_depth  mean_test_precision\n",
            "3               9             0.553361\n",
            "\n",
            "Best Recall Scores:\n",
            "  param_max_depth  mean_test_recall\n",
            "3               9          0.503826\n",
            "\n",
            "Best Accuracy Scores:\n",
            "  param_max_depth  mean_test_accuracy\n",
            "3               9            0.577136\n"
          ]
        }
      ]
    },
    {
      "cell_type": "code",
      "source": [
        "# To access recall scores for each fold (for demonstration purposes)\n",
        "results = grid_search.cv_results_\n",
        "for fold_idx in range(grid_search.cv):\n",
        "    fold_recall_key = f\"split{fold_idx}_test_recall\"\n",
        "    fold_recall = results[fold_recall_key]\n",
        "    print(f\"Fold {fold_idx + 1} Recall:\", fold_recall)\n",
        "\n",
        "results = grid_search.cv_results_\n",
        "for fold_idx in range(grid_search.cv):\n",
        "    fold_precision_key = f\"split{fold_idx}_test_precision\"\n",
        "    fold_precision = results[fold_precision_key]\n",
        "    print(f\"Fold {fold_idx + 1} Precision:\", fold_precision)\n",
        "\n",
        "results = grid_search.cv_results_\n",
        "for fold_idx in range(grid_search.cv):\n",
        "    fold_accuracy_key = f\"split{fold_idx}_test_accuracy\"\n",
        "    fold_accuracy = results[fold_accuracy_key]\n",
        "    print(f\"Fold {fold_idx + 1} Accuracy:\", fold_accuracy)"
      ],
      "metadata": {
        "colab": {
          "base_uri": "https://localhost:8080/"
        },
        "id": "70eYLktvX-tR",
        "outputId": "fd7e6710-8501-4f65-9cab-015af1c57a28"
      },
      "execution_count": null,
      "outputs": [
        {
          "output_type": "stream",
          "name": "stdout",
          "text": [
            "Fold 1 Recall: [0.36873677 0.50352858 0.59738885 0.62455893]\n",
            "Fold 2 Recall: [0.32968585 0.39710554 0.46099541 0.46276032]\n",
            "Fold 3 Recall: [0.31944935 0.40840099 0.43805154 0.45534769]\n",
            "Fold 4 Recall: [0.32897988 0.40945994 0.42887399 0.43628662]\n",
            "Fold 5 Recall: [0.3243911  0.40522414 0.44828803 0.43981645]\n",
            "Fold 6 Recall: [0.34557007 0.42499118 0.47299682 0.49099894]\n",
            "Fold 7 Recall: [0.36463113 0.49664666 0.57430286 0.61701377]\n",
            "Fold 1 Precision: [0.57926829 0.6148212  0.65569326 0.69140625]\n",
            "Fold 2 Precision: [0.49339672 0.50111359 0.50541796 0.51736385]\n",
            "Fold 3 Precision: [0.49589041 0.49255002 0.48344371 0.49387443]\n",
            "Fold 4 Precision: [0.49390567 0.49551474 0.46498278 0.48205928]\n",
            "Fold 5 Precision: [0.48064854 0.48093842 0.48696319 0.48089541]\n",
            "Fold 6 Precision: [0.51310273 0.51519042 0.52859961 0.53665123]\n",
            "Fold 7 Precision: [0.55687332 0.61147327 0.63629253 0.67127496]\n",
            "Fold 1 Accuracy: [0.57877335 0.61960655 0.66440734 0.69350306]\n",
            "Fold 2 Accuracy: [0.52752521 0.53248471 0.53628699 0.54620598]\n",
            "Fold 3 Accuracy: [0.52917838 0.52587204 0.51760622 0.52636799]\n",
            "Fold 4 Accuracy: [0.52785584 0.52818648 0.50140519 0.516449  ]\n",
            "Fold 5 Accuracy: [0.5194247  0.51661432 0.5204166  0.51529178]\n",
            "Fold 6 Accuracy: [0.53992395 0.5433956  0.55562903 0.56306828]\n",
            "Fold 7 Accuracy: [0.56646825 0.61640212 0.6468254  0.67906746]\n"
          ]
        }
      ]
    },
    {
      "cell_type": "code",
      "source": [
        "# Initialize variables to store the best accuracy and its corresponding fold index\n",
        "best_accuracy = 0.0\n",
        "best_fold_index = -1\n",
        "\n",
        "# Iterate through each fold to find the one with the highest accuracy\n",
        "for fold_idx in range(grid_search.cv):\n",
        "    fold_accuracy_key = f\"split{fold_idx}_test_accuracy\"\n",
        "    fold_accuracy = results[fold_accuracy_key]\n",
        "\n",
        "    max_fold_accuracy = max(fold_accuracy)\n",
        "    if max_fold_accuracy > best_accuracy:\n",
        "        best_accuracy = max_fold_accuracy\n",
        "        best_fold_index = fold_idx\n",
        "\n",
        "# If a fold with the highest accuracy is found, retrieve its precision, recall, and parameters\n",
        "if best_fold_index != -1:\n",
        "    fold_precision_key = f\"split{best_fold_index}_test_precision\"\n",
        "    fold_recall_key = f\"split{best_fold_index}_test_recall\"\n",
        "    # fold_params = results['params'][best_fold_index]\n",
        "\n",
        "    best_fold_precision = results[fold_precision_key][best_accuracy.argmax()]\n",
        "    best_fold_recall = results[fold_recall_key][best_accuracy.argmax()]\n",
        "\n",
        "    # Printing the best accuracy value, its corresponding precision, recall, and parameters\n",
        "    print(f\"Best Accuracy: {best_accuracy}\")\n",
        "    print(f\"Corresponding Precision: {best_fold_precision}\")\n",
        "    print(f\"Corresponding Recall: {best_fold_recall}\")\n",
        "    # print(f\"Parameters for Best Accuracy: {fold_params}\")\n",
        "else:\n",
        "    print(\"No fold found with the highest accuracy.\")\n"
      ],
      "metadata": {
        "colab": {
          "base_uri": "https://localhost:8080/"
        },
        "id": "mRzUVr6Ml-d9",
        "outputId": "738b4d51-1b94-4128-80a6-cc201dd72769"
      },
      "execution_count": null,
      "outputs": [
        {
          "output_type": "stream",
          "name": "stdout",
          "text": [
            "Best Accuracy: 0.6935030583567532\n",
            "Corresponding Precision: 0.5792682926829268\n",
            "Corresponding Recall: 0.3687367678193366\n"
          ]
        }
      ]
    },
    {
      "cell_type": "markdown",
      "source": [
        "## KNeighborsClassifier"
      ],
      "metadata": {
        "id": "jeuKuY1dX-tR"
      }
    },
    {
      "cell_type": "code",
      "source": [
        "# Assuming you have a RandomForestClassifier instance 'rf_classifier' and your data 'X', 'y'\n",
        "param_grid = {\n",
        "    'n_neighbors': [3, 5, 7, 9],\n",
        "}\n",
        "\n",
        "# Create a dictionary of scoring metrics\n",
        "scoring = {\n",
        "    'precision': make_scorer(precision_score),\n",
        "    'recall': make_scorer(recall_score),\n",
        "    'accuracy': make_scorer(accuracy_score)\n",
        "}\n",
        "\n",
        "grid_search = GridSearchCV(KNeighborsClassifier(), param_grid, cv=7, scoring=scoring, refit='accuracy')\n",
        "grid_search.fit(X, y)"
      ],
      "metadata": {
        "colab": {
          "base_uri": "https://localhost:8080/",
          "height": 656
        },
        "id": "3PdBzm1_X-tR",
        "outputId": "baab6780-84fb-4735-a5b7-08189962b06a"
      },
      "execution_count": null,
      "outputs": [
        {
          "output_type": "stream",
          "name": "stdout",
          "text": [
            "[I] [14:08:02.939133] Unused keyword parameter: n_jobs during cuML estimator initialization\n",
            "[I] [14:08:02.947911] Unused keyword parameter: n_jobs during cuML estimator initialization\n",
            "[I] [14:08:03.319758] Unused keyword parameter: n_jobs during cuML estimator initialization\n",
            "[I] [14:08:03.579774] Unused keyword parameter: n_jobs during cuML estimator initialization\n",
            "[I] [14:08:03.842518] Unused keyword parameter: n_jobs during cuML estimator initialization\n",
            "[I] [14:08:05.260359] Unused keyword parameter: n_jobs during cuML estimator initialization\n",
            "[I] [14:08:05.527480] Unused keyword parameter: n_jobs during cuML estimator initialization\n",
            "[I] [14:08:05.796514] Unused keyword parameter: n_jobs during cuML estimator initialization\n",
            "[I] [14:08:06.061725] Unused keyword parameter: n_jobs during cuML estimator initialization\n",
            "[I] [14:08:06.325654] Unused keyword parameter: n_jobs during cuML estimator initialization\n",
            "[I] [14:08:06.593179] Unused keyword parameter: n_jobs during cuML estimator initialization\n",
            "[I] [14:08:06.895888] Unused keyword parameter: n_jobs during cuML estimator initialization\n",
            "[I] [14:08:07.220559] Unused keyword parameter: n_jobs during cuML estimator initialization\n",
            "[I] [14:08:07.492380] Unused keyword parameter: n_jobs during cuML estimator initialization\n",
            "[I] [14:08:07.754395] Unused keyword parameter: n_jobs during cuML estimator initialization\n",
            "[I] [14:08:08.047915] Unused keyword parameter: n_jobs during cuML estimator initialization\n",
            "[I] [14:08:08.324852] Unused keyword parameter: n_jobs during cuML estimator initialization\n",
            "[I] [14:08:08.596208] Unused keyword parameter: n_jobs during cuML estimator initialization\n",
            "[I] [14:08:08.909831] Unused keyword parameter: n_jobs during cuML estimator initialization\n",
            "[I] [14:08:09.190455] Unused keyword parameter: n_jobs during cuML estimator initialization\n",
            "[I] [14:08:09.532148] Unused keyword parameter: n_jobs during cuML estimator initialization\n",
            "[I] [14:08:09.921475] Unused keyword parameter: n_jobs during cuML estimator initialization\n",
            "[I] [14:08:10.285011] Unused keyword parameter: n_jobs during cuML estimator initialization\n",
            "[I] [14:08:10.730087] Unused keyword parameter: n_jobs during cuML estimator initialization\n",
            "[I] [14:08:11.117217] Unused keyword parameter: n_jobs during cuML estimator initialization\n",
            "[I] [14:08:11.680218] Unused keyword parameter: n_jobs during cuML estimator initialization\n",
            "[I] [14:08:12.047925] Unused keyword parameter: n_jobs during cuML estimator initialization\n",
            "[I] [14:08:12.383528] Unused keyword parameter: n_jobs during cuML estimator initialization\n",
            "[I] [14:08:12.743012] Unused keyword parameter: n_jobs during cuML estimator initialization\n",
            "[I] [14:08:13.091733] Unused keyword parameter: n_jobs during cuML estimator initialization\n",
            "[I] [14:08:13.093139] Unused keyword parameter: n_jobs during cuML estimator initialization\n"
          ]
        },
        {
          "output_type": "execute_result",
          "data": {
            "text/plain": [
              "GridSearchCV(cv=7, estimator=KNeighborsClassifier(),\n",
              "             param_grid={'n_neighbors': [3, 5, 7, 9]}, refit='accuracy',\n",
              "             scoring={'accuracy': make_scorer(accuracy_score),\n",
              "                      'precision': make_scorer(precision_score),\n",
              "                      'recall': make_scorer(recall_score)})"
            ],
            "text/html": [
              "<style>#sk-container-id-16 {color: black;background-color: white;}#sk-container-id-16 pre{padding: 0;}#sk-container-id-16 div.sk-toggleable {background-color: white;}#sk-container-id-16 label.sk-toggleable__label {cursor: pointer;display: block;width: 100%;margin-bottom: 0;padding: 0.3em;box-sizing: border-box;text-align: center;}#sk-container-id-16 label.sk-toggleable__label-arrow:before {content: \"▸\";float: left;margin-right: 0.25em;color: #696969;}#sk-container-id-16 label.sk-toggleable__label-arrow:hover:before {color: black;}#sk-container-id-16 div.sk-estimator:hover label.sk-toggleable__label-arrow:before {color: black;}#sk-container-id-16 div.sk-toggleable__content {max-height: 0;max-width: 0;overflow: hidden;text-align: left;background-color: #f0f8ff;}#sk-container-id-16 div.sk-toggleable__content pre {margin: 0.2em;color: black;border-radius: 0.25em;background-color: #f0f8ff;}#sk-container-id-16 input.sk-toggleable__control:checked~div.sk-toggleable__content {max-height: 200px;max-width: 100%;overflow: auto;}#sk-container-id-16 input.sk-toggleable__control:checked~label.sk-toggleable__label-arrow:before {content: \"▾\";}#sk-container-id-16 div.sk-estimator input.sk-toggleable__control:checked~label.sk-toggleable__label {background-color: #d4ebff;}#sk-container-id-16 div.sk-label input.sk-toggleable__control:checked~label.sk-toggleable__label {background-color: #d4ebff;}#sk-container-id-16 input.sk-hidden--visually {border: 0;clip: rect(1px 1px 1px 1px);clip: rect(1px, 1px, 1px, 1px);height: 1px;margin: -1px;overflow: hidden;padding: 0;position: absolute;width: 1px;}#sk-container-id-16 div.sk-estimator {font-family: monospace;background-color: #f0f8ff;border: 1px dotted black;border-radius: 0.25em;box-sizing: border-box;margin-bottom: 0.5em;}#sk-container-id-16 div.sk-estimator:hover {background-color: #d4ebff;}#sk-container-id-16 div.sk-parallel-item::after {content: \"\";width: 100%;border-bottom: 1px solid gray;flex-grow: 1;}#sk-container-id-16 div.sk-label:hover label.sk-toggleable__label {background-color: #d4ebff;}#sk-container-id-16 div.sk-serial::before {content: \"\";position: absolute;border-left: 1px solid gray;box-sizing: border-box;top: 0;bottom: 0;left: 50%;z-index: 0;}#sk-container-id-16 div.sk-serial {display: flex;flex-direction: column;align-items: center;background-color: white;padding-right: 0.2em;padding-left: 0.2em;position: relative;}#sk-container-id-16 div.sk-item {position: relative;z-index: 1;}#sk-container-id-16 div.sk-parallel {display: flex;align-items: stretch;justify-content: center;background-color: white;position: relative;}#sk-container-id-16 div.sk-item::before, #sk-container-id-16 div.sk-parallel-item::before {content: \"\";position: absolute;border-left: 1px solid gray;box-sizing: border-box;top: 0;bottom: 0;left: 50%;z-index: -1;}#sk-container-id-16 div.sk-parallel-item {display: flex;flex-direction: column;z-index: 1;position: relative;background-color: white;}#sk-container-id-16 div.sk-parallel-item:first-child::after {align-self: flex-end;width: 50%;}#sk-container-id-16 div.sk-parallel-item:last-child::after {align-self: flex-start;width: 50%;}#sk-container-id-16 div.sk-parallel-item:only-child::after {width: 0;}#sk-container-id-16 div.sk-dashed-wrapped {border: 1px dashed gray;margin: 0 0.4em 0.5em 0.4em;box-sizing: border-box;padding-bottom: 0.4em;background-color: white;}#sk-container-id-16 div.sk-label label {font-family: monospace;font-weight: bold;display: inline-block;line-height: 1.2em;}#sk-container-id-16 div.sk-label-container {text-align: center;}#sk-container-id-16 div.sk-container {/* jupyter's `normalize.less` sets `[hidden] { display: none; }` but bootstrap.min.css set `[hidden] { display: none !important; }` so we also need the `!important` here to be able to override the default hidden behavior on the sphinx rendered scikit-learn.org. See: https://github.com/scikit-learn/scikit-learn/issues/21755 */display: inline-block !important;position: relative;}#sk-container-id-16 div.sk-text-repr-fallback {display: none;}</style><div id=\"sk-container-id-16\" class=\"sk-top-container\"><div class=\"sk-text-repr-fallback\"><pre>GridSearchCV(cv=7, estimator=KNeighborsClassifier(),\n",
              "             param_grid={&#x27;n_neighbors&#x27;: [3, 5, 7, 9]}, refit=&#x27;accuracy&#x27;,\n",
              "             scoring={&#x27;accuracy&#x27;: make_scorer(accuracy_score),\n",
              "                      &#x27;precision&#x27;: make_scorer(precision_score),\n",
              "                      &#x27;recall&#x27;: make_scorer(recall_score)})</pre><b>In a Jupyter environment, please rerun this cell to show the HTML representation or trust the notebook. <br />On GitHub, the HTML representation is unable to render, please try loading this page with nbviewer.org.</b></div><div class=\"sk-container\" hidden><div class=\"sk-item sk-dashed-wrapped\"><div class=\"sk-label-container\"><div class=\"sk-label sk-toggleable\"><input class=\"sk-toggleable__control sk-hidden--visually\" id=\"sk-estimator-id-46\" type=\"checkbox\" ><label for=\"sk-estimator-id-46\" class=\"sk-toggleable__label sk-toggleable__label-arrow\">GridSearchCV</label><div class=\"sk-toggleable__content\"><pre>GridSearchCV(cv=7, estimator=KNeighborsClassifier(),\n",
              "             param_grid={&#x27;n_neighbors&#x27;: [3, 5, 7, 9]}, refit=&#x27;accuracy&#x27;,\n",
              "             scoring={&#x27;accuracy&#x27;: make_scorer(accuracy_score),\n",
              "                      &#x27;precision&#x27;: make_scorer(precision_score),\n",
              "                      &#x27;recall&#x27;: make_scorer(recall_score)})</pre></div></div></div><div class=\"sk-parallel\"><div class=\"sk-parallel-item\"><div class=\"sk-item\"><div class=\"sk-label-container\"><div class=\"sk-label sk-toggleable\"><input class=\"sk-toggleable__control sk-hidden--visually\" id=\"sk-estimator-id-47\" type=\"checkbox\" ><label for=\"sk-estimator-id-47\" class=\"sk-toggleable__label sk-toggleable__label-arrow\">estimator: KNeighborsClassifier</label><div class=\"sk-toggleable__content\"><pre>KNeighborsClassifier()</pre></div></div></div><div class=\"sk-serial\"><div class=\"sk-item\"><div class=\"sk-estimator sk-toggleable\"><input class=\"sk-toggleable__control sk-hidden--visually\" id=\"sk-estimator-id-48\" type=\"checkbox\" ><label for=\"sk-estimator-id-48\" class=\"sk-toggleable__label sk-toggleable__label-arrow\">KNeighborsClassifier</label><div class=\"sk-toggleable__content\"><pre>KNeighborsClassifier()</pre></div></div></div></div></div></div></div></div></div></div>"
            ]
          },
          "metadata": {},
          "execution_count": 102
        }
      ]
    },
    {
      "cell_type": "markdown",
      "source": [
        "### scores"
      ],
      "metadata": {
        "id": "XZVS7OEPX-tR"
      }
    },
    {
      "cell_type": "code",
      "source": [
        "best_rf = grid_search.best_estimator_\n",
        "\n",
        "# Getting the results\n",
        "results_df = pd.DataFrame(grid_search.cv_results_)\n",
        "\n",
        "# Printing precision, recall, and accuracy scores\n",
        "print(\"Best Parameters:\", grid_search.best_params_)\n",
        "print(\"Best Score (Accuracy):\", grid_search.best_score_)\n",
        "\n",
        "# Accessing precision, recall, and accuracy scores from results_df\n",
        "print(\"Precision Scores:\", results_df[['param_n_neighbors', 'mean_test_precision']])\n",
        "print(\"Recall Scores:\", results_df[['param_n_neighbors', 'mean_test_recall']])\n",
        "print(\"Accuracy Scores:\", results_df[['param_n_neighbors', 'mean_test_accuracy']])\n"
      ],
      "metadata": {
        "colab": {
          "base_uri": "https://localhost:8080/"
        },
        "id": "k9jhGQ1FX-tR",
        "outputId": "a471dfc8-6f36-4d38-8a5e-1c2317bcd6cd"
      },
      "execution_count": null,
      "outputs": [
        {
          "output_type": "stream",
          "name": "stdout",
          "text": [
            "Best Parameters: {'n_neighbors': 3}\n",
            "Best Score (Accuracy): 0.585685779381461\n",
            "Precision Scores:   param_n_neighbors  mean_test_precision\n",
            "0                 3             0.559979\n",
            "1                 5             0.543187\n",
            "2                 7             0.534177\n",
            "3                 9             0.527317\n",
            "Recall Scores:   param_n_neighbors  mean_test_recall\n",
            "0                 3          0.537860\n",
            "1                 5          0.508062\n",
            "2                 7          0.491070\n",
            "3                 9          0.471860\n",
            "Accuracy Scores:   param_n_neighbors  mean_test_accuracy\n",
            "0                 3            0.585686\n",
            "1                 5            0.569366\n",
            "2                 7            0.560887\n",
            "3                 9            0.554274\n"
          ]
        }
      ]
    },
    {
      "cell_type": "code",
      "source": [
        "# Printing precision, recall, and accuracy scores for the best parameters\n",
        "best_precision = results_df[results_df['rank_test_accuracy'] == 1][['param_n_neighbors', 'mean_test_precision']]\n",
        "best_recall = results_df[results_df['rank_test_accuracy'] == 1][['param_n_neighbors', 'mean_test_recall']]\n",
        "best_accuracy = results_df[results_df['rank_test_accuracy'] == 1][['param_n_neighbors', 'mean_test_accuracy']]\n",
        "\n",
        "print(\"\\nBest Precision Scores:\")\n",
        "print(best_precision)\n",
        "\n",
        "print(\"\\nBest Recall Scores:\")\n",
        "print(best_recall)\n",
        "\n",
        "print(\"\\nBest Accuracy Scores:\")\n",
        "print(best_accuracy)"
      ],
      "metadata": {
        "colab": {
          "base_uri": "https://localhost:8080/"
        },
        "id": "3XhrBbeEX-tR",
        "outputId": "778a3c93-ede0-4dae-e864-2b87d53e1539"
      },
      "execution_count": null,
      "outputs": [
        {
          "output_type": "stream",
          "name": "stdout",
          "text": [
            "\n",
            "Best Precision Scores:\n",
            "  param_n_neighbors  mean_test_precision\n",
            "0                 3             0.559979\n",
            "\n",
            "Best Recall Scores:\n",
            "  param_n_neighbors  mean_test_recall\n",
            "0                 3           0.53786\n",
            "\n",
            "Best Accuracy Scores:\n",
            "  param_n_neighbors  mean_test_accuracy\n",
            "0                 3            0.585686\n"
          ]
        }
      ]
    },
    {
      "cell_type": "code",
      "source": [
        "# To access recall scores for each fold (for demonstration purposes)\n",
        "results = grid_search.cv_results_\n",
        "for fold_idx in range(grid_search.cv):\n",
        "    fold_recall_key = f\"split{fold_idx}_test_recall\"\n",
        "    fold_recall = results[fold_recall_key]\n",
        "    print(f\"Fold {fold_idx + 1} Recall:\", fold_recall)\n",
        "\n",
        "results = grid_search.cv_results_\n",
        "for fold_idx in range(grid_search.cv):\n",
        "    fold_precision_key = f\"split{fold_idx}_test_precision\"\n",
        "    fold_precision = results[fold_precision_key]\n",
        "    print(f\"Fold {fold_idx + 1} Precision:\", fold_precision)\n",
        "\n",
        "results = grid_search.cv_results_\n",
        "for fold_idx in range(grid_search.cv):\n",
        "    fold_accuracy_key = f\"split{fold_idx}_test_accuracy\"\n",
        "    fold_accuracy = results[fold_accuracy_key]\n",
        "    print(f\"Fold {fold_idx + 1} Accuracy:\", fold_accuracy)"
      ],
      "metadata": {
        "colab": {
          "base_uri": "https://localhost:8080/"
        },
        "id": "oAFxWx8bX-tR",
        "outputId": "41499107-8635-4bdd-879c-c662f67043a1"
      },
      "execution_count": null,
      "outputs": [
        {
          "output_type": "stream",
          "name": "stdout",
          "text": [
            "Fold 1 Recall: [0.69230769 0.62032463 0.5843331  0.55292872]\n",
            "Fold 2 Recall: [0.49452877 0.47687963 0.46487822 0.4511119 ]\n",
            "Fold 3 Recall: [0.48252736 0.45005295 0.44722909 0.44405224]\n",
            "Fold 4 Recall: [0.45534769 0.44193435 0.4306389  0.41404871]\n",
            "Fold 5 Recall: [0.47370279 0.46911401 0.45287681 0.43769855]\n",
            "Fold 6 Recall: [0.51394282 0.50123544 0.48429227 0.46417226]\n",
            "Fold 7 Recall: [0.65266502 0.59689375 0.57324391 0.53900459]\n",
            "Fold 1 Precision: [0.71605839 0.66767945 0.63423975 0.61595912]\n",
            "Fold 2 Precision: [0.52550638 0.5188172  0.52282652 0.5112    ]\n",
            "Fold 3 Precision: [0.49368003 0.48076923 0.48193229 0.48608964]\n",
            "Fold 4 Precision: [0.47813195 0.47586469 0.46671767 0.4607227 ]\n",
            "Fold 5 Precision: [0.48853295 0.49131238 0.48323917 0.4815534 ]\n",
            "Fold 6 Precision: [0.53866075 0.53143713 0.52446483 0.52684295]\n",
            "Fold 7 Precision: [0.67927994 0.63643207 0.62581888 0.60885167]\n",
            "Fold 1 Accuracy: [0.72722764 0.67746735 0.64737973 0.62902959]\n",
            "Fold 2 Accuracy: [0.55414118 0.54785915 0.55066953 0.54091585]\n",
            "Fold 3 Accuracy: [0.52587204 0.51479583 0.51595305 0.51975533]\n",
            "Fold 4 Accuracy: [0.51215077 0.51066292 0.50289304 0.49859481]\n",
            "Fold 5 Accuracy: [0.52124318 0.52388825 0.51694495 0.51595305]\n",
            "Fold 6 Accuracy: [0.56620929 0.55943131 0.55281865 0.55381055]\n",
            "Fold 7 Accuracy: [0.69295635 0.65145503 0.63955026 0.62185847]\n"
          ]
        }
      ]
    },
    {
      "cell_type": "code",
      "source": [
        "# Initialize variables to store the best accuracy and its corresponding fold index\n",
        "best_accuracy = 0.0\n",
        "best_fold_index = -1\n",
        "\n",
        "# Iterate through each fold to find the one with the highest accuracy\n",
        "for fold_idx in range(grid_search.cv):\n",
        "    fold_accuracy_key = f\"split{fold_idx}_test_accuracy\"\n",
        "    fold_accuracy = results[fold_accuracy_key]\n",
        "\n",
        "    max_fold_accuracy = max(fold_accuracy)\n",
        "    if max_fold_accuracy > best_accuracy:\n",
        "        best_accuracy = max_fold_accuracy\n",
        "        best_fold_index = fold_idx\n",
        "\n",
        "# If a fold with the highest accuracy is found, retrieve its precision, recall, and parameters\n",
        "if best_fold_index != -1:\n",
        "    fold_precision_key = f\"split{best_fold_index}_test_precision\"\n",
        "    fold_recall_key = f\"split{best_fold_index}_test_recall\"\n",
        "    # fold_params = results['params'][best_fold_index]\n",
        "\n",
        "    best_fold_precision = results[fold_precision_key][best_accuracy.argmax()]\n",
        "    best_fold_recall = results[fold_recall_key][best_accuracy.argmax()]\n",
        "\n",
        "    # Printing the best accuracy value, its corresponding precision, recall, and parameters\n",
        "    print(f\"Best Accuracy: {best_accuracy}\")\n",
        "    print(f\"Corresponding Precision: {best_fold_precision}\")\n",
        "    print(f\"Corresponding Recall: {best_fold_recall}\")\n",
        "    # print(f\"Parameters for Best Accuracy: {fold_params}\")\n",
        "else:\n",
        "    print(\"No fold found with the highest accuracy.\")\n"
      ],
      "metadata": {
        "colab": {
          "base_uri": "https://localhost:8080/"
        },
        "id": "uuibSR-Sm3Hl",
        "outputId": "a66bce9b-5ff8-403f-a80a-e20db56067d6"
      },
      "execution_count": null,
      "outputs": [
        {
          "output_type": "stream",
          "name": "stdout",
          "text": [
            "Best Accuracy: 0.7272276409323856\n",
            "Corresponding Precision: 0.7160583941605839\n",
            "Corresponding Recall: 0.6923076923076923\n"
          ]
        }
      ]
    },
    {
      "cell_type": "markdown",
      "source": [
        "## QDA"
      ],
      "metadata": {
        "id": "KlFgsILwb5Iu"
      }
    },
    {
      "cell_type": "code",
      "source": [
        "# Assuming you have a RandomForestClassifier instance 'rf_classifier' and your data 'X', 'y'\n",
        "param_grid = {\n",
        "    # 'reg_param': [0.001, 0.01, 0.1, 1.0]\n",
        "}\n",
        "\n",
        "# Create a dictionary of scoring metrics\n",
        "scoring = {\n",
        "    'precision': make_scorer(precision_score),\n",
        "    'recall': make_scorer(recall_score),\n",
        "    'accuracy': make_scorer(accuracy_score)\n",
        "}\n",
        "\n",
        "grid_search = GridSearchCV(QuadraticDiscriminantAnalysis(), param_grid, cv=7, scoring=scoring, refit='accuracy')\n",
        "grid_search.fit(X, y)"
      ],
      "metadata": {
        "colab": {
          "base_uri": "https://localhost:8080/",
          "height": 118
        },
        "outputId": "a1ec7f30-3826-480b-c666-51a4417df41a",
        "id": "vkVA3KZHb5Iv"
      },
      "execution_count": null,
      "outputs": [
        {
          "output_type": "execute_result",
          "data": {
            "text/plain": [
              "GridSearchCV(cv=7, estimator=QuadraticDiscriminantAnalysis(), param_grid={},\n",
              "             refit='accuracy',\n",
              "             scoring={'accuracy': make_scorer(accuracy_score),\n",
              "                      'precision': make_scorer(precision_score),\n",
              "                      'recall': make_scorer(recall_score)})"
            ],
            "text/html": [
              "<style>#sk-container-id-3 {color: black;background-color: white;}#sk-container-id-3 pre{padding: 0;}#sk-container-id-3 div.sk-toggleable {background-color: white;}#sk-container-id-3 label.sk-toggleable__label {cursor: pointer;display: block;width: 100%;margin-bottom: 0;padding: 0.3em;box-sizing: border-box;text-align: center;}#sk-container-id-3 label.sk-toggleable__label-arrow:before {content: \"▸\";float: left;margin-right: 0.25em;color: #696969;}#sk-container-id-3 label.sk-toggleable__label-arrow:hover:before {color: black;}#sk-container-id-3 div.sk-estimator:hover label.sk-toggleable__label-arrow:before {color: black;}#sk-container-id-3 div.sk-toggleable__content {max-height: 0;max-width: 0;overflow: hidden;text-align: left;background-color: #f0f8ff;}#sk-container-id-3 div.sk-toggleable__content pre {margin: 0.2em;color: black;border-radius: 0.25em;background-color: #f0f8ff;}#sk-container-id-3 input.sk-toggleable__control:checked~div.sk-toggleable__content {max-height: 200px;max-width: 100%;overflow: auto;}#sk-container-id-3 input.sk-toggleable__control:checked~label.sk-toggleable__label-arrow:before {content: \"▾\";}#sk-container-id-3 div.sk-estimator input.sk-toggleable__control:checked~label.sk-toggleable__label {background-color: #d4ebff;}#sk-container-id-3 div.sk-label input.sk-toggleable__control:checked~label.sk-toggleable__label {background-color: #d4ebff;}#sk-container-id-3 input.sk-hidden--visually {border: 0;clip: rect(1px 1px 1px 1px);clip: rect(1px, 1px, 1px, 1px);height: 1px;margin: -1px;overflow: hidden;padding: 0;position: absolute;width: 1px;}#sk-container-id-3 div.sk-estimator {font-family: monospace;background-color: #f0f8ff;border: 1px dotted black;border-radius: 0.25em;box-sizing: border-box;margin-bottom: 0.5em;}#sk-container-id-3 div.sk-estimator:hover {background-color: #d4ebff;}#sk-container-id-3 div.sk-parallel-item::after {content: \"\";width: 100%;border-bottom: 1px solid gray;flex-grow: 1;}#sk-container-id-3 div.sk-label:hover label.sk-toggleable__label {background-color: #d4ebff;}#sk-container-id-3 div.sk-serial::before {content: \"\";position: absolute;border-left: 1px solid gray;box-sizing: border-box;top: 0;bottom: 0;left: 50%;z-index: 0;}#sk-container-id-3 div.sk-serial {display: flex;flex-direction: column;align-items: center;background-color: white;padding-right: 0.2em;padding-left: 0.2em;position: relative;}#sk-container-id-3 div.sk-item {position: relative;z-index: 1;}#sk-container-id-3 div.sk-parallel {display: flex;align-items: stretch;justify-content: center;background-color: white;position: relative;}#sk-container-id-3 div.sk-item::before, #sk-container-id-3 div.sk-parallel-item::before {content: \"\";position: absolute;border-left: 1px solid gray;box-sizing: border-box;top: 0;bottom: 0;left: 50%;z-index: -1;}#sk-container-id-3 div.sk-parallel-item {display: flex;flex-direction: column;z-index: 1;position: relative;background-color: white;}#sk-container-id-3 div.sk-parallel-item:first-child::after {align-self: flex-end;width: 50%;}#sk-container-id-3 div.sk-parallel-item:last-child::after {align-self: flex-start;width: 50%;}#sk-container-id-3 div.sk-parallel-item:only-child::after {width: 0;}#sk-container-id-3 div.sk-dashed-wrapped {border: 1px dashed gray;margin: 0 0.4em 0.5em 0.4em;box-sizing: border-box;padding-bottom: 0.4em;background-color: white;}#sk-container-id-3 div.sk-label label {font-family: monospace;font-weight: bold;display: inline-block;line-height: 1.2em;}#sk-container-id-3 div.sk-label-container {text-align: center;}#sk-container-id-3 div.sk-container {/* jupyter's `normalize.less` sets `[hidden] { display: none; }` but bootstrap.min.css set `[hidden] { display: none !important; }` so we also need the `!important` here to be able to override the default hidden behavior on the sphinx rendered scikit-learn.org. See: https://github.com/scikit-learn/scikit-learn/issues/21755 */display: inline-block !important;position: relative;}#sk-container-id-3 div.sk-text-repr-fallback {display: none;}</style><div id=\"sk-container-id-3\" class=\"sk-top-container\"><div class=\"sk-text-repr-fallback\"><pre>GridSearchCV(cv=7, estimator=QuadraticDiscriminantAnalysis(), param_grid={},\n",
              "             refit=&#x27;accuracy&#x27;,\n",
              "             scoring={&#x27;accuracy&#x27;: make_scorer(accuracy_score),\n",
              "                      &#x27;precision&#x27;: make_scorer(precision_score),\n",
              "                      &#x27;recall&#x27;: make_scorer(recall_score)})</pre><b>In a Jupyter environment, please rerun this cell to show the HTML representation or trust the notebook. <br />On GitHub, the HTML representation is unable to render, please try loading this page with nbviewer.org.</b></div><div class=\"sk-container\" hidden><div class=\"sk-item sk-dashed-wrapped\"><div class=\"sk-label-container\"><div class=\"sk-label sk-toggleable\"><input class=\"sk-toggleable__control sk-hidden--visually\" id=\"sk-estimator-id-7\" type=\"checkbox\" ><label for=\"sk-estimator-id-7\" class=\"sk-toggleable__label sk-toggleable__label-arrow\">GridSearchCV</label><div class=\"sk-toggleable__content\"><pre>GridSearchCV(cv=7, estimator=QuadraticDiscriminantAnalysis(), param_grid={},\n",
              "             refit=&#x27;accuracy&#x27;,\n",
              "             scoring={&#x27;accuracy&#x27;: make_scorer(accuracy_score),\n",
              "                      &#x27;precision&#x27;: make_scorer(precision_score),\n",
              "                      &#x27;recall&#x27;: make_scorer(recall_score)})</pre></div></div></div><div class=\"sk-parallel\"><div class=\"sk-parallel-item\"><div class=\"sk-item\"><div class=\"sk-label-container\"><div class=\"sk-label sk-toggleable\"><input class=\"sk-toggleable__control sk-hidden--visually\" id=\"sk-estimator-id-8\" type=\"checkbox\" ><label for=\"sk-estimator-id-8\" class=\"sk-toggleable__label sk-toggleable__label-arrow\">estimator: QuadraticDiscriminantAnalysis</label><div class=\"sk-toggleable__content\"><pre>QuadraticDiscriminantAnalysis()</pre></div></div></div><div class=\"sk-serial\"><div class=\"sk-item\"><div class=\"sk-estimator sk-toggleable\"><input class=\"sk-toggleable__control sk-hidden--visually\" id=\"sk-estimator-id-9\" type=\"checkbox\" ><label for=\"sk-estimator-id-9\" class=\"sk-toggleable__label sk-toggleable__label-arrow\">QuadraticDiscriminantAnalysis</label><div class=\"sk-toggleable__content\"><pre>QuadraticDiscriminantAnalysis()</pre></div></div></div></div></div></div></div></div></div></div>"
            ]
          },
          "metadata": {},
          "execution_count": 32
        }
      ]
    },
    {
      "cell_type": "markdown",
      "source": [
        "### scores"
      ],
      "metadata": {
        "id": "FSFKvberb5Iv"
      }
    },
    {
      "cell_type": "code",
      "source": [
        "best_rf = grid_search.best_estimator_\n",
        "\n",
        "# Getting the results\n",
        "results_df = pd.DataFrame(grid_search.cv_results_)\n",
        "\n",
        "# Printing precision, recall, and accuracy scores\n",
        "print(\"Best Parameters:\", grid_search.best_params_)\n",
        "print(\"Best Score (Accuracy):\", grid_search.best_score_)\n",
        "\n",
        "# Accessing precision, recall, and accuracy scores from results_df\n",
        "print(\"Precision Scores:\", results_df[['param_reg_param', 'mean_test_precision']])\n",
        "print(\"Recall Scores:\", results_df[['param_reg_param', 'mean_test_recall']])\n",
        "print(\"Accuracy Scores:\", results_df[['param_reg_param', 'mean_test_accuracy']])\n"
      ],
      "metadata": {
        "colab": {
          "base_uri": "https://localhost:8080/",
          "height": 426
        },
        "outputId": "2ac3f157-96cf-44b1-b2a4-02fcf6356c04",
        "id": "O4iaWS2ob5Iw"
      },
      "execution_count": null,
      "outputs": [
        {
          "output_type": "stream",
          "name": "stdout",
          "text": [
            "Best Parameters: {}\n",
            "Best Score (Accuracy): 0.647967450283506\n"
          ]
        },
        {
          "output_type": "error",
          "ename": "KeyError",
          "evalue": "ignored",
          "traceback": [
            "\u001b[0;31m---------------------------------------------------------------------------\u001b[0m",
            "\u001b[0;31mKeyError\u001b[0m                                  Traceback (most recent call last)",
            "\u001b[0;32m<ipython-input-33-8b2c35c84239>\u001b[0m in \u001b[0;36m<cell line: 11>\u001b[0;34m()\u001b[0m\n\u001b[1;32m      9\u001b[0m \u001b[0;34m\u001b[0m\u001b[0m\n\u001b[1;32m     10\u001b[0m \u001b[0;31m# Accessing precision, recall, and accuracy scores from results_df\u001b[0m\u001b[0;34m\u001b[0m\u001b[0;34m\u001b[0m\u001b[0m\n\u001b[0;32m---> 11\u001b[0;31m \u001b[0mprint\u001b[0m\u001b[0;34m(\u001b[0m\u001b[0;34m\"Precision Scores:\"\u001b[0m\u001b[0;34m,\u001b[0m \u001b[0mresults_df\u001b[0m\u001b[0;34m[\u001b[0m\u001b[0;34m[\u001b[0m\u001b[0;34m'param_reg_param'\u001b[0m\u001b[0;34m,\u001b[0m \u001b[0;34m'mean_test_precision'\u001b[0m\u001b[0;34m]\u001b[0m\u001b[0;34m]\u001b[0m\u001b[0;34m)\u001b[0m\u001b[0;34m\u001b[0m\u001b[0;34m\u001b[0m\u001b[0m\n\u001b[0m\u001b[1;32m     12\u001b[0m \u001b[0mprint\u001b[0m\u001b[0;34m(\u001b[0m\u001b[0;34m\"Recall Scores:\"\u001b[0m\u001b[0;34m,\u001b[0m \u001b[0mresults_df\u001b[0m\u001b[0;34m[\u001b[0m\u001b[0;34m[\u001b[0m\u001b[0;34m'param_reg_param'\u001b[0m\u001b[0;34m,\u001b[0m \u001b[0;34m'mean_test_recall'\u001b[0m\u001b[0;34m]\u001b[0m\u001b[0;34m]\u001b[0m\u001b[0;34m)\u001b[0m\u001b[0;34m\u001b[0m\u001b[0;34m\u001b[0m\u001b[0m\n\u001b[1;32m     13\u001b[0m \u001b[0mprint\u001b[0m\u001b[0;34m(\u001b[0m\u001b[0;34m\"Accuracy Scores:\"\u001b[0m\u001b[0;34m,\u001b[0m \u001b[0mresults_df\u001b[0m\u001b[0;34m[\u001b[0m\u001b[0;34m[\u001b[0m\u001b[0;34m'param_reg_param'\u001b[0m\u001b[0;34m,\u001b[0m \u001b[0;34m'mean_test_accuracy'\u001b[0m\u001b[0;34m]\u001b[0m\u001b[0;34m]\u001b[0m\u001b[0;34m)\u001b[0m\u001b[0;34m\u001b[0m\u001b[0;34m\u001b[0m\u001b[0m\n",
            "\u001b[0;32m/usr/local/lib/python3.10/dist-packages/pandas/core/frame.py\u001b[0m in \u001b[0;36m__getitem__\u001b[0;34m(self, key)\u001b[0m\n\u001b[1;32m   3811\u001b[0m             \u001b[0;32mif\u001b[0m \u001b[0mis_iterator\u001b[0m\u001b[0;34m(\u001b[0m\u001b[0mkey\u001b[0m\u001b[0;34m)\u001b[0m\u001b[0;34m:\u001b[0m\u001b[0;34m\u001b[0m\u001b[0;34m\u001b[0m\u001b[0m\n\u001b[1;32m   3812\u001b[0m                 \u001b[0mkey\u001b[0m \u001b[0;34m=\u001b[0m \u001b[0mlist\u001b[0m\u001b[0;34m(\u001b[0m\u001b[0mkey\u001b[0m\u001b[0;34m)\u001b[0m\u001b[0;34m\u001b[0m\u001b[0;34m\u001b[0m\u001b[0m\n\u001b[0;32m-> 3813\u001b[0;31m             \u001b[0mindexer\u001b[0m \u001b[0;34m=\u001b[0m \u001b[0mself\u001b[0m\u001b[0;34m.\u001b[0m\u001b[0mcolumns\u001b[0m\u001b[0;34m.\u001b[0m\u001b[0m_get_indexer_strict\u001b[0m\u001b[0;34m(\u001b[0m\u001b[0mkey\u001b[0m\u001b[0;34m,\u001b[0m \u001b[0;34m\"columns\"\u001b[0m\u001b[0;34m)\u001b[0m\u001b[0;34m[\u001b[0m\u001b[0;36m1\u001b[0m\u001b[0;34m]\u001b[0m\u001b[0;34m\u001b[0m\u001b[0;34m\u001b[0m\u001b[0m\n\u001b[0m\u001b[1;32m   3814\u001b[0m \u001b[0;34m\u001b[0m\u001b[0m\n\u001b[1;32m   3815\u001b[0m         \u001b[0;31m# take() does not accept boolean indexers\u001b[0m\u001b[0;34m\u001b[0m\u001b[0;34m\u001b[0m\u001b[0m\n",
            "\u001b[0;32m/usr/local/lib/python3.10/dist-packages/pandas/core/indexes/base.py\u001b[0m in \u001b[0;36m_get_indexer_strict\u001b[0;34m(self, key, axis_name)\u001b[0m\n\u001b[1;32m   6068\u001b[0m             \u001b[0mkeyarr\u001b[0m\u001b[0;34m,\u001b[0m \u001b[0mindexer\u001b[0m\u001b[0;34m,\u001b[0m \u001b[0mnew_indexer\u001b[0m \u001b[0;34m=\u001b[0m \u001b[0mself\u001b[0m\u001b[0;34m.\u001b[0m\u001b[0m_reindex_non_unique\u001b[0m\u001b[0;34m(\u001b[0m\u001b[0mkeyarr\u001b[0m\u001b[0;34m)\u001b[0m\u001b[0;34m\u001b[0m\u001b[0;34m\u001b[0m\u001b[0m\n\u001b[1;32m   6069\u001b[0m \u001b[0;34m\u001b[0m\u001b[0m\n\u001b[0;32m-> 6070\u001b[0;31m         \u001b[0mself\u001b[0m\u001b[0;34m.\u001b[0m\u001b[0m_raise_if_missing\u001b[0m\u001b[0;34m(\u001b[0m\u001b[0mkeyarr\u001b[0m\u001b[0;34m,\u001b[0m \u001b[0mindexer\u001b[0m\u001b[0;34m,\u001b[0m \u001b[0maxis_name\u001b[0m\u001b[0;34m)\u001b[0m\u001b[0;34m\u001b[0m\u001b[0;34m\u001b[0m\u001b[0m\n\u001b[0m\u001b[1;32m   6071\u001b[0m \u001b[0;34m\u001b[0m\u001b[0m\n\u001b[1;32m   6072\u001b[0m         \u001b[0mkeyarr\u001b[0m \u001b[0;34m=\u001b[0m \u001b[0mself\u001b[0m\u001b[0;34m.\u001b[0m\u001b[0mtake\u001b[0m\u001b[0;34m(\u001b[0m\u001b[0mindexer\u001b[0m\u001b[0;34m)\u001b[0m\u001b[0;34m\u001b[0m\u001b[0;34m\u001b[0m\u001b[0m\n",
            "\u001b[0;32m/usr/local/lib/python3.10/dist-packages/pandas/core/indexes/base.py\u001b[0m in \u001b[0;36m_raise_if_missing\u001b[0;34m(self, key, indexer, axis_name)\u001b[0m\n\u001b[1;32m   6131\u001b[0m \u001b[0;34m\u001b[0m\u001b[0m\n\u001b[1;32m   6132\u001b[0m             \u001b[0mnot_found\u001b[0m \u001b[0;34m=\u001b[0m \u001b[0mlist\u001b[0m\u001b[0;34m(\u001b[0m\u001b[0mensure_index\u001b[0m\u001b[0;34m(\u001b[0m\u001b[0mkey\u001b[0m\u001b[0;34m)\u001b[0m\u001b[0;34m[\u001b[0m\u001b[0mmissing_mask\u001b[0m\u001b[0;34m.\u001b[0m\u001b[0mnonzero\u001b[0m\u001b[0;34m(\u001b[0m\u001b[0;34m)\u001b[0m\u001b[0;34m[\u001b[0m\u001b[0;36m0\u001b[0m\u001b[0;34m]\u001b[0m\u001b[0;34m]\u001b[0m\u001b[0;34m.\u001b[0m\u001b[0munique\u001b[0m\u001b[0;34m(\u001b[0m\u001b[0;34m)\u001b[0m\u001b[0;34m)\u001b[0m\u001b[0;34m\u001b[0m\u001b[0;34m\u001b[0m\u001b[0m\n\u001b[0;32m-> 6133\u001b[0;31m             \u001b[0;32mraise\u001b[0m \u001b[0mKeyError\u001b[0m\u001b[0;34m(\u001b[0m\u001b[0;34mf\"{not_found} not in index\"\u001b[0m\u001b[0;34m)\u001b[0m\u001b[0;34m\u001b[0m\u001b[0;34m\u001b[0m\u001b[0m\n\u001b[0m\u001b[1;32m   6134\u001b[0m \u001b[0;34m\u001b[0m\u001b[0m\n\u001b[1;32m   6135\u001b[0m     \u001b[0;34m@\u001b[0m\u001b[0moverload\u001b[0m\u001b[0;34m\u001b[0m\u001b[0;34m\u001b[0m\u001b[0m\n",
            "\u001b[0;31mKeyError\u001b[0m: \"['param_reg_param'] not in index\""
          ]
        }
      ]
    },
    {
      "cell_type": "code",
      "source": [
        "# Printing precision, recall, and accuracy scores for the best parameters\n",
        "best_precision = results_df[results_df['rank_test_accuracy'] == 1][['param_reg_param', 'mean_test_precision']]\n",
        "best_recall = results_df[results_df['rank_test_accuracy'] == 1][['param_reg_param', 'mean_test_recall']]\n",
        "best_accuracy = results_df[results_df['rank_test_accuracy'] == 1][['param_reg_param', 'mean_test_accuracy']]\n",
        "\n",
        "print(\"\\nBest Precision Scores:\")\n",
        "print(best_precision)\n",
        "\n",
        "print(\"\\nBest Recall Scores:\")\n",
        "print(best_recall)\n",
        "\n",
        "print(\"\\nBest Accuracy Scores:\")\n",
        "print(best_accuracy)"
      ],
      "metadata": {
        "id": "aXNYScDTb5Iw"
      },
      "execution_count": null,
      "outputs": []
    },
    {
      "cell_type": "code",
      "source": [
        "# To access recall scores for each fold (for demonstration purposes)\n",
        "results = grid_search.cv_results_\n",
        "for fold_idx in range(grid_search.cv):\n",
        "    fold_recall_key = f\"split{fold_idx}_test_recall\"\n",
        "    fold_recall = results[fold_recall_key]\n",
        "    print(f\"Fold {fold_idx + 1} Recall:\", fold_recall)\n",
        "\n",
        "results = grid_search.cv_results_\n",
        "for fold_idx in range(grid_search.cv):\n",
        "    fold_precision_key = f\"split{fold_idx}_test_precision\"\n",
        "    fold_precision = results[fold_precision_key]\n",
        "    print(f\"Fold {fold_idx + 1} Precision:\", fold_precision)\n",
        "\n",
        "results = grid_search.cv_results_\n",
        "for fold_idx in range(grid_search.cv):\n",
        "    fold_accuracy_key = f\"split{fold_idx}_test_accuracy\"\n",
        "    fold_accuracy = results[fold_accuracy_key]\n",
        "    print(f\"Fold {fold_idx + 1} Accuracy:\", fold_accuracy)"
      ],
      "metadata": {
        "colab": {
          "base_uri": "https://localhost:8080/"
        },
        "outputId": "87ea412f-a557-4f6a-8b84-b8cc0dcf726f",
        "id": "ukiZKHZkb5Iw"
      },
      "execution_count": null,
      "outputs": [
        {
          "output_type": "stream",
          "name": "stdout",
          "text": [
            "Fold 1 Recall: [0.950247]\n",
            "Fold 2 Recall: [0.56088952]\n",
            "Fold 3 Recall: [0.57359689]\n",
            "Fold 4 Recall: [0.53335687]\n",
            "Fold 5 Recall: [0.55594776]\n",
            "Fold 6 Recall: [0.6244264]\n",
            "Fold 7 Recall: [0.90187081]\n",
            "Fold 1 Precision: [0.92005466]\n",
            "Fold 2 Precision: [0.53375882]\n",
            "Fold 3 Precision: [0.4789272]\n",
            "Fold 4 Precision: [0.47575567]\n",
            "Fold 5 Precision: [0.48357384]\n",
            "Fold 6 Precision: [0.58770764]\n",
            "Fold 7 Precision: [0.86084906]\n",
            "Fold 1 Accuracy: [0.93800628]\n",
            "Fold 2 Accuracy: [0.56488676]\n",
            "Fold 3 Accuracy: [0.50801785]\n",
            "Fold 4 Accuracy: [0.50619937]\n",
            "Fold 5 Accuracy: [0.51396925]\n",
            "Fold 6 Accuracy: [0.61894528]\n",
            "Fold 7 Accuracy: [0.88574735]\n"
          ]
        }
      ]
    },
    {
      "cell_type": "code",
      "source": [
        "from sklearn.model_selection import cross_val_predict\n",
        "from sklearn.metrics import confusion_matrix\n",
        "\n",
        "# Assuming 'best_rf' is your best estimator\n",
        "# Replace 'best_rf' with grid_search.best_estimator_ if needed\n",
        "best_rf = grid_search.best_estimator_\n",
        "\n",
        "# Get cross-validated predictions\n",
        "predicted = cross_val_predict(best_rf, X, y, cv=grid_search.cv)\n",
        "\n",
        "# Calculate the confusion matrix for each fold\n",
        "for fold_idx in range(grid_search.cv):\n",
        "    start_idx = fold_idx * len(y) // grid_search.cv\n",
        "    end_idx = (fold_idx + 1) * len(y) // grid_search.cv\n",
        "\n",
        "    fold_labels = y[start_idx:end_idx]\n",
        "    fold_predictions = predicted[start_idx:end_idx]\n",
        "\n",
        "    fold_conf_matrix = confusion_matrix(fold_labels, fold_predictions)\n",
        "    print(f\"Confusion Matrix for Fold {fold_idx + 1}:\\n\", fold_conf_matrix)\n"
      ],
      "metadata": {
        "colab": {
          "base_uri": "https://localhost:8080/"
        },
        "id": "qHNIaT9X8gz8",
        "outputId": "42bcdb22-b3aa-40da-e40d-9bec031ad57c"
      },
      "execution_count": null,
      "outputs": [
        {
          "output_type": "stream",
          "name": "stdout",
          "text": [
            "Confusion Matrix for Fold 1:\n",
            " [[3017  236]\n",
            " [ 139 2656]]\n",
            "Confusion Matrix for Fold 2:\n",
            " [[1826 1441]\n",
            " [1202 1580]]\n",
            "Confusion Matrix for Fold 3:\n",
            " [[1452 1753]\n",
            " [1218 1626]]\n",
            "Confusion Matrix for Fold 4:\n",
            " [[1471 1578]\n",
            " [1390 1610]]\n",
            "Confusion Matrix for Fold 5:\n",
            " [[1535 1687]\n",
            " [1266 1561]]\n",
            "Confusion Matrix for Fold 6:\n",
            " [[1971 1281]\n",
            " [1025 1772]]\n",
            "Confusion Matrix for Fold 7:\n",
            " [[2847  415]\n",
            " [ 275 2512]]\n"
          ]
        }
      ]
    },
    {
      "cell_type": "code",
      "source": [
        "# Initialize variables to store the best accuracy and its corresponding fold index\n",
        "best_accuracy = 0.0\n",
        "best_fold_index = -1\n",
        "\n",
        "# Iterate through each fold to find the one with the highest accuracy\n",
        "for fold_idx in range(grid_search.cv):\n",
        "    fold_accuracy_key = f\"split{fold_idx}_test_accuracy\"\n",
        "    fold_accuracy = results[fold_accuracy_key]\n",
        "\n",
        "    max_fold_accuracy = max(fold_accuracy)\n",
        "    if max_fold_accuracy > best_accuracy:\n",
        "        best_accuracy = max_fold_accuracy\n",
        "        best_fold_index = fold_idx\n",
        "\n",
        "# If a fold with the highest accuracy is found, retrieve its precision, recall, and parameters\n",
        "if best_fold_index != -1:\n",
        "    fold_precision_key = f\"split{best_fold_index}_test_precision\"\n",
        "    fold_recall_key = f\"split{best_fold_index}_test_recall\"\n",
        "    # fold_params = results['params'][best_fold_index]\n",
        "\n",
        "    best_fold_precision = results[fold_precision_key][best_accuracy.argmax()]\n",
        "    best_fold_recall = results[fold_recall_key][best_accuracy.argmax()]\n",
        "\n",
        "    # Printing the best accuracy value, its corresponding precision, recall, and parameters\n",
        "    print(f\"Best Accuracy: {best_accuracy}\")\n",
        "    print(f\"Corresponding Precision: {best_fold_precision}\")\n",
        "    print(f\"Corresponding Recall: {best_fold_recall}\")\n",
        "    # print(f\"Parameters for Best Accuracy: {fold_params}\")\n",
        "else:\n",
        "    print(\"No fold found with the highest accuracy.\")\n"
      ],
      "metadata": {
        "colab": {
          "base_uri": "https://localhost:8080/"
        },
        "outputId": "fdd0e179-4054-4136-a314-e13e2af96e3f",
        "id": "CRpYbM3Pb5Iw"
      },
      "execution_count": null,
      "outputs": [
        {
          "output_type": "stream",
          "name": "stdout",
          "text": [
            "Best Accuracy: 0.9380062820300876\n",
            "Corresponding Precision: 0.9200546634779638\n",
            "Corresponding Recall: 0.9502470007057163\n"
          ]
        }
      ]
    },
    {
      "cell_type": "code",
      "source": [],
      "metadata": {
        "id": "6RhKCWSRb6x4"
      },
      "execution_count": null,
      "outputs": []
    }
  ]
}